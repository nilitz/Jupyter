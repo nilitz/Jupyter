{
 "cells": [
  {
   "cell_type": "code",
   "execution_count": 1,
   "metadata": {
    "collapsed": true
   },
   "outputs": [
    {
     "ename": "SyntaxError",
     "evalue": "invalid syntax (<ipython-input-1-99edda6d39a3>, line 12)",
     "output_type": "error",
     "traceback": [
      "\u001B[1;36m  File \u001B[1;32m\"<ipython-input-1-99edda6d39a3>\"\u001B[1;36m, line \u001B[1;32m12\u001B[0m\n\u001B[1;33m    prob +=  #A COMPLETER\u001B[0m\n\u001B[1;37m             ^\u001B[0m\n\u001B[1;31mSyntaxError\u001B[0m\u001B[1;31m:\u001B[0m invalid syntax\n"
     ]
    }
   ],
   "source": [
    "from pulp import *\n",
    "import numpy as np\n",
    "\n",
    "X1=LpVariable(\"X_1\", 0, None)\n",
    "#A COMPLETER\n",
    "\n",
    "\n",
    "#probleme\n",
    "prob=LpProblem(\"alliage\", LpMinimize)\n",
    "\n",
    "#objectif\n",
    "prob +=  #A COMPLETER\n",
    "\n",
    "#contraintes\n",
    "prob +=  #A COMPLETER\n",
    "prob +=  #A COMPLETER\n",
    "prob +=  #A COMPLETER\n",
    "prob +=  #A COMPLETER\n",
    "\n",
    "prob.solve()\n",
    "print(LpStatus[prob.status])\n",
    "print(\"Min=\", value(prob.objective))\n",
    "\n",
    "# variables resultat\n",
    "for v in prob.variables():\n",
    "    print(\"%s=%.2f\"%(v.name,v.varValue), end=', ')\n"
   ]
  }
 ],
 "metadata": {
  "kernelspec": {
   "name": "learningml",
   "language": "python",
   "display_name": "Python (learningML)"
  },
  "language_info": {
   "codemirror_mode": {
    "name": "ipython",
    "version": 2
   },
   "file_extension": ".py",
   "mimetype": "text/x-python",
   "name": "python",
   "nbconvert_exporter": "python",
   "pygments_lexer": "ipython2",
   "version": "2.7.6"
  }
 },
 "nbformat": 4,
 "nbformat_minor": 0
}