{
 "cells": [
  {
   "cell_type": "markdown",
   "source": [
    "## DataSet\n",
    "\n"
   ],
   "metadata": {
    "collapsed": false
   }
  },
  {
   "cell_type": "code",
   "execution_count": 11,
   "outputs": [
    {
     "name": "stdout",
     "output_type": "stream",
     "text": [
      "Ended !\n"
     ]
    }
   ],
   "source": [
    "import numpy as np\n",
    "\n",
    "def have_euler_cycle(matrix):\n",
    "    for index, line in enumerate(matrix):\n",
    "        if (sum(line) + line[index]) % 2 != 0:\n",
    "            return False\n",
    "    return True\n",
    "\n",
    "def random_graphe(size):\n",
    "    b = np.random.choice((True, False), size=(size,size), p=[0.4, 0.6])\n",
    "    b_symm = np.logical_or(b, b.T)\n",
    "    matrix = b_symm.astype(int)\n",
    "    return matrix\n",
    "\n",
    "matrix_list = []\n",
    "\n",
    "for i in range(4, 20):\n",
    "    temp_matrix = random_graphe(i)\n",
    "    while not have_euler_cycle(temp_matrix) :\n",
    "        temp_matrix = random_graphe(i)\n",
    "    matrix_list.append(temp_matrix)\n",
    "\n",
    "print('Ended !')"
   ],
   "metadata": {
    "collapsed": false,
    "pycharm": {
     "name": "#%%\n"
    }
   }
  },
  {
   "cell_type": "markdown",
   "source": [
    "## Algorithm"
   ],
   "metadata": {
    "collapsed": false
   }
  },
  {
   "cell_type": "code",
   "source": [
    "def operation_on_matrix(matrix, current, index, operation):\n",
    "    if current == index:\n",
    "        matrix[current][index] += operation\n",
    "    else:\n",
    "        matrix[current][index] += operation\n",
    "        matrix[index][current] += operation\n",
    "    return matrix\n",
    "\n",
    "def euler_cycle(matrix, stack, current):\n",
    "    for i in range(len(matrix)):\n",
    "        if matrix[current][i] >= 1:\n",
    "            stack.append(current)\n",
    "            matrix = operation_on_matrix(matrix, current, i, -1)\n",
    "            if euler_cycle(matrix, stack, i):\n",
    "                return stack\n",
    "            else:\n",
    "                matrix = operation_on_matrix(matrix, i, stack[-1], 1)\n",
    "                current = stack[-1]\n",
    "                del stack[-1]\n",
    "\n",
    "    if matrix.any(): #sum(list(map(sum, matrix))) != 0\n",
    "        return False\n",
    "    return stack"
   ],
   "metadata": {
    "collapsed": false,
    "pycharm": {
     "name": "#%%\n"
    }
   },
   "execution_count": 288,
   "outputs": []
  },
  {
   "cell_type": "markdown",
   "source": [
    "## Result\n"
   ],
   "metadata": {
    "collapsed": false
   }
  },
  {
   "cell_type": "code",
   "execution_count": 294,
   "outputs": [
    {
     "name": "stdout",
     "output_type": "stream",
     "text": [
      "=================\n",
      "debut  0\n",
      "[0, 1, 2, 2, 3, 3]\n",
      "fin :  0.20459999723243527 ms\n",
      "=================\n",
      "debut  1\n",
      "[0, 1, 2, 0, 3, 1, 4, 2, 2, 3, 3, 4]\n",
      "fin :  0.1956999985850416 ms\n",
      "=================\n",
      "debut  2\n",
      "[0, 0, 1, 1, 5, 0, 2, 3, 4, 2, 5, 4, 4]\n",
      "fin :  0.19660000180010684 ms\n",
      "=================\n",
      "debut  3\n",
      "[0, 1, 2, 6, 0, 3, 6, 1, 5, 4]\n",
      "fin :  0.1616000008652918 ms\n",
      "=================\n",
      "debut  4\n",
      "[0, 0, 1, 1, 2, 0, 5, 1, 3, 4, 2, 5, 3, 6, 1, 7, 2, 6, 4, 4, 7, 5, 5, 6, 7]\n",
      "fin :  0.35260000004200265 ms\n",
      "=================\n",
      "debut  5\n",
      "[0, 1, 3, 0, 5, 1, 4, 3, 6, 2, 5, 6, 6, 7, 1, 8, 2, 7, 3, 8, 4, 7, 5, 8, 6]\n",
      "fin :  0.35769999885815196 ms\n",
      "=================\n",
      "debut  6\n",
      "[0, 2, 3, 5, 0, 4, 1, 1, 5, 4, 2, 6, 0, 8, 3, 6, 1, 7, 2, 9, 3, 7, 4, 8, 5, 9, 6, 7, 9, 9]\n",
      "fin :  0.40609999996377155 ms\n",
      "=================\n",
      "debut  7\n",
      "[0, 0, 1, 2, 3, 0, 4, 2, 5, 1, 3, 3, 4, 5, 3, 6, 0, 7, 2, 6, 1, 8, 0, 9, 2, 8, 3, 7, 4, 6, 8, 5, 9, 3, 10, 4, 9, 6, 10, 7, 7, 8, 9, 10, 10]\n",
      "fin :  0.4859000000578817 ms\n",
      "=================\n",
      "debut  8\n",
      "[0, 2, 1, 5, 2, 2, 3, 0, 6, 1, 9, 7, 3, 3, 4, 11, 1, 10, 2, 6, 3, 5, 7, 7, 11, 2, 8, 3, 10, 5, 8, 6, 10, 8, 9, 11, 11]\n",
      "fin :  0.4641999985324219 ms\n",
      "=================\n",
      "debut  9\n",
      "[0, 0, 1, 1, 2, 3, 1, 5, 3, 3, 4, 2, 7, 3, 6, 1, 8, 0, 10, 1, 9, 2, 8, 3, 9, 5, 4, 4, 8, 5, 6, 8, 7, 5, 10, 2, 12, 1, 11, 3, 12, 6, 9, 7, 7, 10, 6, 11, 9, 8, 12, 9, 10, 10, 12]\n",
      "fin :  0.3558999997039791 ms\n",
      "=================\n",
      "debut  10\n",
      "[0, 1, 4, 2, 0, 6, 1, 7, 0, 8, 1, 9, 0, 11, 1, 10, 2, 2, 3, 4, 5, 2, 6, 7, 2, 9, 3, 5, 7, 3, 8, 5, 9, 8, 8, 12, 1, 13, 2, 11, 6, 10, 3, 12, 5, 13, 4, 10, 7, 7, 11, 9, 9, 10, 10, 11, 13, 6, 12, 7, 13, 13, 12]\n",
      "fin :  0.47819999963394366 ms\n",
      "=================\n",
      "debut  11\n",
      "[0, 1, 2, 0, 5, 1, 4, 2, 3, 3, 4, 5, 2, 6, 0, 9, 1, 6, 3, 5, 10, 0, 12, 1, 7, 2, 8, 3, 9, 2, 11, 4, 6, 7, 4, 8, 6, 9, 7, 7, 8, 9, 9, 10, 3, 13, 1, 14, 2, 13, 4, 10, 6, 11, 5, 12, 6, 13, 5, 14, 7, 10, 8, 11, 10, 10, 14, 9, 12, 11, 14, 12, 7, 13]\n",
      "fin :  0.5631999993056525 ms\n",
      "=================\n",
      "debut  12\n",
      "[0, 5, 4, 1, 1, 3, 2, 2, 6, 3, 4, 6, 7, 0, 8, 1, 7, 5, 5, 8, 2, 9, 1, 11, 3, 8, 4, 9, 6, 10, 0, 12, 1, 13, 2, 12, 3, 15, 1, 14, 2, 15, 4, 10, 5, 12, 7, 7, 8, 11, 4, 14, 6, 11, 7, 10, 9, 9, 11, 12, 8, 13, 5, 15, 6, 13, 7, 14, 8, 15, 9, 12, 12, 13, 9, 14, 12, 15, 10, 13, 11, 15, 13, 13, 14, 14, 15]\n",
      "fin :  0.4605000031006057 ms\n",
      "=================\n",
      "debut  13\n",
      "[0, 0, 1, 6, 0, 3, 2, 4, 0, 5, 2, 6, 3, 3, 7, 1, 8, 0, 9, 5, 4, 6, 5, 5, 7, 4, 11, 0, 10, 1, 11, 5, 10, 3, 8, 2, 12, 0, 14, 1, 13, 2, 16, 4, 13, 3, 14, 7, 8, 9, 7, 11, 6, 10, 8, 12, 6, 16, 5, 15, 7, 12, 10, 11, 12, 13, 8, 16, 10, 15, 9, 13, 11, 14, 14, 15, 11, 16, 12, 15, 13, 13, 16, 15]\n",
      "fin :  0.46189999920898117 ms\n",
      "=================\n",
      "debut  14\n",
      "[0, 1, 1, 2, 0, 3, 1, 4, 2, 3, 3, 4, 4, 6, 1, 9, 2, 5, 0, 8, 2, 6, 5, 3, 10, 0, 11, 1, 10, 2, 7, 4, 8, 6, 7, 5, 9, 4, 10, 5, 12, 1, 13, 0, 14, 1, 15, 3, 12, 2, 13, 3, 16, 7, 8, 10, 9, 6, 11, 9, 7, 12, 4, 15, 5, 14, 2, 17, 6, 13, 7, 15, 8, 12, 11, 13, 8, 14, 9, 9, 13, 10, 15, 9, 16, 11, 14, 12, 12, 15, 11, 17, 12, 16, 13, 14, 16, 15, 13, 17, 16, 16]\n",
      "fin :  1.4111000018601771 ms\n",
      "=================\n",
      "debut  15\n",
      "[0, 0, 1, 1, 2, 2, 3, 0, 5, 1, 4, 2, 5, 4, 3, 6, 0, 7, 3, 9, 0, 8, 2, 10, 0, 11, 1, 6, 5, 7, 6, 6, 8, 4, 9, 1, 10, 3, 11, 2, 12, 0, 14, 1, 16, 4, 10, 5, 11, 4, 12, 3, 13, 4, 18, 0, 15, 2, 17, 3, 15, 5, 14, 7, 9, 6, 10, 7, 11, 12, 7, 15, 8, 9, 9, 10, 15, 11, 14, 12, 8, 13, 6, 16, 7, 17, 6, 18, 8, 16, 9, 12, 12, 13, 9, 17, 11, 16, 10, 18, 13, 14, 16, 12, 15, 13, 17, 14, 18, 15, 16, 18, 18, 17]\n",
      "fin :  0.9299000012106262 ms\n"
     ]
    },
    {
     "data": {
      "text/plain": "<Figure size 432x288 with 1 Axes>",
      "image/png": "[encoded data removed]"
     },
     "metadata": {
      "needs_background": "light"
     },
     "output_type": "display_data"
    }
   ],
   "source": [
    "import copy\n",
    "from matplotlib import pyplot as plt\n",
    "import time\n",
    "\n",
    "total_time = []\n",
    "\n",
    "temp_matrix_list = copy.deepcopy(matrix_list)\n",
    "\n",
    "for idx, m in enumerate(temp_matrix_list):\n",
    "    print(\"=================\")\n",
    "    print(\"debut \", idx)\n",
    "\n",
    "    start_time = time.perf_counter()\n",
    "\n",
    "    cycle = []\n",
    "    s = []\n",
    "    c = 0\n",
    "\n",
    "    s = euler_cycle(m, s, c)\n",
    "    total_time.append((time.perf_counter() - start_time) * 1000)\n",
    "\n",
    "    print(s)\n",
    "    print(\"fin : \", total_time[-1], \"ms\")\n",
    "plt.plot(total_time)\n",
    "plt.show()"
   ],
   "metadata": {
    "collapsed": false,
    "pycharm": {
     "name": "#%%\n"
    }
   }
  },
  {
   "cell_type": "markdown",
   "source": [
    "## Postier Chinois"
   ],
   "metadata": {
    "collapsed": false,
    "pycharm": {
     "name": "#%% md\n"
    }
   }
  },
  {
   "cell_type": "code",
   "execution_count": 1,
   "outputs": [
    {
     "name": "stdout",
     "output_type": "stream",
     "text": [
      "[[0, 0], [0, 0], [1, 9], [0, 0], [1, 14]]\n",
      "[[0, 0], [1, 1], [1, 6], [1, 12], [0, 0]]\n",
      "[[1, 9], [1, 6], [0, 0], [1, 5], [0, 0]]\n",
      "[[0, 0], [1, 12], [1, 5], [0, 0], [1, 1]]\n",
      "[[1, 14], [0, 0], [0, 0], [1, 1], [0, 0]]\n",
      "\n",
      " 2  -  3 \n",
      "\n",
      "{3: [2, 5]} \n",
      "\n",
      "[[0, 0], [0, 0], [1, 9], [0, 0], [1, 14]]\n",
      "[[0, 0], [1, 1], [1, 6], [1, 12], [0, 0]]\n",
      "[[1, 9], [1, 6], [0, 0], [2, 5], [0, 0]]\n",
      "[[0, 0], [1, 12], [2, 5], [0, 0], [1, 1]]\n",
      "[[1, 14], [0, 0], [0, 0], [1, 1], [0, 0]]\n"
     ]
    },
    {
     "ename": "TypeError",
     "evalue": "'function' object is not iterable",
     "output_type": "error",
     "traceback": [
      "\u001B[1;31m---------------------------------------------------------------------------\u001B[0m",
      "\u001B[1;31mTypeError\u001B[0m                                 Traceback (most recent call last)",
      "\u001B[1;32m<ipython-input-1-ceae46ff75fa>\u001B[0m in \u001B[0;36m<module>\u001B[1;34m\u001B[0m\n\u001B[0;32m    106\u001B[0m \u001B[1;32mwhile\u001B[0m \u001B[1;32mnot\u001B[0m \u001B[0meulerizable\u001B[0m\u001B[1;33m(\u001B[0m\u001B[0mm\u001B[0m\u001B[1;33m)\u001B[0m\u001B[1;33m:\u001B[0m\u001B[1;33m\u001B[0m\u001B[1;33m\u001B[0m\u001B[0m\n\u001B[0;32m    107\u001B[0m    \u001B[0mm\u001B[0m \u001B[1;33m=\u001B[0m \u001B[0mrandom_graphe\u001B[0m\u001B[1;33m(\u001B[0m\u001B[1;36m5\u001B[0m\u001B[1;33m)\u001B[0m\u001B[1;33m\u001B[0m\u001B[1;33m\u001B[0m\u001B[0m\n\u001B[1;32m--> 108\u001B[1;33m \u001B[0mto_euler\u001B[0m\u001B[1;33m(\u001B[0m\u001B[0mm\u001B[0m\u001B[1;33m)\u001B[0m\u001B[1;33m\u001B[0m\u001B[1;33m\u001B[0m\u001B[0m\n\u001B[0m",
      "\u001B[1;32m<ipython-input-1-ceae46ff75fa>\u001B[0m in \u001B[0;36mto_euler\u001B[1;34m(matrix)\u001B[0m\n\u001B[0;32m     60\u001B[0m         \u001B[1;32mfor\u001B[0m \u001B[0mj\u001B[0m \u001B[1;32min\u001B[0m \u001B[0mmatrix\u001B[0m\u001B[1;33m:\u001B[0m\u001B[1;33m\u001B[0m\u001B[1;33m\u001B[0m\u001B[0m\n\u001B[0;32m     61\u001B[0m             \u001B[0mprint\u001B[0m\u001B[1;33m(\u001B[0m\u001B[0mlist\u001B[0m\u001B[1;33m(\u001B[0m\u001B[0mj\u001B[0m\u001B[1;33m)\u001B[0m\u001B[1;33m)\u001B[0m\u001B[1;33m\u001B[0m\u001B[1;33m\u001B[0m\u001B[0m\n\u001B[1;32m---> 62\u001B[1;33m         \u001B[0mprint\u001B[0m\u001B[1;33m(\u001B[0m\u001B[0mlist\u001B[0m\u001B[1;33m(\u001B[0m\u001B[0mmap\u001B[0m\u001B[1;33m(\u001B[0m\u001B[1;32mlambda\u001B[0m \u001B[0ml\u001B[0m\u001B[1;33m:\u001B[0m \u001B[0mlist\u001B[0m\u001B[1;33m(\u001B[0m\u001B[0mmap\u001B[0m\u001B[1;33m(\u001B[0m\u001B[0msum\u001B[0m\u001B[1;33m(\u001B[0m\u001B[1;32mlambda\u001B[0m \u001B[0mn\u001B[0m\u001B[1;33m:\u001B[0m \u001B[0mn\u001B[0m\u001B[1;33m[\u001B[0m\u001B[1;36m0\u001B[0m\u001B[1;33m]\u001B[0m\u001B[1;33m)\u001B[0m\u001B[1;33m,\u001B[0m \u001B[0ml\u001B[0m\u001B[1;33m)\u001B[0m\u001B[1;33m)\u001B[0m\u001B[1;33m,\u001B[0m \u001B[0mmatrix\u001B[0m\u001B[1;33m)\u001B[0m\u001B[1;33m)\u001B[0m\u001B[1;33m)\u001B[0m\u001B[1;33m\u001B[0m\u001B[1;33m\u001B[0m\u001B[0m\n\u001B[0m\u001B[0;32m     63\u001B[0m         \u001B[1;31m#print(euler_cycle(matrix, [], 0))\u001B[0m\u001B[1;33m\u001B[0m\u001B[1;33m\u001B[0m\u001B[1;33m\u001B[0m\u001B[0m\n\u001B[0;32m     64\u001B[0m     \u001B[1;32mfor\u001B[0m \u001B[0mline\u001B[0m \u001B[1;32min\u001B[0m \u001B[0mmatrix\u001B[0m\u001B[1;33m:\u001B[0m \u001B[0mprint\u001B[0m\u001B[1;33m(\u001B[0m\u001B[0mline\u001B[0m\u001B[1;33m)\u001B[0m\u001B[1;33m\u001B[0m\u001B[1;33m\u001B[0m\u001B[0m\n",
      "\u001B[1;32m<ipython-input-1-ceae46ff75fa>\u001B[0m in \u001B[0;36m<lambda>\u001B[1;34m(l)\u001B[0m\n\u001B[0;32m     60\u001B[0m         \u001B[1;32mfor\u001B[0m \u001B[0mj\u001B[0m \u001B[1;32min\u001B[0m \u001B[0mmatrix\u001B[0m\u001B[1;33m:\u001B[0m\u001B[1;33m\u001B[0m\u001B[1;33m\u001B[0m\u001B[0m\n\u001B[0;32m     61\u001B[0m             \u001B[0mprint\u001B[0m\u001B[1;33m(\u001B[0m\u001B[0mlist\u001B[0m\u001B[1;33m(\u001B[0m\u001B[0mj\u001B[0m\u001B[1;33m)\u001B[0m\u001B[1;33m)\u001B[0m\u001B[1;33m\u001B[0m\u001B[1;33m\u001B[0m\u001B[0m\n\u001B[1;32m---> 62\u001B[1;33m         \u001B[0mprint\u001B[0m\u001B[1;33m(\u001B[0m\u001B[0mlist\u001B[0m\u001B[1;33m(\u001B[0m\u001B[0mmap\u001B[0m\u001B[1;33m(\u001B[0m\u001B[1;32mlambda\u001B[0m \u001B[0ml\u001B[0m\u001B[1;33m:\u001B[0m \u001B[0mlist\u001B[0m\u001B[1;33m(\u001B[0m\u001B[0mmap\u001B[0m\u001B[1;33m(\u001B[0m\u001B[0msum\u001B[0m\u001B[1;33m(\u001B[0m\u001B[1;32mlambda\u001B[0m \u001B[0mn\u001B[0m\u001B[1;33m:\u001B[0m \u001B[0mn\u001B[0m\u001B[1;33m[\u001B[0m\u001B[1;36m0\u001B[0m\u001B[1;33m]\u001B[0m\u001B[1;33m)\u001B[0m\u001B[1;33m,\u001B[0m \u001B[0ml\u001B[0m\u001B[1;33m)\u001B[0m\u001B[1;33m)\u001B[0m\u001B[1;33m,\u001B[0m \u001B[0mmatrix\u001B[0m\u001B[1;33m)\u001B[0m\u001B[1;33m)\u001B[0m\u001B[1;33m)\u001B[0m\u001B[1;33m\u001B[0m\u001B[1;33m\u001B[0m\u001B[0m\n\u001B[0m\u001B[0;32m     63\u001B[0m         \u001B[1;31m#print(euler_cycle(matrix, [], 0))\u001B[0m\u001B[1;33m\u001B[0m\u001B[1;33m\u001B[0m\u001B[1;33m\u001B[0m\u001B[0m\n\u001B[0;32m     64\u001B[0m     \u001B[1;32mfor\u001B[0m \u001B[0mline\u001B[0m \u001B[1;32min\u001B[0m \u001B[0mmatrix\u001B[0m\u001B[1;33m:\u001B[0m \u001B[0mprint\u001B[0m\u001B[1;33m(\u001B[0m\u001B[0mline\u001B[0m\u001B[1;33m)\u001B[0m\u001B[1;33m\u001B[0m\u001B[1;33m\u001B[0m\u001B[0m\n",
      "\u001B[1;31mTypeError\u001B[0m: 'function' object is not iterable"
     ]
    }
   ],
   "source": [
    "import random\n",
    "import numpy as np\n",
    "\n",
    "def eulerizable(matrix):\n",
    "    for line in matrix:\n",
    "        if sum(list(map(sum, line))) == 0: return False\n",
    "    return True\n",
    "\n",
    "def random_graphe(size):\n",
    "    b = np.random.choice((True, False), size=(size,size), p=[0.4, 0.6])\n",
    "    b_symm = np.logical_or(b, b.T)\n",
    "    matrix = b_symm.astype(int)\n",
    "    matrix = list(map(lambda line: list(map((lambda n: [0,0] if n == 0 else [1,0]), line)), matrix))\n",
    "    for k, line in enumerate(matrix):\n",
    "        for j, col in enumerate(line):\n",
    "            if col != [1,0]: continue\n",
    "            number = random.randint(1,15)\n",
    "            matrix[k][j] = [1,number]\n",
    "            matrix[j][k] = [1,number]\n",
    "    return matrix\n",
    "\n",
    "def operation_on_matrix(matrix, current, index, operation):\n",
    "    if current == index:\n",
    "        matrix[current][index][0] += operation\n",
    "    else:\n",
    "        matrix[current][index][0] += operation\n",
    "        matrix[index][current][0] += operation\n",
    "    return matrix\n",
    "\n",
    "def euler_cycle(matrix, stack, current):\n",
    "    for i in range(len(matrix)):\n",
    "        if matrix[current][i][0] >= 1:\n",
    "            stack.append(current)\n",
    "            matrix = operation_on_matrix(matrix, current, i, -1)\n",
    "            if euler_cycle(matrix, stack, i):\n",
    "                return stack\n",
    "            else:\n",
    "                matrix = operation_on_matrix(matrix, i, stack[-1], 1)\n",
    "                current = stack[-1]\n",
    "                del stack[-1]\n",
    "\n",
    "    if matrix.any(): #sum(list(map(sum, matrix))) != 0\n",
    "        return False\n",
    "    return stack\n",
    "\n",
    "def to_euler(matrix):\n",
    "    not_pair = []\n",
    "    for index, line in enumerate(matrix):\n",
    "        nodes,weights = zip(*line)\n",
    "        if (sum(nodes) + nodes[index]) % 2 != 0:\n",
    "            not_pair.append(index)\n",
    "    for line in matrix: print(line)\n",
    "    for index in range(0, len(not_pair), 2):\n",
    "        print(\"\\n\", not_pair[index], \" - \", not_pair[index + 1], \"\\n\")\n",
    "        path = dijkstra(matrix, not_pair[index], not_pair[index + 1], [], {})\n",
    "        print(path, \"\\n\")\n",
    "        current = not_pair[index + 1]\n",
    "        while current != not_pair[index]:\n",
    "            matrix = operation_on_matrix(matrix, current, path[current][0], 1)\n",
    "            current = path[current][0]\n",
    "        for j in matrix:\n",
    "            print(list(j))\n",
    "        print(list(map(lambda l: list(map(sum(lambda n: n[0]), l)), matrix)))\n",
    "        #print(euler_cycle(matrix, [], 0))\n",
    "    for line in matrix: print(line)\n",
    "\n",
    "\n",
    "\n",
    "def dijkstra(matrix, node_a, node_b, links, total):\n",
    "    \"\"\"\n",
    "    :param matrix: la matrice\n",
    "    :param node_a: le noeud actuel\n",
    "    :param node_b: le noeud final\n",
    "    :param links: les liens\n",
    "    :param total: les liens \"valides\"\n",
    "    :return: le chemin\n",
    "    \"\"\"\n",
    "    for link in links:\n",
    "        if link[1] == node_a:\n",
    "             links.remove(link)\n",
    "\n",
    "    for index, node in enumerate(matrix[node_a]):\n",
    "        if node[0] >= 1 and index != node_a:\n",
    "            if node_a in total:\n",
    "                if node[1] == total[node_a][0]:\n",
    "                    continue\n",
    "                links.append([node_a, index, node[1] + total[node_a][1]])\n",
    "            else:\n",
    "                links.append([node_a, index, node[1]])\n",
    "\n",
    "    min = -1\n",
    "    min_link = []\n",
    "    for link in links:\n",
    "        if link[0] in total and total[link[0]][0] == link[1]:\n",
    "            continue\n",
    "        if min == -1 or min > link[2]:\n",
    "            min = link[2]\n",
    "            min_link = link\n",
    "\n",
    "    total[min_link[1]] = [min_link[0], min_link[2]]\n",
    "\n",
    "    if node_b not in total:\n",
    "        total = dijkstra(matrix, min_link[1], node_b, links, total)\n",
    "    return total\n",
    "\n",
    "m = random_graphe(5)\n",
    "while not eulerizable(m):\n",
    "   m = random_graphe(5)\n",
    "to_euler(m)"
   ],
   "metadata": {
    "collapsed": false,
    "pycharm": {
     "name": "#%%\n"
    }
   }
  }
 ],
 "metadata": {
  "kernelspec": {
   "display_name": "Python 3",
   "language": "python",
   "name": "python3"
  },
  "language_info": {
   "codemirror_mode": {
    "name": "ipython",
    "version": 2
   },
   "file_extension": ".py",
   "mimetype": "text/x-python",
   "name": "python",
   "nbconvert_exporter": "python",
   "pygments_lexer": "ipython2",
   "version": "2.7.6"
  }
 },
 "nbformat": 4,
 "nbformat_minor": 0
}