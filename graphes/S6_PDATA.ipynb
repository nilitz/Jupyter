{
 "cells": [
  {
   "cell_type": "markdown",
   "source": [
    "# <center>Modélisation Algorithmique<br /> Workshop</center>\n",
    "\n",
    "![logoEI_1_6.jpg](attachment:logoEI_1_6.jpg)"
   ],
   "attachments": {},
   "metadata": {}
  },
  {
   "cell_type": "markdown",
   "source": [
    "# 1. Représentation d'un graphe via une liste d'adjacence\n",
    "\n",
    "L'objectif est de fournir à l'équipe technique un \"itinéraire\" permettant de passer par toutes les rues de la zone, une et une seule fois, en partant de l'intersection de la *rue Smatti* et de la *rue du Général Cohen Boulakia* (noté \"Départ\" sur le schéma) et en y revenant. Il faut aussi déterminer s'il sera faisable de déterminer un itinéraire du même genre pour une carte plus grande, et à quel prix.\n",
    "\n",
    "Mais avant de travailler sur cette carte, reprenons le problème des **7 ponts de Königsberg**. Ce problème consiste à déterminer s'il existe ou non une promenade dans les rues de Königsberg permettant, à partir d'un point de départ au choix, de passer une et une seule fois par chaque pont, et de revenir à son point de départ. \n",
    "On peut traduire ce schéma en un graphe où _les zones de la ville sont des sommets_ et où _les ponts à franchir sont les arêtes_ du graphe. \n",
    "![7ponts.png](attachment:7ponts.png)\n",
    "\n",
    "Dans ce graphe (qui est en fait un [multigraphe](https://fr.qaz.wiki/wiki/Multigraph)), passer par tous les ponts une seule fois revient à passer par chaque arête une seule fois. Peut-on appliquer cette méthode à la carte qu'Agathe nous a fournie ?"
   ],
   "attachments": {},
   "metadata": {}
  },
  {
   "cell_type": "code",
   "source": [
    "# Il est impossible d'utiliser une chaine eulérienne dans le cas de problèmes de ponts de koenigsberg car le graph qui en découl est dit non-eulérien."
   ],
   "attachments": {},
   "execution_count": 0,
   "outputs": [],
   "metadata": {}
  },
  {
   "cell_type": "markdown",
   "source": [
    "C'est bien tout ça mais on ne peut pas donner ces graphes en entrée du programme sous cette forme sagittale ! Nous allons avoir besoin d'implémenter une structure de données. On va représenter en mémoire notre graphe par une [liste d'adjacence](https://fr.wikipedia.org/wiki/Liste_d%27adjacence) en utilisant les [listes](https://docs.python.org/3/tutorial/introduction.html#lists) en Python."
   ],
   "attachments": {},
   "metadata": {}
  },
  {
   "cell_type": "markdown",
   "source": [
    "## 1.1 Implémentation de la liste d'adjacence de la Zone A\n",
    "Revoyons le principe de la liste d'adjacence sur un exemple:\n",
    "\n",
    "![Adj.jpg](attachment:Adj.jpg)\n",
    "\n",
    "On a deux listes :\n",
    "* `Head` qui contient les têtes de liste\n",
    "* `Succ` qui contient les listes de successeurs pour chaque tête de liste.\n",
    "\n",
    "Mais attention, dans cet exemple, le graphe est orienté. Nous, nous considérons un graphe non orienté. Comment faire ?\n",
    "<em>À COMPLÉTER</em>\n",
    "\n",
    "Appliquons cette représentation à la zone A du schéma d'Agathe :"
   ],
   "attachments": {},
   "metadata": {}
  },
  {
   "cell_type": "code",
   "source": [
    "HeadZoneA =  [1,2,3,4,5,6,7,8,9,10,11,12,13]\n",
    "SuccZoneA =  [[2,5],[1,11],[4,6],[3,10],[1,6],[3,5,7,8],[6,9],[6,9],[7,8,10,12],[4,9,11,13],[2,10],[9,13],[10,12]]"
   ],
   "attachments": {},
   "execution_count": 0,
   "outputs": [],
   "metadata": {}
  },
  {
   "cell_type": "code",
   "source": [
    "def degreSommetsGraphe(Head, Succ):\n",
    "    sommet = 1                        \n",
    "    for sommet in range( len(Head)):\n",
    "        indiceCourant = Head[sommet-1]\n",
    "        indiceSuivant = Head[sommet]\n",
    "        # calcul du degré et création du message à afficher\n",
    "        #A COMPLETER\n",
    "        message = \"Le sommet \" + str(Head[sommet]) + \" est de degré \" + str(len(Succ[sommet])) + \" (voisins : \"\n",
    "\n",
    "        # ajout de la liste des voisins dans le message (en une seule instruction !)\n",
    "        message +=  str(Succ[sommet])\n",
    "        \n",
    "        print(message)        \n",
    "    return;\n",
    "\n",
    "print(\"### Degré des sommets du graphe de la Zone A ###\")\n",
    "degreSommetsGraphe(HeadZoneA, SuccZoneA)"
   ],
   "attachments": {},
   "execution_count": 0,
   "outputs": [],
   "metadata": {}
  },
  {
   "cell_type": "markdown",
   "source": [
    "## 1.2 Implémentation de la liste d'adjacence des 7 ponts de Könisgberg\n",
    "Même chose maintenant avec la liste d'adjacence permettant de représenter le problème des 7 ponts de Könisgberg. Initialisez cette liste d'adjacence de manière à ce que `Head7Ponts` représente la liste des têtes de listes et `Succ7Ponts` représente la liste des listes des successeurs.\n",
    "\n",
    "Les sommets seront numérotés comme suit :\n",
    "1. _Nord_ sera le sommet `1`\n",
    "2. _Centre_ sera le sommet `2`\n",
    "3. _Est_ sera le sommet `3`\n",
    "4. _Sud_ sera le sommet `4`\n",
    "\n",
    "\n",
    "**Attention: Si 2 arêtes différentes connectent 2 sommets, ces sommets apparaiteront 2 fois dans la liste des successeurs.**"
   ],
   "attachments": {},
   "metadata": {}
  },
  {
   "cell_type": "code",
   "source": [
    "Head7Ponts = [\"NORD\",\"CENTRE\",\"EST\",\"SUD\"]\n",
    "Succ7Ponts =  [[2,2,3],[1,1,3,4,4],[1,2,4],[2,2,3]]\n",
    "\n",
    "print(\"### Degré des sommets du graphe des 7 ponts de Könisgberg ###\")\n",
    "degreSommetsGraphe(Head7Ponts, Succ7Ponts)"
   ],
   "attachments": {},
   "execution_count": 0,
   "outputs": [],
   "metadata": {}
  },
  {
   "cell_type": "markdown",
   "source": [
    "Cette représentation par liste d'adjacence semble très efficace pour déterminer tous les voisins d'un sommet. Mais est-elle aussi efficace pour tous les traitements qu'on pourrait imaginer sur un graphe ? Et si le graphe est orienté ?\n",
    "<em>À COMPLÉTER</em>"
   ],
   "attachments": {},
   "metadata": {}
  },
  {
   "cell_type": "code",
   "source": [
    "# Je trouve qu'il est plus simple et plus complet de représenter un graphe sous la forme de sa matrice d'ajacence comme certaine opération peuvent se baser sur l'absence de liason pour fonctionner il est plus imple qu'elle soit explitcite que de la déterminer"
   ],
   "attachments": {},
   "execution_count": 0,
   "outputs": [],
   "metadata": {}
  },
  {
   "cell_type": "markdown",
   "source": [
    "# 2. Représentation d'un graphe via une matrice d'adjacence\n",
    "\n",
    "Puisque cette représentation par liste d'adjacence a des limites, essayons d'utiliser une autre structure : une [matrice d'adjacence](https://fr.wikipedia.org/wiki/Matrice_d%27adjacence) ! Si on reprend l'exemple de tout à l'heure, ça donne cette représentation :\n",
    "\n",
    "![matr.png](attachment:matr.png)\n",
    "\n",
    "Dans cette représentation, on utilise une matrice carrée $m$ de taille $n\\times n$ (avec $n$ le nombre de sommets) dans laquelle une arête $a~— b$ est représentée par la valeur $1$ dans l'élement $m_{ab}$. Pour les sommets non reliés entre eux, on met la valeur $0$.\n",
    "\n",
    "Que pensez-vous de cette représentation ? Est-elle meilleure que la liste d'adjacence ?"
   ],
   "attachments": {},
   "metadata": {}
  },
  {
   "cell_type": "code",
   "source": [
    "# Plus complète d'un point de vue explicite mais pas plus facile à lire. Des avantages existe dans les deux cas pour la performance en calcul et en mémoire"
   ],
   "attachments": {},
   "execution_count": 0,
   "outputs": [],
   "metadata": {}
  },
  {
   "cell_type": "markdown",
   "source": [
    "Il y a un autre point très important pour le calcul scientifique, la place en mémoire. Lorsqu'on considère des sommets qui se comptent en millions voire en milliards (ce qui est le cas du _social graph_ de Facebook, par exemple), c'est primordial. De ce point de vue, quelle est la structure la plus efficace ? "
   ],
   "attachments": {},
   "metadata": {}
  },
  {
   "cell_type": "code",
   "source": [
    "# La liste d'adjacence car sa compléxié spatiale est de N alors que celle de la matrice est de N^2"
   ],
   "attachments": {},
   "execution_count": 0,
   "outputs": [],
   "metadata": {}
  },
  {
   "cell_type": "markdown",
   "source": [
    "## 2.1 Implémentation de la matrice d'adjacence de la Zone A\n",
    "On va commencer par initialiser la matrice d'adjacence permettant de représenter la zone A du schéma d'Agathe : `matrixZoneA` représente cette matrice. Ici, nous ne considérons pas les distances, c'est-à-dire les longueurs de chaque rue. Pourquoi ? Qu'est-ce que ça implique au niveau de la matrice ? Quelle structure devrait-on utiliser si on voulait prendre en compte ces longueurs ?"
   ],
   "attachments": {},
   "metadata": {}
  },
  {
   "cell_type": "code",
   "source": [
    "# Tout les liens sont représenté par un 1, Une matrice pondérée."
   ],
   "attachments": {},
   "execution_count": 0,
   "outputs": [],
   "metadata": {}
  },
  {
   "cell_type": "markdown",
   "source": [
    "Par ailleurs, on considère un graphe non orienté. En conséquence, quelle propriété structurelle a cette matrice ?"
   ],
   "attachments": {},
   "metadata": {}
  },
  {
   "cell_type": "code",
   "source": [
    "# Elle devrait être symétrique"
   ],
   "attachments": {},
   "execution_count": 0,
   "outputs": [],
   "metadata": {}
  },
  {
   "cell_type": "code",
   "source": [
    "matrixZoneA = [\n",
    "    [0,1,0,0,1,0,0,0,0,0,0,0,0],\n",
    "    [1,0,0,0,0,0,0,0,0,0,1,0,0],\n",
    "    [0,0,0,1,0,1,0,0,0,0,0,0,0],\n",
    "    [0,0,1,0,0,0,0,0,0,1,0,0,0],\n",
    "    [1,0,0,0,0,1,0,0,0,0,0,0,0],\n",
    "    [0,0,1,0,1,0,1,1,0,0,0,0,0],\n",
    "    [0,0,0,0,0,1,0,0,1,0,0,0,0],\n",
    "    [0,0,0,0,0,1,0,0,1,0,0,0,0],\n",
    "    [0,0,0,0,0,0,1,1,0,1,0,1,0],\n",
    "    [0,0,0,1,0,0,0,0,1,0,1,0,1],\n",
    "    [0,1,0,0,0,0,0,0,0,1,0,0,0],\n",
    "    [0,0,0,0,0,0,0,0,1,0,0,0,1],\n",
    "    [0,0,0,0,0,0,0,0,0,1,0,1,0]\n",
    "]"
   ],
   "attachments": {},
   "execution_count": 0,
   "outputs": [],
   "metadata": {}
  },
  {
   "cell_type": "markdown",
   "source": [
    "Afin de vérifier que les données entrées dans cette matrice sont correctes, completez la méthode `degreSommetsGrapheMatrice(matrice)` qui prend un graphe en paramètre (sous la forme d'une matrice) et qui affiche pour chaque sommet :\n",
    "<ul>\n",
    "    <li>Son degré.</li>\n",
    "    <li>La liste de ses voisins.</li>\n",
    "</ul>\n",
    "\n",
    "Là aussi, l'usage des Comprehension lists sera certainement plus pratique que si on implémentait une double boucle imbriquée."
   ],
   "attachments": {},
   "metadata": {}
  },
  {
   "cell_type": "code",
   "source": [
    "def get_index_positions(list_of_elems, element):\n",
    "    index_pos_list = []\n",
    "    index_pos = 0\n",
    "    while True:\n",
    "        try:\n",
    "            # Search for item in list from indexPos to the end of list\n",
    "            index_pos = list_of_elems.index(element, index_pos)\n",
    "            # Add the index position in list\n",
    "            index_pos_list.append(index_pos)\n",
    "            index_pos += 1\n",
    "        except ValueError as e:\n",
    "            break\n",
    "    return index_pos_list"
   ],
   "attachments": {},
   "execution_count": 0,
   "outputs": [],
   "metadata": {}
  },
  {
   "cell_type": "code",
   "source": [
    "def degreSommetsGrapheMatrice(matrice):\n",
    "    for sommet in range(1, len(matrice)+1):\n",
    "        liste = matrice[sommet-1]\n",
    "        #A COMPLETER\n",
    "        message = \"Le sommet \" + str(sommet) + \" est de degré \" + str(matrice[sommet-1].count(1)) + \" (voisins : \"\n",
    "        message += str([x + 1 for x in get_index_positions(matrice[sommet - 1],1) ]) + \" )\"\n",
    "        \n",
    "        print(message)\n",
    "\n",
    "print(\"### Degré des sommets du graphe de la Zone A ###\")\n",
    "degreSommetsGrapheMatrice(matrixZoneA)"
   ],
   "attachments": {},
   "execution_count": 0,
   "outputs": [],
   "metadata": {}
  },
  {
   "cell_type": "markdown",
   "source": [
    "## 2.2 Implémentation de la matrice d'adjacence des 7 ponts de Könisgberg\n",
    "Même chose maintenant avec la matrice d'adjacence permettant de représenter le problème des 7 ponts de Könisgberg. Initialisez cette matrice : `matrix7Ponts` représente cette matrice. \n",
    "\n",
    "Pour rappel, les sommets seront numérotés comme suit :\n",
    "<ul>\n",
    "    <li>Nord sera le sommet 1.</li>\n",
    "    <li>Centre sera le sommet 2.</li>\n",
    "    <li>Est sera le sommet 3.</li>\n",
    "    <li>Sud sera le sommet 4.</li>\n",
    "</ul>"
   ],
   "attachments": {},
   "metadata": {}
  },
  {
   "cell_type": "code",
   "source": [
    "matrix7Ponts = [\n",
    "    [0,1,1,0],\n",
    "    [1,0,1,1],\n",
    "    [1,1,0,1],\n",
    "    [0,1,1,0],\n",
    "]\n",
    "\n",
    "print(\"### Degré des sommets du graphe des 7 ponts de Könisgberg ###\")\n",
    "degreSommetsGrapheMatrice(matrix7Ponts)"
   ],
   "attachments": {},
   "execution_count": 0,
   "outputs": [],
   "metadata": {}
  },
  {
   "cell_type": "markdown",
   "source": [
    "# 3. Cycle Eulérien\n",
    "\n",
    "## 3.1 Existence d'un cycle Eulérien dans un graphe\n",
    "\n",
    "Grâce que théorème d'Euler, nous savons qu'**il existe un cycle Eulérien dans un graphe si et seulement si le graphe est connexe et qu’il n’y a aucun sommet de degré impair dans le graphe**. Ici nous considérons que tous nos graphes sont connexes. \n",
    "\n",
    "Completez la fonction `existeCycleEulerien(matrice)` qui prend un graphe en paramètre (sous la forme d'une matrice d'adjacence) et qui retourne `True` si il existe un cycle Eulérien dans le graphe :\n",
    "\n",
    "Vous pourriez bien avoir besoin du [modulo](http://reeborg.ca/docs/fr/oop/modulo.html) ! Par ailleurs, en Python, un booléen a la valeur 1. Comment peut-on exploiter ça ?"
   ],
   "attachments": {},
   "metadata": {}
  },
  {
   "cell_type": "code",
   "source": [
    "# En utilisant un modulo pour déterminer si le dégré des sommets est pair"
   ],
   "attachments": {},
   "execution_count": 0,
   "outputs": [],
   "metadata": {}
  },
  {
   "cell_type": "markdown",
   "source": [
    "Allons-y !"
   ],
   "attachments": {},
   "metadata": {}
  },
  {
   "cell_type": "code",
   "source": [
    "def existeCycleEulerien(matrice):                                     \n",
    "\n",
    "    for sommet in matrice:\n",
    "        if sommet.count(1) % 2:\n",
    "            return False\n",
    "    return True\n",
    "\n",
    "print(\"### Existe-t-il un cycle Eulérien dans le graphe de la Zone A ? ###\")\n",
    "existeCycleEulerien(matrixZoneA)"
   ],
   "attachments": {},
   "execution_count": 0,
   "outputs": [],
   "metadata": {}
  },
  {
   "cell_type": "markdown",
   "source": [
    "Testons aussi la fonction sur le graphe des 7 ponts de Könisgberg !"
   ],
   "attachments": {},
   "metadata": {}
  },
  {
   "cell_type": "code",
   "source": [
    "print(\"### Existe-t-il un cycle Eulérien dans le graphe des 7 ponts de Könisgberg ? ###\")\n",
    "existeCycleEulerien(matrix7Ponts)"
   ],
   "attachments": {},
   "execution_count": 0,
   "outputs": [],
   "metadata": {}
  },
  {
   "cell_type": "markdown",
   "source": [
    "Conclusion : il serait peut-être temps de prévenir le directeur de l'agence qu'il peut arrêter de chercher !"
   ],
   "attachments": {},
   "metadata": {}
  },
  {
   "cell_type": "markdown",
   "source": [
    "## 3.2 Calcul d'un cycle Eulérien dans un graphe\n",
    "\n",
    "Maintenant qu'on est capable de déterminer si un graphe est Eulérien, il est temps de trouver un moyen de calculer un cycle Eulérien lorsqu'on a un tel graphe.\n",
    "\n",
    "C'est justement ce que fait l'algorithme suivant, en utilisant le principe du [backtracking](https://www.geeksforgeeks.org/backtracking-algorithms/). Voici l'algorithme :\n",
    "\n",
    "<strong>fonction</strong> CycleEulérien(graphe)\n",
    "<div style=\"border-left: 1px solid black;padding-left:25px;margin:5px;\">\n",
    "    Créer un cycle et une pile de sommets vides<br>\n",
    "    Initialiser le sommet courant comme étant le premier sommet de la matrice<br>\n",
    "    <br>\n",
    "    <strong>Répéter</strong> jusqu'à ce que la pile soit vide <strong>et</strong> que le noeud courant n'ait plus de voisins :\n",
    "    <div style=\"border-left: 1px solid black;padding-left:25px;margin:5px;\">\n",
    "        <strong>Si</strong> le sommet courant a au moins un voisin :\n",
    "        <div style=\"border-left: 1px solid black;padding-left:25px;margin:5px;\">\n",
    "            On ajoute le sommet courant à la pile<br>\n",
    "            On supprime l'arête entre le sommet courant et ce voisin<br>\n",
    "            Le sommet courant devient ce voisin\n",
    "        </div>\n",
    "        <strong>Sinon</strong> :\n",
    "        <div style=\"border-left: 1px solid black;padding-left:25px;margin:5px;\">\n",
    "            on ajoute le sommet courant au cycle (principe du Backtracking)<br>\n",
    "            on retire le 1er élément de la pile qui devient le sommet courant\n",
    "        </div>\n",
    "    </div>\n",
    "</div>\n",
    "\n",
    "D'ailleurs, pourquoi utiliser une pile ? Quelle méthode algorithmique aurait-on pu utiliser à la place ?\n",
    "<em>À COMPLÉTER</em>\n",
    "\n",
    "Complétez la méthode `cycleEulerien(matrice)` qui reprend le principe de cet algorithme. Elle prend un graphe possédant un cycle Eulérien en paramètre (sous la forme d'une matrice) et renvoie l'un des cycles Eulériens du graphe. N'oubliez pas que Python n'a pas de type spécifique pour les piles, mais que les listes offrent des opération d'empilage et de dépilage."
   ],
   "attachments": {},
   "metadata": {}
  },
  {
   "cell_type": "code",
   "source": [
    "def cycleEulerien(matrice):\n",
    "    n = len(matrice)\n",
    "\n",
    "    cycle = list()     # cycle est notre cycle à construire\n",
    "    stack = list()     # stack est une liste de sommets à traiter\n",
    "    cur = 0            # cur est notre sommet courant : le 1er noeud traité est le premier noeud de la matrice\n",
    "\n",
    "    # on boucle tant qu'il y a des sommets à traiter dans notre stack\n",
    "    # ou que notre sommet courant possède au moins 1 voisin non traité\n",
    "    while stack != [] or sum(matrice[cur]) != 0:\n",
    "        if sum(matrice[cur]) == 0:\n",
    "            # si le sommet courant ne possède aucun voisin\n",
    "            # on l'ajoute à notre cycle et on revient au sommet ajouté précédemment dans la stack (backtracking)\n",
    "            # qui devient notre nouveau sommet courant\n",
    "            #A COMPLETER\n",
    "            cycle.append(cur)\n",
    "            cur = stack.pop()\n",
    "            # si il a au moins 1 voisin\n",
    "            # on l'ajoute à notre stack pour y revenir plus tard (backtracking)\n",
    "            # on retire l'arête qu'il partage avec ce voisin\n",
    "            # qui devient le sommet courant\n",
    "        else:\n",
    "            for i in range(n):\n",
    "                if matrice[cur][i] > 0:\n",
    "                    matrice[cur][i] = 0\n",
    "                    matrice[i][cur] = 0\n",
    "                    stack.append(cur)\n",
    "                    cur = i\n",
    "                    break\n",
    "    return cycle\n",
    "\n",
    "print(\"### Calcul d'un cycle Eulérien du graphe de la Zone A ###\")\n",
    "\n",
    "matrixZoneA = [\n",
    "    [0,1,0,0,1,0,0,0,0,0,0,0,0],\n",
    "    [1,0,0,0,0,0,0,0,0,0,1,0,0],\n",
    "    [0,0,0,1,0,1,0,0,0,0,0,0,0],\n",
    "    [0,0,1,0,0,0,0,0,0,1,0,0,0],\n",
    "    [1,0,0,0,0,1,0,0,0,0,0,0,0],\n",
    "    [0,0,1,0,1,0,1,1,0,0,0,0,0],\n",
    "    [0,0,0,0,0,1,0,0,1,0,0,0,0],\n",
    "    [0,0,0,0,0,1,0,0,1,0,0,0,0],\n",
    "    [0,0,0,0,0,0,1,1,0,1,0,1,0],\n",
    "    [0,0,0,1,0,0,0,0,1,0,1,0,1],\n",
    "    [0,1,0,0,0,0,0,0,0,1,0,0,0],\n",
    "    [0,0,0,0,0,0,0,0,1,0,0,0,1],\n",
    "    [0,0,0,0,0,0,0,0,0,1,0,1,0]\n",
    "]\n",
    "\n",
    "cycle = cycleEulerien(matrixZoneA)\n",
    "for sommet in cycle:\n",
    "   print(sommet + 1, \"-> \", end = '')\n",
    "print(cycle[0] + 1)"
   ],
   "attachments": {},
   "execution_count": 1,
   "outputs": [
    {
     "name": "stdout",
     "text": [
      "### Calcul d'un cycle Eulérien du graphe de la Zone A ###\n",
      "1 -> 5 -> 6 -> 8 -> 9 -> 12 -> 13 -> 10 -> 9 -> 7 -> 6 -> 3 -> 4 -> 10 -> 11 -> 2 -> 1\n"
     ],
     "output_type": "stream"
    }
   ],
   "metadata": {}
  },
  {
   "cell_type": "markdown",
   "source": [
    "Vérifiez qu'il s'agit bien d'un cycle eulérien."
   ],
   "attachments": {},
   "metadata": {}
  },
  {
   "cell_type": "markdown",
   "source": [
    "# 5. Étude du temps de calcul\n",
    "\n",
    "Notre algorithme a l'air de fonctionner. Et il est très rapide. D'ailleurs, de combien de temps a-t-il eu besoin pour se terminer ? Pour vérifier ça, on pourrait utiliser des [profileurs Python](https://docs.python.org/3/library/profile.html) comme `cProfile` ou `profile`. Ce genre d'outil est très puissant pour étudier les éléments de code les plus consommateurs en temps CPU ou en mémoire, leur usage est d'ailleurs fortement recommandé si vous avez besoin d'optimiser un code complexe. Mais ici, c'est peut-être un peu lourd...\n",
    "La bibliothèque [`time`](https://docs.python.org/3/library/time.html) offre plein de fonctions qui pourraient être utiles. Laquelle vous semble adaptée ?\n",
    "<em>À COMPLÉTER</em>\n",
    "Testons ça tout de suite !"
   ],
   "attachments": {},
   "metadata": {}
  },
  {
   "cell_type": "code",
   "source": [
    "import time\n",
    "\n",
    "start = time.time()\n",
    "cycle = cycleEulerien(matrixZoneA)\n",
    "stop = time.time()\n",
    "print(stop-start)"
   ],
   "attachments": {},
   "execution_count": 5,
   "outputs": [
    {
     "name": "stdout",
     "text": [
      "0.0001728534698486328\n"
     ],
     "output_type": "stream"
    }
   ],
   "metadata": {}
  },
  {
   "cell_type": "markdown",
   "source": [
    "Pour être rapide, c'est rapide ! Mais peut-être que sur notre instance, on a eu de la chance, et qu'un autre graphe de même taille serait plus lourd à gérer. Comment pourrait-on faire pour être un peu plus sûr du résultat ?\n",
    "<em>À COMPLÉTER</em>\n",
    "\n",
    "On pourrait faire tout ça à la main, mais il y a des bibliothèques qui nous faciliteront le travail. La bibliothèque [NumPy](https://numpy.org/doc/stable/) est un incontournable du calcul scientifique en Python. Parmi les fonctions d'[Échantillonnage aléatoire](https://numpy.org/doc/1.16/reference/routines.random.html) qu'elle propose, la fonction <a href='https://numpy.org/doc/stable/reference/random/generated/numpy.random.choice.html'><code>np.random.choice()</code></a> permet entre autres de générer un ensemble de booléens, répartis dans la structure de notre choix (ici en matrice), qu'il ne nous restera plus qu'à transformer en entiers.\n",
    "\n",
    "Attention tout de même, nous considérons un graphe non orienté, il faut donc construire une [matrice symétrique]('https://fr.wikipedia.org/wiki/Matrice_sym%C3%A9trique'). Il y a une technique simple : générer une matrice aléatoire carrée et lui superposer sa [transposée](https://fr.wikipedia.org/wiki/Matrice_transpos%C3%A9e) (c'est d'ailleurs pour ça qu'on passe par une matrice de booléens, ça nous permet d'utiiser le $ou$ logique).\n",
    "\n",
    "Cette approche pose quand même quelques problèmes. Les voyez-vous ?\n",
    "\n",
    "<em>À COMPLÉTER</em>\n",
    "\n",
    "Vous trouverez dans la cellule suivante le code générant cette matrice. Inutile de le comprendre en détail (même s'il n'est pas bien compliqué), on se contentera de l'utiliser."
   ],
   "attachments": {},
   "metadata": {}
  },
  {
   "cell_type": "code",
   "source": [
    "import numpy as np\n",
    "\n",
    "def grapheAleatoireEulerien(taille):\n",
    "    b = np.random.choice((True, False), size=(taille,taille), p=[0.4, 0.6])\n",
    "    b_symm = np.logical_or(b, b.T)\n",
    "    return b_symm.astype(int)\n",
    "\n",
    "print(grapheAleatoireEulerien(4))"
   ],
   "attachments": {},
   "execution_count": 6,
   "outputs": [
    {
     "name": "stdout",
     "text": [
      "[[1 1 1 1]\n",
      " [1 0 1 0]\n",
      " [1 1 0 1]\n",
      " [1 0 1 0]]\n"
     ],
     "output_type": "stream"
    }
   ],
   "metadata": {}
  },
  {
   "cell_type": "markdown",
   "source": [
    "Parfait ! Il ne nous reste plus qu'à tester tout ça en boucle sur notre algorithme. Une centaine d'itérations devrait suffire."
   ],
   "attachments": {},
   "metadata": {}
  },
  {
   "cell_type": "code",
   "source": [
    "import time\n",
    "\n",
    "start = time.time()\n",
    "duree = 0\n",
    "nb_iteration = 5000\n",
    "for i in range(nb_iteration):\n",
    "    cycleEulerien(grapheAleatoireEulerien(4))\n",
    "stop = time.time()\n",
    "duree = stop-start\n",
    "print(duree/nb_iteration)"
   ],
   "attachments": {},
   "execution_count": 9,
   "outputs": [
    {
     "name": "stdout",
     "text": [
      "0.001441234254837036\n"
     ],
     "output_type": "stream"
    }
   ],
   "metadata": {}
  },
  {
   "cell_type": "code",
   "source": [
    "from matplotlib import pyplot as plt\n",
    "plt.plot([0, 0.301, 0.477, 0.602, 0.698, 0.778, 0.845, 0.903, 0.954, 1])\n",
    "plt.show()"
   ],
   "attachments": {},
   "execution_count": 10,
   "outputs": [
    {
     "data": {
      "image/png": "[encoded data removed]"
     },
     "metadata": {
      "image/png": {
       "width": 0,
       "height": 0
      }
     },
     "output_type": "display_data"
    }
   ],
   "metadata": {}
  },
  {
   "cell_type": "markdown",
   "source": [
    "Avec ça, on pourra afficher l'évolution du temps de calcul moyen en fonction de la taille des graphes.\n",
    "\n",
    "Et puis on peut aussi déterminer le temps de calcul au pire. Ça nous donnera une vision un peu plus détaillée du fonctionnement de l'algorithme. C'est d'autant plus intéressant de les comparer que, si la complexité au pire reste relativement facile à étudier (c'est d'ailleurs l'un des objectifs du prosit), la [complexité en moyenne](https://fr.wikipedia.org/wiki/Complexit%C3%A9_en_moyenne_des_algorithmes) est nettement plus complexe à aborder, et nécessite des [outils mathématique avancés](https://fr.wikipedia.org/wiki/Combinatoire), notamment en [dénombrement](https://fr.wikipedia.org/wiki/D%C3%A9nombrement).\n",
    "\n",
    "Et au passage, on va afficher une courbe un peu plus grande, et avec les légendes qui vont bien (attention, si votre ordinateur manque de puissance, réduisez le nombre d'itérations et la taille maximale ; vous pouvez aussi ne considerer que certaines tailles de graphe, grace au paramètre `step` de la fonction [`range`](https://www.w3schools.com/python/ref_func_range.asp)) "
   ],
   "attachments": {},
   "metadata": {}
  },
  {
   "cell_type": "code",
   "source": [
    "nb_iteration = 50\n",
    "durees_moy = list()\n",
    "durees_pire = list()\n",
    "\n",
    "for taille in range(10, 75, 5):\n",
    "    duree_pire = 0\n",
    "    start1 = time.time()\n",
    "    for i in range(nb_iteration):\n",
    "        start2 = time.time()\n",
    "        cycleEulerien(grapheAleatoireEulerien(taille))\n",
    "        stop2 = time.time()\n",
    "        duree2 = stop2-start2\n",
    "        if duree_pire < duree2:\n",
    "            duree_pire = duree2\n",
    "    stop1 = time.time()\n",
    "    duree1 = stop1-start1\n",
    "    duree_moy = duree1/nb_iteration\n",
    "    durees_moy.append(duree_moy)\n",
    "    durees_pire.append(duree_pire)\n",
    " \n",
    "plt.figure(figsize=(20,10))\n",
    "plt.xlabel('taille du graphe')\n",
    "plt.ylabel('temps de calcul')\n",
    "plt.plot(durees_moy, label='durée moyenne')\n",
    "plt.plot(durees_pire, label='durée au pire')\n",
    "plt.legend()\n",
    "plt.show()"
   ],
   "attachments": {},
   "execution_count": 14,
   "outputs": [
    {
     "data": {
      "image/png": "[encoded data removed]"
     },
     "metadata": {
      "image/png": {
       "width": 0,
       "height": 0
      }
     },
     "output_type": "display_data"
    }
   ],
   "metadata": {}
  },
  {
   "cell_type": "markdown",
   "source": [
    "Qu'observez-vous ? À quoi ressemblent ces courbes ?"
   ],
   "attachments": {},
   "metadata": {}
  },
  {
   "cell_type": "raw",
   "source": [
    "Le temps d'éxecution semble être exponentiel"
   ],
   "metadata": {
    "collapsed": false,
    "pycharm": {
     "name": "#%% raw\n"
    }
   }
  },
  {
   "cell_type": "markdown",
   "source": [
    "Comment peut-on interpréter ces résultats ?"
   ],
   "metadata": {
    "collapsed": false
   }
  },
  {
   "cell_type": "raw",
   "source": [
    "La compléxité temporel pour un graphe de dimmendion N semble explonentiel"
   ],
   "metadata": {
    "collapsed": false,
    "pycharm": {
     "name": "#%% raw\n"
    }
   }
  },
  {
   "cell_type": "markdown",
   "source": [
    "Pensez-vous qu'on puisse faire mieux en terme de rapidité d'exécution ?"
   ],
   "metadata": {
    "collapsed": false,
    "pycharm": {
     "name": "#%% md\n"
    }
   }
  },
  {
   "cell_type": "raw",
   "source": [
    "Peut être qu'en s'affranchissant de la matrice d'adjacence pour une liste, il sera possible de baisser légérment la tendance de la courbe mais elle restera surmeent exponenetiel."
   ],
   "metadata": {
    "collapsed": false,
    "pycharm": {
     "name": "#%% raw\n"
    }
   }
  },
  {
   "cell_type": "markdown",
   "source": [
    "Et que pensez-vous qu'on puisse faire pour affiner notre étude expérimentale ?"
   ],
   "metadata": {
    "collapsed": false,
    "pycharm": {
     "name": "#%% md\n"
    }
   }
  },
  {
   "cell_type": "code",
   "execution_count": null,
   "outputs": [],
   "source": [
    "Essayer de ploter plusieurs méthodes de calcul sur le graphiques des temps d'execution'"
   ],
   "metadata": {
    "collapsed": false,
    "pycharm": {
     "name": "#%%raw\n"
    }
   }
  },
  {
   "cell_type": "markdown",
   "source": [
    "# 6. Conclusion\n",
    "\n",
    "On en a fini avec ce cycle eulérien ! Si vous voulez implémenter l'algorithme du postier chinois, vous devriez vous en sortir sans problème. D'ailleurs, si vous implémentez un algorithme qui détermine lequel, de l'algorithme du cycle hamiltonien ou de celui du postier chinois, doit être utilisé, étudier son comportement expérimental pourra être intéressant…"
   ],
   "attachments": {},
   "metadata": {}
  },
  {
   "cell_type": "code",
   "source": [],
   "attachments": {},
   "execution_count": 0,
   "outputs": [],
   "metadata": {}
  }
 ],
 "metadata": {},
 "nbformat": 4,
 "nbformat_minor": 0
}