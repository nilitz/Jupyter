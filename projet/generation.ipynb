{
 "cells": [
  {
   "cell_type": "markdown",
   "metadata": {
    "collapsed": true,
    "pycharm": {
     "name": "#%% md\n"
    }
   },
   "source": [
    "#  Generation\n",
    "\n",
    "Collection Villes\n",
    "\n",
    "ID_Ville ; Nom\n",
    "\n",
    "Collection Routes\n",
    "\n",
    "ID_Route ; ID_Ville_1 ; ID_Ville_2 ; Nom ; Sens ; Weight\n",
    "\n",
    "## Villes"
   ]
  },
  {
   "cell_type": "code",
   "source": [
    "import random\n",
    "from pymongo import MongoClient\n",
    "from faker import Faker\n",
    "\n",
    "# Init\n",
    "client = MongoClient('localhost', 27017)\n",
    "Faker.seed(0)\n",
    "fake = Faker()\n",
    "db = client['citeos']\n",
    "collection_villes = db['villes']\n",
    "first = [\"Chelm\", \"Elm\", \"El\", \"Bur\", \"En\", \"Eg\", \"Pem\", \"Pen\", \"Edg\", \"Sud\", \"Sod\", \"Hors\", \"Dur\", \"Sun\", \"Nort\", \"Brad\", \"Farn\", \"Barn\", \"Dart\", \"Hart\", \"South\", \"Shaft\", \"Blan\", \"Rock\", \"Alf\", \"Wy\", \"Marl\", \"Staf\", \"Wet\", \"Cas\", \"Stain\", \"Whit\", \"Stap\", \"Brom\", \"Wych\", \"Watch\", \"Win\", \"Horn\", \"Mel\", \"Cook\", \"Hurst\", \"Ald\", \"Shriv\", \"Kings\", \"Clere\", \"Maiden\", \"Leather\", \"Brack\",\"Brain\", \"Walt\", \"Prest\", \"Wen\", \"Flit\", \"Ash\"]\n",
    "doubles = [\"Bass\", \"Chipp\", \"Sodd\", \"Sudd\", \"Ell\", \"Burr\", \"Egg\", \"Emm\", \"Hamm\", \"Hann\", \"Cann\", \"Camm\", \"Camb\", \"Sund\", \"Pend\", \"End\", \"Warr\", \"Worr\", \"Hamp\", \"Roth\", \"Both\", \"Sir\", \"Cir\", \"Redd\", \"Wolv\", \"Mill\", \"Kett\", \"Ribb\", \"Dribb\", \"Fald\", \"Skell\", \"Chedd\", \"Chill\", \"Tipp\", \"Full\", \"Todd\", \"Abb\", \"Booth\"]\n",
    "post_doubles = [\"ing\", \"en\", \"er\"]\n",
    "mid = [\"bas\", \"ber\", \"stan\", \"ring\", \"den\", \"-under-\", \" on \", \"en\", \"re\", \"rens\", \"comp\", \"mer\", \"sey\", \"mans\"]\n",
    "last = [\"ford\", \"pomme\", \"charpentier\", \"stoke\", \"ley\", \"ney\",  \"don\", \"den\", \"ton\", \"bury\", \"well\", \"beck\", \"ham\", \"borough\", \"side\", \"wick\", \"hampton\", \"wich\", \"cester\", \"chester\", \"ling\", \"moor\", \"wood\", \"brook\", \"port\", \"wold\", \"mere\", \"castle\", \"hall\", \"bridge\", \"combe\", \"smith\", \"field\", \"ditch\", \"wang\", \"over\", \"worth\", \"by\", \"brough\", \"low\", \"grove\", \"avon\", \"sted\", \"bourne\", \"borne\", \"thorne\", \"lake\", \"shot\", \"bage\", \"head\", \"ey\", \"nell\", \"tree\", \"down\"]\n",
    "\n",
    "# Generate 1 city names\n",
    "def generate_name():\n",
    "    finished_name = \"\"\n",
    "    pd = 0\n",
    "    if random.random()  > 0.4:\n",
    "        finished_name = finished_name + random.choice(doubles)\n",
    "        if random.random()  > 0.6:\n",
    "            finished_name = finished_name + random.choice(post_doubles)\n",
    "            pd = 1\n",
    "        else:\n",
    "            finished_name = finished_name[0:len(finished_name) - 1]\n",
    "    else:\n",
    "        finished_name = finished_name + random.choice(first)\n",
    "\n",
    "    if random.random()  > 0.5 and not pd:\n",
    "        if finished_name.endswith(\"r\") or finished_name.endswith(\"b\"):\n",
    "            if random.random()  > 0.4:\n",
    "                finished_name = finished_name + \"ble\"\n",
    "            else:\n",
    "                finished_name = finished_name + \"gle\"\n",
    "        elif finished_name.endswith(\"n\") or finished_name.endswith(\"d\"):\n",
    "            finished_name = finished_name + \"dle\"\n",
    "        elif finished_name.endswith(\"s\"):\n",
    "            finished_name = finished_name + \"tle\"\n",
    "\n",
    "    if random.random()  > 0.7 and finished_name.endswith(\"le\"):\n",
    "        finished_name = finished_name + \"s\"\n",
    "\n",
    "    elif random.random()  > 0.5:\n",
    "        if finished_name.endswith(\"n\"):\n",
    "            if random.random()  > 0.5:\n",
    "                finished_name = finished_name + \"s\"\n",
    "            else:\n",
    "                finished_name = finished_name + \"d\"\n",
    "        elif finished_name.endswith(\"m\"):\n",
    "            finished_name = finished_name + \"s\"\n",
    "\n",
    "    if random.random()  > 0.7:\n",
    "        finished_name = finished_name + random.choice(mid)\n",
    "    finished_name = finished_name + random.choice(last)\n",
    "\n",
    "    fix = finished_name.rpartition(' ')\n",
    "    if fix[1] == ' ':\n",
    "        finished_name = fix[0] + ' ' + fix[2].capitalize()\n",
    "\n",
    "    fix = finished_name.rpartition('-')\n",
    "    if fix[1] == '-':\n",
    "        finished_name = fix[0] + '-' + fix[2].capitalize()\n",
    "\n",
    "    return finished_name\n",
    "\n",
    "# Generate N unique city names\n",
    "def generate_cities(number):\n",
    "    cities = []\n",
    "    while len(cities) != number:\n",
    "        city = generate_name()\n",
    "        if { \"ville\":city } not in cities:\n",
    "            cities.append({\"ville\":city})\n",
    "    return cities\n",
    "\n",
    "# drop cities collection\n",
    "def drop_cities(): collection_villes.drop()\n",
    "\n",
    "# upload a list of cities to db\n",
    "def upload_cities(cities): collection_villes.insert_many(cities)\n",
    "\n",
    "drop_cities()\n",
    "upload_cities(generate_cities(10000))\n",
    "print('ended')"
   ],
   "metadata": {
    "collapsed": false,
    "pycharm": {
     "name": "#%%\n"
    }
   },
   "execution_count": 98,
   "outputs": [
    {
     "name": "stdout",
     "output_type": "stream",
     "text": [
      "ended\n"
     ]
    }
   ]
  },
  {
   "cell_type": "markdown",
   "source": [
    "## Routes"
   ],
   "metadata": {
    "collapsed": false
   }
  },
  {
   "cell_type": "code",
   "execution_count": null,
   "outputs": [],
   "source": [],
   "metadata": {
    "collapsed": false,
    "pycharm": {
     "name": "#%%\n"
    }
   }
  }
 ],
 "metadata": {
  "kernelspec": {
   "name": "learningml",
   "language": "python",
   "display_name": "Python (learningML)"
  },
  "language_info": {
   "codemirror_mode": {
    "name": "ipython",
    "version": 2
   },
   "file_extension": ".py",
   "mimetype": "text/x-python",
   "name": "python",
   "nbconvert_exporter": "python",
   "pygments_lexer": "ipython2",
   "version": "2.7.6"
  }
 },
 "nbformat": 4,
 "nbformat_minor": 0
}