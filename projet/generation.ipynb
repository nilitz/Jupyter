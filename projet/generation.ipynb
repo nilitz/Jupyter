{
 "cells": [
  {
   "cell_type": "markdown",
   "source": [
    "## Initialisation"
   ],
   "metadata": {
    "collapsed": false,
    "pycharm": {
     "name": "#%% md\n"
    }
   }
  },
  {
   "cell_type": "code",
   "execution_count": 121,
   "outputs": [],
   "source": [
    "import random\n",
    "import time\n",
    "import pprint\n",
    "\n",
    "from matplotlib import pyplot as plt\n",
    "from pymongo import MongoClient\n",
    "import numpy as np\n",
    "\n",
    "\n",
    "# Init\n",
    "mongo = MongoClient('localhost', 27017)\n",
    "db = mongo['citeos']\n",
    "collection_villes = db['villes']\n",
    "collection_routes = db['routes']\n",
    "collection_clients = db['clients']"
   ],
   "metadata": {
    "collapsed": false,
    "pycharm": {
     "name": "#%%\n"
    }
   }
  },
  {
   "cell_type": "markdown",
   "source": [
    "## Generation Villes & Routes"
   ],
   "metadata": {
    "collapsed": false
   }
  },
  {
   "cell_type": "code",
   "execution_count": null,
   "outputs": [],
   "source": [
    "def generate_cities(n):\n",
    "    collection_villes.drop()\n",
    "    collection_routes.drop()\n",
    "\n",
    "    cities = []\n",
    "    roads = []\n",
    "\n",
    "    #start = time.perf_counter()\n",
    "\n",
    "    for i in range(1, n + 1):\n",
    "        cities.append({\"id_ville\": i})\n",
    "        for j in range(i - 1, -1, -1):\n",
    "            if random.random() > 0.95: roads.append({\"route\": \"route \" + str(i) + \"/\" + str(j),\"id_ville_1\": i,\"id_ville_2\": j,\"est_oriente\": True,\"poids_1\": int(random.random() * 590 + 10),\"poids_2\": int(random.random() * 590 + 10),\"trafic\": [random.random() * 0.50 + 0.50 for _ in range(0, 24, 4)]})\n",
    "            else: roads.append({\"route\": \"route \" + str(i) + \"/\" + str(j),\"id_ville_1\": i,\"id_ville_2\": j,\"est_oriente\": False,\"poids\": int(random.random() * 590 + 10),\"trafic\": [random.random() * 0.50 + 0.50 for _ in range(0, 24, 4)]})\n",
    "        if len(roads) >= 1000:\n",
    "            collection_routes.insert_many(roads)\n",
    "            roads = []\n",
    "    collection_villes.insert_many(cities)\n",
    "    if roads: collection_routes.insert_many(roads)\n",
    "\n",
    "    #print(time.perf_counter() - start)\n",
    "\n",
    "\n",
    "generate_cities(1000)"
   ],
   "metadata": {
    "collapsed": false,
    "pycharm": {
     "name": "#%%\n"
    }
   }
  },
  {
   "cell_type": "markdown",
   "source": [
    "## Generation Clients\n"
   ],
   "metadata": {
    "collapsed": false
   }
  },
  {
   "cell_type": "code",
   "execution_count": 24,
   "outputs": [],
   "source": [
    "def generate_clients(n):\n",
    "    collection_clients.drop()\n",
    "    clients = []\n",
    "\n",
    "    for i in range(1, n + 1):\n",
    "        client = {\"id_client\" : i, 'est_client': True}\n",
    "        if random.random() > 0.5:\n",
    "            randomizer = random.random()\n",
    "            if randomizer < 0.33:\n",
    "                client['type'] = 'particulier'\n",
    "                clients.append(client)\n",
    "            elif randomizer < 0.66:\n",
    "                client['type'] = 'frais'\n",
    "                clients.append(client)\n",
    "            else:\n",
    "                client['type'] = 'prisonnier'\n",
    "                clients.append(client)\n",
    "        else:\n",
    "            client['est_client'] = False\n",
    "            clients.append(client)\n",
    "    collection_clients.insert_many(clients)\n",
    "\n",
    "generate_clients(collection_villes.count_documents({}))\n"
   ],
   "metadata": {
    "collapsed": false,
    "pycharm": {
     "name": "#%%\n"
    }
   }
  },
  {
   "cell_type": "markdown",
   "source": [
    "## Import Graphe"
   ],
   "metadata": {
    "collapsed": false
   }
  },
  {
   "cell_type": "code",
   "execution_count": 29,
   "outputs": [],
   "source": [
    "num_clients_FR = list(map(lambda x: x['id_client'], collection_clients.aggregate([{\"$match\" : {'est_client': True, 'type': 'frais'}}])))\n",
    "num_clients_PA = list(map(lambda x: x['id_client'], collection_clients.aggregate([{\"$match\" : {'est_client': True, 'type': 'particulier'}}])))\n",
    "num_clients_PR = list(map(lambda x: x['id_client'], collection_clients.aggregate([{\"$match\" : {'est_client': True, 'type': 'prisonnier'}}])))\n",
    "\n",
    "num_clients_FR.append(0)\n",
    "num_clients_PA.append(0)\n",
    "num_clients_PR.append(0)\n",
    "\n",
    "roads_FR = np.array(list(collection_routes.find({'id_ville_1': {'$in': num_clients_FR}, 'id_ville_2': {'$in': num_clients_FR}})))\n",
    "roads_PA = np.array(list(collection_routes.find({'id_ville_1': {'$in': num_clients_PA}, 'id_ville_2': {'$in': num_clients_PA}})))\n",
    "roads_PR = np.array(list(collection_routes.find({'id_ville_1': {'$in': num_clients_PR}, 'id_ville_2': {'$in': num_clients_PR}})))"
   ],
   "metadata": {
    "collapsed": false,
    "pycharm": {
     "name": "#%%\n"
    }
   }
  },
  {
   "cell_type": "markdown",
   "source": [
    "## Fonction Voisin"
   ],
   "metadata": {
    "collapsed": false
   }
  },
  {
   "cell_type": "code",
   "execution_count": 156,
   "outputs": [
    {
     "name": "stdout",
     "output_type": "stream",
     "text": [
      "origine : [0, 2, 18, 20, 32, 37, 0]\n",
      "voisin  : [0, 18, 2, 20, 32, 37, 0]\n",
      "voisin  : [0, 2, 20, 18, 32, 37, 0]\n",
      "voisin  : [0, 2, 18, 32, 20, 37, 0]\n",
      "voisin  : [0, 2, 18, 20, 37, 32, 0]\n"
     ]
    }
   ],
   "source": [
    "def neighborhood(circuit):\n",
    "    \"\"\"\n",
    "    Cette fonction est un generateur de tous les voisins valides d'une solution\n",
    "    \"\"\"\n",
    "    for i in range (1, len(circuit) - 2):\n",
    "        neighbor_circuit = circuit.copy()\n",
    "        neighbor_circuit[i], neighbor_circuit[i + 1] = neighbor_circuit[i + 1], neighbor_circuit[i]\n",
    "        yield neighbor_circuit\n",
    "\n",
    "test_circuit = [0,2,18,20,32,37,0]\n",
    "print(f'origine : {test_circuit}')\n",
    "for n in neighborhood(test_circuit):\n",
    "    print(f'voisin  : {n}')"
   ],
   "metadata": {
    "collapsed": false,
    "pycharm": {
     "name": "#%%\n"
    }
   }
  },
  {
   "cell_type": "markdown",
   "source": [
    "## Fonction Recuperation Routes"
   ],
   "metadata": {
    "collapsed": false
   }
  },
  {
   "cell_type": "code",
   "execution_count": 105,
   "outputs": [],
   "source": [
    "def import_roads(cities):\n",
    "     return np.array(list(collection_routes.find({'id_ville_1': {'$in': cities}, 'id_ville_2': {'$in': cities}})))\n"
   ],
   "metadata": {
    "collapsed": false,
    "pycharm": {
     "name": "#%%\n"
    }
   }
  },
  {
   "cell_type": "markdown",
   "source": [
    "## Fonction Score"
   ],
   "metadata": {
    "collapsed": false
   }
  },
  {
   "cell_type": "code",
   "execution_count": 157,
   "outputs": [
    {
     "name": "stdout",
     "output_type": "stream",
     "text": [
      "1230\n",
      "1462\n",
      "1137\n",
      "861\n"
     ]
    }
   ],
   "source": [
    "def circuit_score(circuit, roads):\n",
    "    \"\"\"\n",
    "    Cette fonction retourne le score d'un circuit eulerien, cela permettra de comparer les differents voisins entre eux\n",
    "    \"\"\"\n",
    "    score = 0\n",
    "    for i in range(0, len(circuit) - 1):\n",
    "        #on recupere la bonne route\n",
    "        road = next(item for item in roads if (item[\"id_ville_1\"] == circuit[i] and item[\"id_ville_2\"] == circuit[i + 1]) or (item[\"id_ville_1\"] == circuit[i + 1] and item[\"id_ville_2\"] == circuit[i]))\n",
    "        #on verifie si la route est oriente ou non, si oui, on cherche le bon sens\n",
    "        if road['est_oriente']: score += road['poids_1'] if road['id_ville_1'] == circuit[i] else road['poids_2']\n",
    "        else: score += road['poids']\n",
    "    return score\n",
    "\n",
    "test_circuit = [0,2,18,20,32,37,0]\n",
    "test_roads = import_roads(test_circuit)\n",
    "\n",
    "for neighbor in neighborhood(test_circuit):\n",
    "    print(circuit_score(neighbor, test_roads))"
   ],
   "metadata": {
    "collapsed": false,
    "pycharm": {
     "name": "#%%\n"
    }
   }
  },
  {
   "cell_type": "markdown",
   "source": [
    "## Recherche Tabou"
   ],
   "metadata": {
    "collapsed": false
   }
  },
  {
   "cell_type": "code",
   "execution_count": 153,
   "outputs": [],
   "source": [
    "def tabu_search(initial_circuit, tabu_size, max_iteration):\n",
    "    iteration = 1\n",
    "    tabu_list = list()\n",
    "    actual_circuit = initial_circuit.copy()\n",
    "\n",
    "    actual_roads = import_roads(actual_circuit)\n",
    "\n",
    "    best_actual_circuit = initial_circuit.copy()\n",
    "    best_total_circuit = initial_circuit.copy()\n",
    "    best_total_value = circuit_score(best_total_circuit, actual_roads)\n",
    "\n",
    "    best_total_list = list()\n",
    "    best_actual_list = list()\n",
    "\n",
    "    while iteration <= max_iteration:\n",
    "        iteration += 1\n",
    "        best_actual_value = -1\n",
    "\n",
    "        # on parcourt les voisins de la solution courante\n",
    "        for neighbor in neighborhood(actual_circuit):\n",
    "            if neighbor not in tabu_list and (circuit_score(neighbor, actual_roads) <= best_actual_value or best_actual_value == -1):\n",
    "                best_actual_value = circuit_score(neighbor, actual_roads)\n",
    "                best_actual_circuit = neighbor.copy()\n",
    "\n",
    "        # on met a jour la meilleur solution rencontree depuis le debut\n",
    "        if best_actual_value < best_total_value:\n",
    "            best_total_circuit = best_actual_circuit.copy()\n",
    "            best_total_value = best_actual_value\n",
    "\n",
    "        best_total_list.append(best_total_value)\n",
    "        best_actual_list.append(best_actual_value)\n",
    "\n",
    "        actual_circuit = best_actual_circuit.copy()\n",
    "\n",
    "        if len(tabu_list) >= tabu_size: tabu_list.pop(0)\n",
    "        tabu_list.append(actual_circuit.copy())\n",
    "\n",
    "    return best_total_circuit, best_total_list, best_actual_list"
   ],
   "metadata": {
    "collapsed": false,
    "pycharm": {
     "name": "#%%\n"
    }
   }
  },
  {
   "cell_type": "code",
   "execution_count": 158,
   "outputs": [
    {
     "name": "stdout",
     "output_type": "stream",
     "text": [
      "[0, 32, 2, 18, 44, 37, 20, 48, 70, 52, 0]\n"
     ]
    },
    {
     "data": {
      "text/plain": "<Figure size 432x288 with 1 Axes>",
      "image/png": "[encoded data removed]"
     },
     "metadata": {
      "needs_background": "light"
     },
     "output_type": "display_data"
    }
   ],
   "source": [
    "test_circuit = [0,2,18,20,32,37,44,48,52,70,0]\n",
    "\n",
    "\n",
    "best_circuit, bt, ba= tabu_search(test_circuit, 9, 50)\n",
    "plt.xlabel(\"nb itérations\", fontsize=16)\n",
    "plt.ylabel(\"valeur\", fontsize=16)\n",
    "print(best_circuit)\n",
    "res = plt.plot(range(50), bt)\n",
    "res = plt.plot(range(50), ba)"
   ],
   "metadata": {
    "collapsed": false,
    "pycharm": {
     "name": "#%%\n"
    }
   }
  }
 ],
 "metadata": {
  "kernelspec": {
   "name": "learningml",
   "language": "python",
   "display_name": "Python (learningML)"
  },
  "language_info": {
   "codemirror_mode": {
    "name": "ipython",
    "version": 2
   },
   "file_extension": ".py",
   "mimetype": "text/x-python",
   "name": "python",
   "nbconvert_exporter": "python",
   "pygments_lexer": "ipython2",
   "version": "2.7.6"
  }
 },
 "nbformat": 4,
 "nbformat_minor": 0
}