{
 "cells": [
  {
   "cell_type": "markdown",
   "metadata": {
    "collapsed": true,
    "pycharm": {
     "name": "#%% md\n"
    }
   },
   "source": [
    "## Initialisation"
   ]
  },
  {
   "cell_type": "code",
   "execution_count": 1,
   "outputs": [],
   "source": [
    "import random\n",
    "import time\n",
    "import pprint\n",
    "\n",
    "from matplotlib import pyplot as plt\n",
    "from pymongo import MongoClient\n",
    "import numpy as np\n",
    "\n",
    "\n",
    "# Init\n",
    "mongo = MongoClient('localhost', 27017)\n",
    "db = mongo['citeos']\n",
    "collection_villes = db['villes']\n",
    "collection_routes = db['routes']\n",
    "collection_clients = db['clients']\n",
    "\n",
    "num_clients_FR = list(map(lambda x: x['id_client'], collection_clients.aggregate([{\"$match\" : {'est_client': True, 'type': 'frais'}}])))\n",
    "num_clients_PA = list(map(lambda x: x['id_client'], collection_clients.aggregate([{\"$match\" : {'est_client': True, 'type': 'particulier'}}])))\n",
    "num_clients_PR = list(map(lambda x: x['id_client'], collection_clients.aggregate([{\"$match\" : {'est_client': True, 'type': 'prisonnier'}}])))\n",
    "\n",
    "num_clients_FR.append(0)\n",
    "num_clients_PA.append(0)\n",
    "num_clients_PR.append(0)\n",
    "\n",
    "roads_FR = np.array(list(collection_routes.find({'id_ville_1': {'$in': num_clients_FR}, 'id_ville_2': {'$in': num_clients_FR}})))\n",
    "roads_PA = np.array(list(collection_routes.find({'id_ville_1': {'$in': num_clients_PA}, 'id_ville_2': {'$in': num_clients_PA}})))\n",
    "roads_PR = np.array(list(collection_routes.find({'id_ville_1': {'$in': num_clients_PR}, 'id_ville_2': {'$in': num_clients_PR}})))\n",
    "\n",
    "num_clients_FR.remove(0)\n",
    "num_clients_PA.remove(0)\n",
    "num_clients_PR.remove(0)"
   ],
   "metadata": {
    "collapsed": false,
    "pycharm": {
     "name": "#%%\n"
    }
   }
  },
  {
   "cell_type": "markdown",
   "source": [
    "## Fonction Voisin"
   ],
   "metadata": {
    "collapsed": false
   }
  },
  {
   "cell_type": "code",
   "execution_count": 2,
   "outputs": [],
   "source": [
    "def neighborhood(circuit):\n",
    "    \"\"\"\n",
    "    Cette fonction est un generateur de tous les voisins valides d'une solution\n",
    "    \"\"\"\n",
    "    for i in range (1, len(circuit) - 2):\n",
    "        neighbor_circuit = circuit.copy()\n",
    "        neighbor_circuit[i], neighbor_circuit[i + 1] = neighbor_circuit[i + 1], neighbor_circuit[i]\n",
    "        yield neighbor_circuit"
   ],
   "metadata": {
    "collapsed": false,
    "pycharm": {
     "name": "#%%\n"
    }
   }
  },
  {
   "cell_type": "markdown",
   "source": [
    "## Fonction Recuperation Routes"
   ],
   "metadata": {
    "collapsed": false
   }
  },
  {
   "cell_type": "code",
   "execution_count": 45,
   "outputs": [],
   "source": [
    "def import_roads(cities):\n",
    "    cities.append(0)\n",
    "    return np.array(list(collection_routes.find({'id_ville_1': {'$in': cities}, 'id_ville_2': {'$in': cities}})))"
   ],
   "metadata": {
    "collapsed": false,
    "pycharm": {
     "name": "#%%\n"
    }
   }
  },
  {
   "cell_type": "markdown",
   "source": [
    "## Fonction Score"
   ],
   "metadata": {
    "collapsed": false
   }
  },
  {
   "cell_type": "code",
   "execution_count": 61,
   "outputs": [],
   "source": [
    "def circuit_score(circuit, roads):\n",
    "    \"\"\"\n",
    "    Cette fonction retourne le score d'un circuit eulerien, cela permettra de comparer les differents voisins entre eux\n",
    "    \"\"\"\n",
    "    score = 0\n",
    "    for i in range(0, len(circuit) - 1):\n",
    "        #on recupere la bonne route\n",
    "        road = next(item for item in roads if (item[\"id_ville_1\"] == circuit[i] and item[\"id_ville_2\"] == circuit[i + 1]) or (item[\"id_ville_1\"] == circuit[i + 1] and item[\"id_ville_2\"] == circuit[i]))\n",
    "        #on verifie si la route est oriente ou non, si oui, on cherche le bon sens\n",
    "        if road['est_oriente']: score += road['poids_1'] if road['id_ville_1'] == circuit[i] else road['poids_2']\n",
    "        else: score += road['poids']\n",
    "    return score"
   ],
   "metadata": {
    "collapsed": false,
    "pycharm": {
     "name": "#%%\n"
    }
   }
  },
  {
   "cell_type": "markdown",
   "source": [
    "## Recherche Tabou"
   ],
   "metadata": {
    "collapsed": false
   }
  },
  {
   "cell_type": "code",
   "execution_count": 60,
   "outputs": [],
   "source": [
    "def tabu_search(initial_circuit, tabu_size, max_iteration, actual_roads):\n",
    "    iteration = 1\n",
    "    tabu_list = list()\n",
    "    actual_circuit = initial_circuit.copy()\n",
    "\n",
    "    best_actual_circuit = initial_circuit.copy()\n",
    "    best_total_circuit = initial_circuit.copy()\n",
    "    best_total_value = circuit_score(best_total_circuit, actual_roads)\n",
    "\n",
    "    best_total_list = list()\n",
    "    best_actual_list = list()\n",
    "\n",
    "    while iteration <= max_iteration:\n",
    "        iteration += 1\n",
    "        best_actual_value = -1\n",
    "\n",
    "        # on parcourt les voisins de la solution courante\n",
    "        for neighbor in neighborhood(actual_circuit):\n",
    "            if neighbor not in tabu_list and (circuit_score(neighbor, actual_roads) <= best_actual_value or best_actual_value == -1):\n",
    "                best_actual_value = circuit_score(neighbor, actual_roads)\n",
    "                best_actual_circuit = neighbor.copy()\n",
    "\n",
    "        # on met a jour la meilleur solution rencontree depuis le debut\n",
    "        if best_actual_value < best_total_value:\n",
    "            best_total_circuit = best_actual_circuit.copy()\n",
    "            best_total_value = best_actual_value\n",
    "\n",
    "        best_total_list.append(best_total_value)\n",
    "        best_actual_list.append(best_actual_value)\n",
    "\n",
    "        actual_circuit = best_actual_circuit.copy()\n",
    "\n",
    "        if len(tabu_list) >= tabu_size: tabu_list.pop(0)\n",
    "        tabu_list.append(actual_circuit.copy())\n",
    "\n",
    "    return best_total_circuit, best_total_list, best_actual_list"
   ],
   "metadata": {
    "collapsed": false,
    "pycharm": {
     "name": "#%%\n"
    }
   }
  },
  {
   "cell_type": "markdown",
   "source": [
    "## Multi-start"
   ],
   "metadata": {
    "collapsed": false
   }
  },
  {
   "cell_type": "code",
   "execution_count": 66,
   "outputs": [],
   "source": [
    "def tabu_multi_start(number, iteration, shuffled, actual_roads):\n",
    "    best_local_score = -1\n",
    "    best_local_circuit = []\n",
    "    for i in range(0, number):\n",
    "        shuffled_circuit = shuffled.copy()\n",
    "        shuffled_circuit.append(0)\n",
    "        shuffled_circuit.insert(0, 0)\n",
    "        bc, bt, ba= tabu_search(shuffled_circuit, 100, iteration, actual_roads)\n",
    "        actual_score = circuit_score(bc, actual_roads)\n",
    "\n",
    "        if best_local_score == -1 or actual_score < best_local_score:\n",
    "            best_local_score = actual_score\n",
    "            best_local_circuit = bc\n",
    "\n",
    "    return best_local_circuit, best_local_score"
   ],
   "metadata": {
    "collapsed": false,
    "pycharm": {
     "name": "#%%\n"
    }
   }
  },
  {
   "cell_type": "markdown",
   "source": [
    "## Graphe vers circuits"
   ],
   "metadata": {
    "collapsed": false
   }
  },
  {
   "cell_type": "code",
   "execution_count": 34,
   "outputs": [],
   "source": [
    "k = 30\n",
    "\n",
    "len(num_clients_FR)\n",
    "#roads_FR\n",
    "\n",
    "def create_circuits(clients_list, roads_list, k):\n",
    "    total_of_clients = sum(len(client_list) for client_list in [num_clients_FR, num_clients_PA, num_clients_PR])\n",
    "    number_of_clients = [len(client_list) for client_list in [num_clients_FR, num_clients_PA, num_clients_PR]]\n",
    "    trucks_for_lists = [int(k * percentage) for percentage in [len(client_list) / total_of_clients for client_list in [num_clients_FR, num_clients_PA, num_clients_PR]]]\n",
    "    while sum(trucks_for_lists) != k: trucks_for_lists[random.randint(0, len(trucks_for_lists) - 1)] += 1\n",
    "\n",
    "    origins = [0,0,0]\n",
    "    clients_per_k = [noc // tfl for noc, tfl in zip(number_of_clients, trucks_for_lists)]\n",
    "    difference = [noc % cpk for noc, cpk in zip(number_of_clients, clients_per_k)]\n",
    "\n",
    "\n",
    "    circuits = [[],[],[]]\n",
    "\n",
    "\n",
    "    for idx, client_list in enumerate(clients_list):\n",
    "        passed = [origins[idx],]\n",
    "        actual_node = random.choice(client_list)\n",
    "        for truck in range(0, trucks_for_lists[idx]):\n",
    "\n",
    "            truck_circuit = [actual_node,]\n",
    "            passed.append(actual_node)\n",
    "\n",
    "            while len(truck_circuit) != clients_per_k[idx]:\n",
    "                truck_circuit.append(get_closer_node(truck_circuit[-1], roads_list[idx], passed))\n",
    "                passed.append(truck_circuit[-1])\n",
    "\n",
    "            if difference[idx] > 0:\n",
    "                difference[idx] -= 1\n",
    "                truck_circuit.append(get_closer_node(truck_circuit[-1], roads_list[idx], passed))\n",
    "                passed.append(truck_circuit[-1])\n",
    "\n",
    "            actual_node = get_closer_node(truck_circuit[-1], roads_list[idx], passed)\n",
    "            circuits[idx].append(truck_circuit)\n",
    "    return circuits"
   ],
   "metadata": {
    "collapsed": false,
    "pycharm": {
     "name": "#%%\n"
    }
   }
  },
  {
   "cell_type": "markdown",
   "source": [
    "## Glouton"
   ],
   "metadata": {
    "collapsed": false
   }
  },
  {
   "cell_type": "code",
   "execution_count": 32,
   "outputs": [],
   "source": [
    "def get_closer_node(node, roads, ignored):\n",
    "    min_weight = -1\n",
    "    next_node = 0\n",
    "    roads = [r for r in roads if r[\"id_ville_1\"] not in ignored or r[\"id_ville_2\"] not in ignored]\n",
    "    for road in roads:\n",
    "        if road['est_oriente']:\n",
    "            if (road['id_ville_1'] == node) and (min_weight == -1 or min_weight > road['poids_1']):\n",
    "                min_weight = road['poids_1']\n",
    "                next_node = road['id_ville_2']\n",
    "            elif (road['id_ville_2'] == node) and (min_weight == -1 or min_weight > road['poids_2']):\n",
    "                min_weight = road['poids_2']\n",
    "                next_node = road['id_ville_1']\n",
    "        elif (min_weight > road['poids'] or  min_weight == -1) and (road[\"id_ville_1\"] == node or road[\"id_ville_2\"] == node):\n",
    "            min_weight = road['poids']\n",
    "            next_node = road['id_ville_1'] if road[\"id_ville_2\"] == node else road['id_ville_2']\n",
    "\n",
    "    return next_node"
   ],
   "metadata": {
    "collapsed": false,
    "pycharm": {
     "name": "#%%\n"
    }
   }
  },
  {
   "cell_type": "markdown",
   "source": [
    "## Tests"
   ],
   "metadata": {
    "collapsed": false
   }
  },
  {
   "cell_type": "code",
   "execution_count": 57,
   "outputs": [],
   "source": [
    "#circuits_per_type = create_circuits([num_clients_FR, num_clients_PA, num_clients_PR], [roads_FR, roads_PA, roads_PR], k)\n",
    "\n",
    "\n"
   ],
   "metadata": {
    "collapsed": false,
    "pycharm": {
     "name": "#%%\n"
    }
   }
  },
  {
   "cell_type": "code",
   "execution_count": 71,
   "outputs": [
    {
     "name": "stdout",
     "output_type": "stream",
     "text": [
      "0\n",
      "===================================================================================\n",
      "([0, 283, 759, 200, 521, 471, 41, 731, 77, 205, 74, 681, 443, 366, 591, 98, 0], 515)\n",
      "([0, 241, 615, 9, 292, 206, 397, 126, 530, 299, 308, 365, 794, 875, 579, 196, 0], 779)\n",
      "([0, 191, 136, 994, 922, 294, 435, 48, 667, 878, 949, 120, 658, 679, 805, 887, 0], 650)\n",
      "([0, 964, 99, 24, 280, 784, 281, 621, 224, 831, 344, 160, 371, 498, 588, 501, 0], 414)\n",
      "([0, 623, 288, 919, 527, 225, 583, 616, 64, 240, 876, 71, 732, 271, 706, 951, 0], 1023)\n",
      "([0, 286, 958, 102, 337, 932, 959, 528, 695, 110, 839, 845, 256, 251, 502, 377, 0], 985)\n",
      "([0, 863, 714, 18, 787, 104, 111, 473, 503, 584, 380, 399, 85, 692, 557, 832, 0], 405)\n",
      "([0, 725, 386, 945, 257, 848, 885, 693, 954, 81, 612, 760, 548, 943, 719, 653, 0], 674)\n",
      "([0, 537, 771, 237, 215, 608, 886, 991, 321, 194, 855, 965, 334, 39, 862, 749, 0], 1807)\n",
      "1\n",
      "===================================================================================\n",
      "([0, 499, 265, 523, 897, 941, 881, 678, 799, 448, 988, 540, 335, 189, 78, 341, 273, 931, 0], 365)\n",
      "([0, 915, 535, 410, 89, 96, 456, 700, 659, 436, 575, 513, 59, 899, 157, 44, 353, 30, 0], 949)\n",
      "([0, 174, 396, 167, 631, 985, 654, 378, 197, 904, 127, 138, 152, 869, 888, 703, 328, 476, 0], 448)\n",
      "([0, 788, 192, 671, 901, 896, 720, 620, 350, 27, 293, 50, 10, 939, 559, 182, 244, 0], 735)\n",
      "([0, 168, 792, 618, 465, 73, 253, 630, 892, 480, 297, 724, 314, 398, 319, 511, 861, 0], 716)\n",
      "([0, 94, 72, 114, 509, 40, 35, 522, 957, 956, 558, 86, 180, 433, 427, 624, 556, 0], 1030)\n",
      "([0, 859, 469, 451, 338, 324, 261, 218, 37, 58, 647, 852, 622, 331, 318, 21, 697, 0], 419)\n",
      "([0, 454, 717, 186, 605, 306, 61, 458, 395, 295, 531, 536, 882, 636, 674, 202, 902, 0], 763)\n",
      "([0, 890, 291, 635, 738, 868, 571, 222, 128, 828, 696, 352, 437, 75, 867, 644, 51, 0], 781)\n",
      "([0, 322, 402, 419, 733, 453, 980, 599, 493, 815, 204, 910, 153, 169, 665, 452, 121, 0], 788)\n",
      "([0, 789, 776, 203, 850, 602, 307, 699, 147, 662, 798, 34, 710, 856, 385, 252, 826, 0], 1941)\n",
      "2\n",
      "===================================================================================\n",
      "([0, 220, 552, 496, 43, 460, 756, 594, 895, 566, 686, 5, 524, 797, 950, 462, 444, 231, 122, 0], 327)\n",
      "([0, 819, 142, 289, 675, 228, 266, 763, 601, 905, 576, 219, 971, 807, 673, 356, 639, 565, 235, 0], 704)\n",
      "([0, 276, 841, 838, 135, 278, 821, 561, 1000, 691, 966, 745, 666, 333, 263, 213, 183, 727, 628, 0], 827)\n",
      "([0, 97, 105, 262, 329, 367, 382, 611, 25, 564, 992, 112, 193, 467, 364, 137, 3, 842, 663, 0], 666)\n",
      "([0, 578, 491, 833, 983, 538, 248, 542, 835, 100, 517, 113, 872, 149, 923, 960, 604, 708, 38, 0], 877)\n",
      "([0, 31, 305, 361, 416, 698, 701, 592, 593, 948, 940, 296, 707, 643, 506, 933, 963, 938, 388, 0], 525)\n",
      "([0, 26, 52, 188, 687, 908, 649, 849, 181, 737, 101, 325, 587, 405, 898, 986, 979, 428, 272, 0], 1085)\n",
      "([0, 425, 457, 705, 903, 632, 515, 269, 198, 232, 580, 260, 884, 466, 62, 573, 713, 184, 88, 0], 578)\n",
      "([0, 284, 633, 711, 68, 217, 568, 339, 383, 109, 487, 411, 245, 348, 267, 144, 809, 572, 911, 0], 714)\n",
      "([0, 315, 688, 549, 532, 539, 683, 429, 641, 775, 840, 684, 677, 534, 390, 900, 426, 279, 0], 1484)\n"
     ]
    }
   ],
   "source": [
    "final = []\n",
    "n = 10\n",
    "it = 250\n",
    "\n",
    "roads_all = [roads_FR, roads_PA, roads_PR]\n",
    "circuits_per_type = create_circuits([num_clients_FR, num_clients_PA, num_clients_PR], roads_all, k)\n",
    "\n",
    "\n",
    "for idx, circuits in enumerate(circuits_per_type):\n",
    "    print(idx)\n",
    "    print(\"===================================================================================\")\n",
    "    for circuit in circuits:\n",
    "        final.append(tabu_multi_start(n, it, circuit.copy(), import_roads(circuit.copy())))\n",
    "        print(final[-1])\n",
    "\n",
    "#print(final)"
   ],
   "metadata": {
    "collapsed": false,
    "pycharm": {
     "name": "#%%\n"
    }
   }
  }
 ],
 "metadata": {
  "kernelspec": {
   "name": "learningml",
   "language": "python",
   "display_name": "Python (learningML)"
  },
  "language_info": {
   "codemirror_mode": {
    "name": "ipython",
    "version": 2
   },
   "file_extension": ".py",
   "mimetype": "text/x-python",
   "name": "python",
   "nbconvert_exporter": "python",
   "pygments_lexer": "ipython2",
   "version": "2.7.6"
  }
 },
 "nbformat": 4,
 "nbformat_minor": 0
}