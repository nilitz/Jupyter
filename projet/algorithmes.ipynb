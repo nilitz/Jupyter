{
 "cells": [
  {
   "cell_type": "markdown",
   "metadata": {
    "collapsed": true,
    "pycharm": {
     "name": "#%% md\n"
    }
   },
   "source": [
    "## Initialisation"
   ]
  },
  {
   "cell_type": "code",
   "execution_count": 46,
   "outputs": [],
   "source": [
    "import copy\n",
    "import random\n",
    "import time\n",
    "import pprint\n",
    "\n",
    "from matplotlib import pyplot as plt\n",
    "from pymongo import MongoClient\n",
    "import numpy as np\n",
    "\n",
    "\n",
    "# Init\n",
    "mongo = MongoClient('localhost', 27017)\n",
    "db = mongo['citeos']\n",
    "collection_villes = db['villes']\n",
    "collection_routes = db['routes']\n",
    "collection_clients = db['clients']\n",
    "\n",
    "num_clients_FR = list(map(lambda x: x['id_client'], collection_clients.aggregate([{\"$match\" : {'est_client': True, 'type': 'frais'}}])))\n",
    "num_clients_PA = list(map(lambda x: x['id_client'], collection_clients.aggregate([{\"$match\" : {'est_client': True, 'type': 'particulier'}}])))\n",
    "num_clients_PR = list(map(lambda x: x['id_client'], collection_clients.aggregate([{\"$match\" : {'est_client': True, 'type': 'prisonnier'}}])))\n",
    "\n",
    "num_clients_FR.append(0)\n",
    "num_clients_PA.append(0)\n",
    "num_clients_PR.append(0)\n",
    "\n",
    "roads_FR = np.array(list(collection_routes.find({'id_ville_1': {'$in': num_clients_FR}, 'id_ville_2': {'$in': num_clients_FR}})))\n",
    "roads_PA = np.array(list(collection_routes.find({'id_ville_1': {'$in': num_clients_PA}, 'id_ville_2': {'$in': num_clients_PA}})))\n",
    "roads_PR = np.array(list(collection_routes.find({'id_ville_1': {'$in': num_clients_PR}, 'id_ville_2': {'$in': num_clients_PR}})))\n",
    "\n",
    "num_clients_FR.remove(0)\n",
    "num_clients_PA.remove(0)\n",
    "num_clients_PR.remove(0)"
   ],
   "metadata": {
    "collapsed": false,
    "pycharm": {
     "name": "#%%\n"
    }
   }
  },
  {
   "cell_type": "markdown",
   "source": [
    "## Fonction Voisin"
   ],
   "metadata": {
    "collapsed": false
   }
  },
  {
   "cell_type": "code",
   "execution_count": 2,
   "outputs": [],
   "source": [
    "def neighborhood(circuit):\n",
    "    \"\"\"\n",
    "    Cette fonction est un generateur de tous les voisins valides d'une solution\n",
    "    \"\"\"\n",
    "    for i in range (1, len(circuit) - 2):\n",
    "        neighbor_circuit = circuit.copy()\n",
    "        neighbor_circuit[i], neighbor_circuit[i + 1] = neighbor_circuit[i + 1], neighbor_circuit[i]\n",
    "        yield neighbor_circuit"
   ],
   "metadata": {
    "collapsed": false,
    "pycharm": {
     "name": "#%%\n"
    }
   }
  },
  {
   "cell_type": "markdown",
   "source": [
    "## Fonction Recuperation Routes"
   ],
   "metadata": {
    "collapsed": false
   }
  },
  {
   "cell_type": "code",
   "execution_count": 3,
   "outputs": [],
   "source": [
    "def import_roads(cities, roads):\n",
    "    cities.append(0)\n",
    "    return np.array([road for road in roads if road['id_ville_1'] in cities and road['id_ville_2'] in cities])\n"
   ],
   "metadata": {
    "collapsed": false,
    "pycharm": {
     "name": "#%%\n"
    }
   }
  },
  {
   "cell_type": "markdown",
   "source": [
    "## Fonction Score"
   ],
   "metadata": {
    "collapsed": false
   }
  },
  {
   "cell_type": "code",
   "execution_count": 180,
   "outputs": [
    {
     "name": "stdout",
     "output_type": "stream",
     "text": [
      "[2, 12, 13, 27, 31, 36, 41, 56, 73, 77, 81, 83, 85, 89, 92, 110, 111, 122, 126, 133, 136, 138, 141, 145, 151, 153, 154, 163, 168, 175, 180, 183, 198, 199, 217, 218, 219, 225, 228, 232, 237, 238, 240, 246, 260, 274, 282, 283, 288, 291, 293, 296, 299, 300, 302, 304, 318, 321, 323, 328, 329, 330, 335, 338, 339, 341, 350, 353, 354, 361, 362, 375, 386, 389, 390, 392, 401, 403, 405, 407, 418, 422, 429, 432, 433, 434, 444, 448, 450, 451, 455, 467, 470, 482, 496, 517, 519, 531, 534, 539, 545, 546, 548, 552, 566, 576, 578, 579, 582, 589, 594, 595, 601, 602, 604, 610, 615, 618, 622, 624, 626, 641, 646, 648, 649, 660, 661, 662, 663, 687, 689, 694, 716, 717, 719, 724, 727, 742, 744, 757, 765, 766, 768, 779, 783, 785, 789, 793, 797, 811, 816, 819, 820, 823, 831, 844, 849, 850, 853, 860, 861, 864, 868, 869, 874, 883, 891, 892, 902, 912, 913, 927, 937, 940, 941, 944, 954, 959, 960, 964, 967, 969, 973, 978, 979, 989, 991]\n",
      "0.007042299999739043\n",
      "0.0007089999999152496\n",
      "1.9260204000001977\n",
      "58208\n",
      "58208\n"
     ]
    }
   ],
   "source": [
    "def search(node,roads, circuit):\n",
    "    for item in roads:\n",
    "        if (item[\"id_ville_1\"] == circuit[node] and item[\"id_ville_2\"] == circuit[node + 1]) or (item[\"id_ville_1\"] == circuit[node + 1] and item[\"id_ville_2\"] == circuit[node]):\n",
    "            return item\n",
    "\n",
    "def circuit_score_test(circuit, roads):\n",
    "    \"\"\"\n",
    "    Cette fonction retourne le score d'un circuit eulerien, cela permettra de comparer les differents voisins entre eux\n",
    "    \"\"\"\n",
    "    score = 0\n",
    "    for i in range(0, len(circuit) - 1):\n",
    "        #on recupere la bonne route\n",
    "        #road = [item for item in roads if (item[\"id_ville_1\"] == circuit[i] and item[\"id_ville_2\"] == circuit[i + 1]) or (item[\"id_ville_1\"] == circuit[i + 1] and item[\"id_ville_2\"] == circuit[i])][0]\n",
    "        #road = next(item for item in roads if (item[\"id_ville_1\"] == circuit[i] and item[\"id_ville_2\"] == circuit[i + 1]) or (item[\"id_ville_1\"] == circuit[i + 1] and item[\"id_ville_2\"] == circuit[i]))\n",
    "        #road = list(collection_routes.find({'id_ville_1': {'$in': [i, i + 1]}, 'id_ville_2': {'$in': [i, i + 1]}}))[0]\n",
    "        #road = next(filter(lambda item: (item[\"id_ville_1\"] == circuit[i] and item[\"id_ville_2\"] == circuit[i + 1]) or (item[\"id_ville_1\"] == circuit[i + 1] and item[\"id_ville_2\"] == circuit[i]), roads))#\n",
    "        road = search(i, roads, circuit)\n",
    "        #on verifie si la route est oriente ou non, si oui, on cherche le bon sens\n",
    "        if road['est_oriente']: score += road['poids_1'] if road['id_ville_1'] == circuit[i] else road['poids_2']\n",
    "        else: score += road['poids']\n",
    "    return score\n",
    "\n",
    "def circuit_score(circuit, roads, header):\n",
    "    \"\"\"\n",
    "    Cette fonction retourne le score d'un circuit eulerien, cela permettra de comparer les differents voisins entre eux\n",
    "    \"\"\"\n",
    "    score = 0\n",
    "    for i in range(0, len(circuit) - 1):\n",
    "        #on recupere la bonne route\n",
    "        #road = [item for item in roads if (item[\"id_ville_1\"] == circuit[i] and item[\"id_ville_2\"] == circuit[i + 1]) or (item[\"id_ville_1\"] == circuit[i + 1] and item[\"id_ville_2\"] == circuit[i])][0]\n",
    "        #road = next(filter(lambda item: (item[\"id_ville_1\"] == circuit[i] and item[\"id_ville_2\"] == circuit[i + 1]) or (item[\"id_ville_1\"] == circuit[i + 1] and item[\"id_ville_2\"] == circuit[i]), roads))\n",
    "        name = f\"route {circuit[i]}/{circuit[i + 1]}\" if circuit[i] > circuit[i + 1] else f\"route {circuit[i + 1]}/{circuit[i]}\"\n",
    "        road = roads[header[name]]\n",
    "        #road = search(i, roads, circuit)\n",
    "        #on verifie si la route est oriente ou non, si oui, on cherche le bon sens\n",
    "        if road['est_oriente']: score += road['poids_1'] if road['id_ville_1'] == circuit[i] else road['poids_2']\n",
    "        else: score += road['poids']\n",
    "    return score\n",
    "\n",
    "\n",
    "\n",
    "\n",
    "test_circuit = [2,12,13,27,31,36,41,56,73,77]\n",
    "print(num_clients_PA)\n",
    "a = copy.deepcopy(num_clients_PA)\n",
    "r = import_roads(a, roads_PA)\n",
    "\n",
    "start = time.perf_counter()\n",
    "\n",
    "\n",
    "dic = {}\n",
    "for idx, b in enumerate(r):\n",
    "    dic[b[\"route\"]] = idx\n",
    "\n",
    "\n",
    "print(time.perf_counter() - start)\n",
    "\n",
    "start = time.perf_counter()\n",
    "for _ in range(0, 5):\n",
    "    f = circuit_score(a, r, dic)\n",
    "\n",
    "print(time.perf_counter() - start)\n",
    "\n",
    "start = time.perf_counter()\n",
    "\n",
    "for _ in range(0, 5):\n",
    "    e = circuit_score_test(a, r)\n",
    "print(time.perf_counter() - start)\n",
    "\n",
    "print(f)\n",
    "print(e)"
   ],
   "metadata": {
    "collapsed": false,
    "pycharm": {
     "name": "#%%\n"
    }
   }
  },
  {
   "cell_type": "markdown",
   "source": [
    "## Recherche Tabou"
   ],
   "metadata": {
    "collapsed": false
   }
  },
  {
   "cell_type": "code",
   "execution_count": 186,
   "outputs": [],
   "source": [
    "def tabu_search(initial_circuit, tabu_size, max_iteration, actual_roads, actual_roads_header):\n",
    "    iteration = 1\n",
    "    tabu_list = list()\n",
    "    actual_circuit = initial_circuit.copy()\n",
    "\n",
    "    best_actual_circuit = initial_circuit.copy()\n",
    "    best_total_circuit = initial_circuit.copy()\n",
    "    best_total_value = circuit_score(best_total_circuit, actual_roads, actual_roads_header)\n",
    "\n",
    "    best_total_list = list()\n",
    "    best_actual_list = list()\n",
    "\n",
    "    while iteration <= max_iteration:\n",
    "        iteration += 1\n",
    "        best_actual_value = -1\n",
    "\n",
    "        # on parcourt les voisins de la solution courante\n",
    "        for neighbor in neighborhood(actual_circuit):\n",
    "            if neighbor not in tabu_list : score = circuit_score(neighbor, actual_roads, actual_roads_header)\n",
    "            else: continue\n",
    "            if score <= best_actual_value or best_actual_value == -1:\n",
    "                best_actual_value = score\n",
    "                best_actual_circuit = neighbor.copy()\n",
    "\n",
    "        # on met a jour la meilleur solution rencontree depuis le debut\n",
    "        if best_actual_value < best_total_value:\n",
    "            best_total_circuit = best_actual_circuit.copy()\n",
    "            best_total_value = best_actual_value\n",
    "\n",
    "        best_total_list.append(best_total_value)\n",
    "        best_actual_list.append(best_actual_value)\n",
    "\n",
    "        actual_circuit = best_actual_circuit.copy()\n",
    "\n",
    "        if len(tabu_list) >= tabu_size: tabu_list.pop(0)\n",
    "        tabu_list.append(actual_circuit.copy())\n",
    "\n",
    "    return best_total_circuit, best_total_list, best_actual_list"
   ],
   "metadata": {
    "collapsed": false,
    "pycharm": {
     "name": "#%%\n"
    }
   }
  },
  {
   "cell_type": "markdown",
   "source": [
    "## Multi-start"
   ],
   "metadata": {
    "collapsed": false
   }
  },
  {
   "cell_type": "code",
   "execution_count": 182,
   "outputs": [],
   "source": [
    "def tabu_multi_start(number, iteration, shuffled, actual_roads, actual_roads_header, tabu_size):\n",
    "    best_local_score = -1\n",
    "    best_local_circuit = []\n",
    "    for i in range(0, number):\n",
    "        shuffled_circuit = shuffled.copy()\n",
    "        shuffled_circuit.append(0)\n",
    "        shuffled_circuit.insert(0, 0)\n",
    "        bc, bt, ba= tabu_search(shuffled_circuit, tabu_size, iteration, actual_roads, actual_roads_header)\n",
    "        actual_score = circuit_score(bc, actual_roads, actual_roads_header)\n",
    "\n",
    "        if best_local_score == -1 or actual_score < best_local_score:\n",
    "            best_local_score = actual_score\n",
    "            best_local_circuit = bc\n",
    "\n",
    "        random.shuffle(shuffled)\n",
    "    return best_local_circuit, best_local_score"
   ],
   "metadata": {
    "collapsed": false,
    "pycharm": {
     "name": "#%%\n"
    }
   }
  },
  {
   "cell_type": "markdown",
   "source": [
    "## Graphe vers circuits"
   ],
   "metadata": {
    "collapsed": false
   }
  },
  {
   "cell_type": "code",
   "execution_count": 183,
   "outputs": [],
   "source": [
    "def create_circuits(clients_list, roads_list, k):\n",
    "    total_of_clients = sum(len(client_list) for client_list in [num_clients_FR, num_clients_PA, num_clients_PR])\n",
    "    number_of_clients = [len(client_list) for client_list in [num_clients_FR, num_clients_PA, num_clients_PR]]\n",
    "    trucks_for_lists = [int(k * percentage) for percentage in [len(client_list) / total_of_clients for client_list in [num_clients_FR, num_clients_PA, num_clients_PR]]]\n",
    "    while sum(trucks_for_lists) != k: trucks_for_lists[random.randint(0, len(trucks_for_lists) - 1)] += 1\n",
    "\n",
    "    origins = [0,0,0]\n",
    "    clients_per_k = [noc // tfl for noc, tfl in zip(number_of_clients, trucks_for_lists)]\n",
    "    difference = [noc % cpk for noc, cpk in zip(number_of_clients, clients_per_k)]\n",
    "\n",
    "    best_circuits = [[] for _ in range (len(clients_list))]\n",
    "\n",
    "    for idx, client_list in enumerate(clients_list):\n",
    "        passed = [origins[idx],]\n",
    "        actual_node = random.choice(client_list)\n",
    "        for truck in range(0, trucks_for_lists[idx]):\n",
    "\n",
    "            truck_circuit = [actual_node,]\n",
    "            passed.append(actual_node)\n",
    "\n",
    "            while len(truck_circuit) != clients_per_k[idx]:\n",
    "                truck_circuit.append(get_closer_node(truck_circuit[-1], roads_list[idx], passed))\n",
    "                passed.append(truck_circuit[-1])\n",
    "\n",
    "            if difference[idx] > 0:\n",
    "                difference[idx] -= 1\n",
    "                truck_circuit.append(get_closer_node(truck_circuit[-1], roads_list[idx], passed))\n",
    "                passed.append(truck_circuit[-1])\n",
    "\n",
    "            if len(truck_circuit) % 6 == 0:\n",
    "                actual_node = get_closer_node(truck_circuit[0], roads_list[idx], passed)\n",
    "            else:\n",
    "                actual_node = get_closer_node(truck_circuit[-1], roads_list[idx], passed)\n",
    "            best_circuits[idx].append(truck_circuit)\n",
    "    return best_circuits"
   ],
   "metadata": {
    "collapsed": false,
    "pycharm": {
     "name": "#%%\n"
    }
   }
  },
  {
   "cell_type": "markdown",
   "source": [
    "## Glouton"
   ],
   "metadata": {
    "collapsed": false
   }
  },
  {
   "cell_type": "code",
   "execution_count": 184,
   "outputs": [],
   "source": [
    "def get_closer_node(node, roads, ignored):\n",
    "    min_weight = -1\n",
    "    next_node = 0\n",
    "    roads = [r for r in roads if r[\"id_ville_1\"] not in ignored or r[\"id_ville_2\"] not in ignored]\n",
    "    for road in roads:\n",
    "        if road['est_oriente']:\n",
    "            if (road['id_ville_1'] == node) and (min_weight == -1 or min_weight > road['poids_1']):\n",
    "                min_weight = road['poids_1']\n",
    "                next_node = road['id_ville_2']\n",
    "            elif (road['id_ville_2'] == node) and (min_weight == -1 or min_weight > road['poids_2']):\n",
    "                min_weight = road['poids_2']\n",
    "                next_node = road['id_ville_1']\n",
    "        elif (min_weight > road['poids'] or  min_weight == -1) and (road[\"id_ville_1\"] == node or road[\"id_ville_2\"] == node):\n",
    "            min_weight = road['poids']\n",
    "            next_node = road['id_ville_1'] if road[\"id_ville_2\"] == node else road['id_ville_2']\n",
    "\n",
    "    return next_node"
   ],
   "metadata": {
    "collapsed": false,
    "pycharm": {
     "name": "#%%\n"
    }
   }
  },
  {
   "cell_type": "markdown",
   "source": [
    "## Tests"
   ],
   "metadata": {
    "collapsed": false
   }
  },
  {
   "cell_type": "code",
   "execution_count": 9,
   "outputs": [],
   "source": [
    "#circuits_per_type = create_circuits([num_clients_FR, num_clients_PA, num_clients_PR], [roads_FR, roads_PA, roads_PR], k)\n",
    "\n",
    "\n"
   ],
   "metadata": {
    "collapsed": false,
    "pycharm": {
     "name": "#%%\n"
    }
   }
  },
  {
   "cell_type": "code",
   "execution_count": 190,
   "outputs": [
    {
     "name": "stdout",
     "output_type": "stream",
     "text": [
      "0\n",
      "===================================================================================\n",
      "([0, 842, 543, 18, 137, 943, 485, 112, 104, 563, 900, 68, 132, 707, 478, 839, 53, 836, 127, 993, 437, 420, 666, 436, 0], 1057)\n",
      "([0, 252, 94, 886, 833, 79, 10, 308, 171, 875, 580, 483, 681, 903, 71, 623, 86, 935, 424, 958, 97, 799, 259, 651, 0], 606)\n",
      "([0, 21, 561, 507, 393, 84, 351, 758, 445, 700, 8, 447, 702, 463, 363, 15, 290, 192, 569, 345, 473, 384, 521, 0], 735)\n",
      "([0, 69, 647, 532, 305, 556, 214, 229, 786, 74, 627, 897, 476, 524, 258, 848, 319, 968, 211, 255, 540, 520, 522, 0], 1297)\n",
      "([0, 203, 939, 427, 747, 790, 131, 230, 762, 974, 655, 381, 721, 787, 544, 838, 130, 591, 324, 395, 847, 468, 262, 0], 1220)\n",
      "([0, 609, 169, 99, 16, 513, 678, 679, 452, 376, 810, 222, 506, 806, 188, 275, 788, 516, 207, 287, 156, 87, 159, 0], 1038)\n",
      "([0, 1, 873, 919, 88, 356, 598, 726, 43, 14, 880, 734, 176, 530, 951, 829, 493, 285, 884, 553, 415, 400, 621, 0], 2094)\n",
      "1\n",
      "===================================================================================\n",
      "([0, 83, 959, 864, 353, 429, 110, 615, 392, 960, 860, 422, 595, 646, 183, 433, 819, 783, 779, 660, 891, 151, 940, 912, 979, 218, 566, 793, 0], 829)\n",
      "([0, 618, 73, 892, 937, 361, 390, 868, 403, 126, 742, 978, 641, 291, 482, 717, 274, 282, 969, 694, 56, 12, 448, 534, 375, 341, 768, 260, 0], 692)\n",
      "([0, 724, 31, 168, 329, 232, 2, 601, 338, 238, 576, 820, 719, 757, 217, 610, 765, 145, 237, 902, 727, 434, 785, 199, 844, 154, 41, 861, 0], 755)\n",
      "([0, 964, 869, 450, 496, 133, 927, 405, 362, 350, 539, 531, 661, 973, 407, 283, 662, 81, 954, 175, 989, 339, 744, 467, 689, 816, 823, 967, 0], 1277)\n",
      "([0, 874, 941, 831, 579, 153, 944, 180, 240, 789, 602, 649, 122, 85, 27, 432, 111, 548, 716, 470, 354, 136, 546, 92, 622, 913, 335, 594, 0], 813)\n",
      "([0, 323, 328, 198, 849, 225, 288, 13, 455, 545, 883, 418, 386, 811, 444, 766, 519, 302, 624, 663, 626, 604, 517, 850, 77, 401, 853, 0], 959)\n",
      "([0, 246, 330, 141, 687, 552, 299, 451, 36, 89, 304, 648, 321, 296, 991, 582, 797, 138, 389, 219, 318, 293, 578, 163, 589, 300, 228, 0], 2702)\n",
      "2\n",
      "===================================================================================\n",
      "([0, 502, 965, 677, 759, 123, 852, 398, 693, 603, 276, 438, 147, 600, 983, 822, 358, 956, 309, 460, 281, 461, 581, 988, 472, 25, 931, 990, 182, 325, 239, 0], 811)\n",
      "([0, 349, 19, 538, 644, 414, 402, 732, 612, 273, 490, 567, 78, 809, 720, 413, 607, 497, 825, 348, 178, 446, 170, 737, 619, 52, 995, 896, 761, 745, 272, 0], 651)\n",
      "([0, 72, 498, 454, 204, 1000, 315, 800, 784, 326, 792, 55, 905, 957, 397, 827, 872, 596, 982, 294, 755, 657, 701, 492, 284, 431, 930, 571, 47, 888, 0], 861)\n",
      "([0, 469, 879, 396, 565, 760, 380, 236, 435, 770, 7, 477, 160, 656, 837, 938, 144, 613, 871, 155, 408, 17, 264, 572, 805, 767, 638, 388, 802, 750, 0], 1153)\n",
      "([0, 410, 685, 58, 186, 776, 189, 54, 878, 962, 297, 499, 526, 256, 885, 368, 442, 945, 173, 226, 486, 668, 379, 40, 865, 355, 179, 915, 172, 870, 0], 886)\n",
      "([0, 9, 658, 559, 881, 377, 606, 412, 714, 815, 70, 140, 378, 575, 113, 124, 369, 682, 730, 738, 577, 30, 684, 769, 536, 713, 360, 261, 286, 216, 0], 2470)\n",
      "16.749967100000504\n"
     ]
    },
    {
     "data": {
      "text/plain": "<Figure size 1080x360 with 1 Axes>",
      "image/png": "[encoded data removed]"
     },
     "metadata": {
      "needs_background": "light"
     },
     "output_type": "display_data"
    }
   ],
   "source": [
    "final = []\n",
    "n = 5\n",
    "it = 200\n",
    "k = 20\n",
    "ts = 80\n",
    "\n",
    "roads_all = [roads_FR, roads_PA, roads_PR]\n",
    "circuits_per_type = create_circuits([num_clients_FR, num_clients_PA, num_clients_PR], roads_all, k)\n",
    "\n",
    "colors = ['red', 'green', 'blue']\n",
    "\n",
    "start = time.perf_counter()\n",
    "plt.figure(figsize=(15,5))\n",
    "for i, circuits in enumerate(circuits_per_type):\n",
    "    print(i)\n",
    "    print(\"===================================================================================\")\n",
    "\n",
    "    for j, circuit in enumerate(circuits):\n",
    "        roads_content = import_roads(circuit.copy(), roads_all[i])\n",
    "        roads_header = {}\n",
    "        for idx, r in enumerate(roads_content):\n",
    "            roads_header[r[\"route\"]] = idx\n",
    "\n",
    "        final.append(tabu_multi_start(n, it, circuit.copy(), roads_content, roads_header, ts))\n",
    "        print(final[-1])\n",
    "        plt.xlabel(\"temps\", fontsize=16)\n",
    "        plt.ylabel(\"nb de points\", fontsize=16)\n",
    "        plt.scatter(final[-1][1], len(final[-1][0]), color=colors[i],)\n",
    "\n",
    "print(time.perf_counter() - start)\n",
    "#print(final)"
   ],
   "metadata": {
    "collapsed": false,
    "pycharm": {
     "name": "#%%\n"
    }
   }
  }
 ],
 "metadata": {
  "kernelspec": {
   "name": "learningml",
   "language": "python",
   "display_name": "Python (learningML)"
  },
  "language_info": {
   "codemirror_mode": {
    "name": "ipython",
    "version": 2
   },
   "file_extension": ".py",
   "mimetype": "text/x-python",
   "name": "python",
   "nbconvert_exporter": "python",
   "pygments_lexer": "ipython2",
   "version": "2.7.6"
  }
 },
 "nbformat": 4,
 "nbformat_minor": 0
}