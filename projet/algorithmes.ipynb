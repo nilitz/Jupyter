{
 "cells": [
  {
   "cell_type": "markdown",
   "metadata": {
    "collapsed": true,
    "pycharm": {
     "name": "#%% md\n"
    }
   },
   "source": [
    "## Initialisation"
   ]
  },
  {
   "cell_type": "code",
   "execution_count": 128,
   "outputs": [],
   "source": [
    "import random\n",
    "import time\n",
    "import pprint\n",
    "\n",
    "from matplotlib import pyplot as plt\n",
    "from pymongo import MongoClient\n",
    "import numpy as np\n",
    "\n",
    "\n",
    "# Init\n",
    "mongo = MongoClient('localhost', 27017)\n",
    "db = mongo['citeos']\n",
    "collection_villes = db['villes']\n",
    "collection_routes = db['routes']\n",
    "collection_clients = db['clients']\n",
    "\n",
    "num_clients_FR = list(map(lambda x: x['id_client'], collection_clients.aggregate([{\"$match\" : {'est_client': True, 'type': 'frais'}}])))\n",
    "num_clients_PA = list(map(lambda x: x['id_client'], collection_clients.aggregate([{\"$match\" : {'est_client': True, 'type': 'particulier'}}])))\n",
    "num_clients_PR = list(map(lambda x: x['id_client'], collection_clients.aggregate([{\"$match\" : {'est_client': True, 'type': 'prisonnier'}}])))\n",
    "\n",
    "num_clients_FR.append(0)\n",
    "num_clients_PA.append(0)\n",
    "num_clients_PR.append(0)\n",
    "\n",
    "roads_FR = np.array(list(collection_routes.find({'id_ville_1': {'$in': num_clients_FR}, 'id_ville_2': {'$in': num_clients_FR}})))\n",
    "roads_PA = np.array(list(collection_routes.find({'id_ville_1': {'$in': num_clients_PA}, 'id_ville_2': {'$in': num_clients_PA}})))\n",
    "roads_PR = np.array(list(collection_routes.find({'id_ville_1': {'$in': num_clients_PR}, 'id_ville_2': {'$in': num_clients_PR}})))\n",
    "\n",
    "num_clients_FR.remove(0)\n",
    "num_clients_PA.remove(0)\n",
    "num_clients_PR.remove(0)"
   ],
   "metadata": {
    "collapsed": false,
    "pycharm": {
     "name": "#%%\n"
    }
   }
  },
  {
   "cell_type": "markdown",
   "source": [
    "## Fonction Voisin"
   ],
   "metadata": {
    "collapsed": false
   }
  },
  {
   "cell_type": "code",
   "execution_count": 110,
   "outputs": [],
   "source": [
    "def neighborhood(circuit):\n",
    "    \"\"\"\n",
    "    Cette fonction est un generateur de tous les voisins valides d'une solution\n",
    "    \"\"\"\n",
    "    for i in range (1, len(circuit) - 2):\n",
    "        neighbor_circuit = circuit.copy()\n",
    "        neighbor_circuit[i], neighbor_circuit[i + 1] = neighbor_circuit[i + 1], neighbor_circuit[i]\n",
    "        yield neighbor_circuit"
   ],
   "metadata": {
    "collapsed": false,
    "pycharm": {
     "name": "#%%\n"
    }
   }
  },
  {
   "cell_type": "markdown",
   "source": [
    "## Fonction Recuperation Routes"
   ],
   "metadata": {
    "collapsed": false
   }
  },
  {
   "cell_type": "code",
   "execution_count": 111,
   "outputs": [],
   "source": [
    "def import_roads(cities):\n",
    "    cities.append(0)\n",
    "    return np.array(list(collection_routes.find({'id_ville_1': {'$in': cities}, 'id_ville_2': {'$in': cities}})))"
   ],
   "metadata": {
    "collapsed": false,
    "pycharm": {
     "name": "#%%\n"
    }
   }
  },
  {
   "cell_type": "markdown",
   "source": [
    "## Fonction Score"
   ],
   "metadata": {
    "collapsed": false
   }
  },
  {
   "cell_type": "code",
   "execution_count": 112,
   "outputs": [],
   "source": [
    "def circuit_score(circuit, roads):\n",
    "    \"\"\"\n",
    "    Cette fonction retourne le score d'un circuit eulerien, cela permettra de comparer les differents voisins entre eux\n",
    "    \"\"\"\n",
    "    score = 0\n",
    "    for i in range(0, len(circuit) - 1):\n",
    "        #on recupere la bonne route\n",
    "        road = next(item for item in roads if (item[\"id_ville_1\"] == circuit[i] and item[\"id_ville_2\"] == circuit[i + 1]) or (item[\"id_ville_1\"] == circuit[i + 1] and item[\"id_ville_2\"] == circuit[i]))\n",
    "        #on verifie si la route est oriente ou non, si oui, on cherche le bon sens\n",
    "        if road['est_oriente']: score += road['poids_1'] if road['id_ville_1'] == circuit[i] else road['poids_2']\n",
    "        else: score += road['poids']\n",
    "    return score"
   ],
   "metadata": {
    "collapsed": false,
    "pycharm": {
     "name": "#%%\n"
    }
   }
  },
  {
   "cell_type": "markdown",
   "source": [
    "## Recherche Tabou"
   ],
   "metadata": {
    "collapsed": false
   }
  },
  {
   "cell_type": "code",
   "execution_count": 113,
   "outputs": [],
   "source": [
    "def tabu_search(initial_circuit, tabu_size, max_iteration, actual_roads):\n",
    "    iteration = 1\n",
    "    tabu_list = list()\n",
    "    actual_circuit = initial_circuit.copy()\n",
    "\n",
    "    best_actual_circuit = initial_circuit.copy()\n",
    "    best_total_circuit = initial_circuit.copy()\n",
    "    best_total_value = circuit_score(best_total_circuit, actual_roads)\n",
    "\n",
    "    best_total_list = list()\n",
    "    best_actual_list = list()\n",
    "\n",
    "    while iteration <= max_iteration:\n",
    "        iteration += 1\n",
    "        best_actual_value = -1\n",
    "\n",
    "        # on parcourt les voisins de la solution courante\n",
    "        for neighbor in neighborhood(actual_circuit):\n",
    "            if neighbor not in tabu_list and (circuit_score(neighbor, actual_roads) <= best_actual_value or best_actual_value == -1):\n",
    "                best_actual_value = circuit_score(neighbor, actual_roads)\n",
    "                best_actual_circuit = neighbor.copy()\n",
    "\n",
    "        # on met a jour la meilleur solution rencontree depuis le debut\n",
    "        if best_actual_value < best_total_value:\n",
    "            best_total_circuit = best_actual_circuit.copy()\n",
    "            best_total_value = best_actual_value\n",
    "\n",
    "        best_total_list.append(best_total_value)\n",
    "        best_actual_list.append(best_actual_value)\n",
    "\n",
    "        actual_circuit = best_actual_circuit.copy()\n",
    "\n",
    "        if len(tabu_list) >= tabu_size: tabu_list.pop(0)\n",
    "        tabu_list.append(actual_circuit.copy())\n",
    "\n",
    "    return best_total_circuit, best_total_list, best_actual_list"
   ],
   "metadata": {
    "collapsed": false,
    "pycharm": {
     "name": "#%%\n"
    }
   }
  },
  {
   "cell_type": "markdown",
   "source": [
    "## Multi-start"
   ],
   "metadata": {
    "collapsed": false
   }
  },
  {
   "cell_type": "code",
   "execution_count": 114,
   "outputs": [],
   "source": [
    "def tabu_multi_start(number, iteration, shuffled, actual_roads):\n",
    "    best_local_score = -1\n",
    "    best_local_circuit = []\n",
    "    for i in range(0, number):\n",
    "        shuffled_circuit = shuffled.copy()\n",
    "        shuffled_circuit.append(0)\n",
    "        shuffled_circuit.insert(0, 0)\n",
    "        bc, bt, ba= tabu_search(shuffled_circuit, 100, iteration, actual_roads)\n",
    "        actual_score = circuit_score(bc, actual_roads)\n",
    "\n",
    "        if best_local_score == -1 or actual_score < best_local_score:\n",
    "            best_local_score = actual_score\n",
    "            best_local_circuit = bc\n",
    "\n",
    "    return best_local_circuit, best_local_score"
   ],
   "metadata": {
    "collapsed": false,
    "pycharm": {
     "name": "#%%\n"
    }
   }
  },
  {
   "cell_type": "markdown",
   "source": [
    "## Graphe vers circuits"
   ],
   "metadata": {
    "collapsed": false
   }
  },
  {
   "cell_type": "code",
   "execution_count": 125,
   "outputs": [],
   "source": [
    "k = 30\n",
    "\n",
    "len(num_clients_FR)\n",
    "#roads_FR\n",
    "\n",
    "def create_circuits(clients_list, roads_list, k):\n",
    "    total_of_clients = sum(len(client_list) for client_list in [num_clients_FR, num_clients_PA, num_clients_PR])\n",
    "    number_of_clients = [len(client_list) for client_list in [num_clients_FR, num_clients_PA, num_clients_PR]]\n",
    "    trucks_for_lists = [int(k * percentage) for percentage in [len(client_list) / total_of_clients for client_list in [num_clients_FR, num_clients_PA, num_clients_PR]]]\n",
    "    while sum(trucks_for_lists) != k: trucks_for_lists[random.randint(0, len(trucks_for_lists) - 1)] += 1\n",
    "\n",
    "    origins = [0,0,0]\n",
    "    clients_per_k = [noc // tfl for noc, tfl in zip(number_of_clients, trucks_for_lists)]\n",
    "    difference = [noc % cpk for noc, cpk in zip(number_of_clients, clients_per_k)]\n",
    "\n",
    "\n",
    "    best_circuits = [[] for _ in range (len(clients_list))]\n",
    "\n",
    "    for idx, client_list in enumerate(clients_list):\n",
    "        passed = [origins[idx],]\n",
    "        actual_node = random.choice(client_list)\n",
    "        for truck in range(0, trucks_for_lists[idx]):\n",
    "\n",
    "            truck_circuit = [actual_node,]\n",
    "            passed.append(actual_node)\n",
    "\n",
    "            while len(truck_circuit) != clients_per_k[idx]:\n",
    "                truck_circuit.append(get_closer_node(truck_circuit[-1], roads_list[idx], passed))\n",
    "                passed.append(truck_circuit[-1])\n",
    "\n",
    "            if difference[idx] > 0:\n",
    "                difference[idx] -= 1\n",
    "                truck_circuit.append(get_closer_node(truck_circuit[-1], roads_list[idx], passed))\n",
    "                passed.append(truck_circuit[-1])\n",
    "\n",
    "            if len(truck_circuit) % 6 == 0:\n",
    "                actual_node = get_closer_node(truck_circuit[0], roads_list[idx], passed)\n",
    "            else:\n",
    "                actual_node = get_closer_node(truck_circuit[-1], roads_list[idx], passed)\n",
    "            best_circuits[idx].append(truck_circuit)\n",
    "    return best_circuits"
   ],
   "metadata": {
    "collapsed": false,
    "pycharm": {
     "name": "#%%\n"
    }
   }
  },
  {
   "cell_type": "markdown",
   "source": [
    "## Glouton"
   ],
   "metadata": {
    "collapsed": false
   }
  },
  {
   "cell_type": "code",
   "execution_count": 116,
   "outputs": [],
   "source": [
    "def get_closer_node(node, roads, ignored):\n",
    "    min_weight = -1\n",
    "    next_node = 0\n",
    "    roads = [r for r in roads if r[\"id_ville_1\"] not in ignored or r[\"id_ville_2\"] not in ignored]\n",
    "    for road in roads:\n",
    "        if road['est_oriente']:\n",
    "            if (road['id_ville_1'] == node) and (min_weight == -1 or min_weight > road['poids_1']):\n",
    "                min_weight = road['poids_1']\n",
    "                next_node = road['id_ville_2']\n",
    "            elif (road['id_ville_2'] == node) and (min_weight == -1 or min_weight > road['poids_2']):\n",
    "                min_weight = road['poids_2']\n",
    "                next_node = road['id_ville_1']\n",
    "        elif (min_weight > road['poids'] or  min_weight == -1) and (road[\"id_ville_1\"] == node or road[\"id_ville_2\"] == node):\n",
    "            min_weight = road['poids']\n",
    "            next_node = road['id_ville_1'] if road[\"id_ville_2\"] == node else road['id_ville_2']\n",
    "\n",
    "    return next_node"
   ],
   "metadata": {
    "collapsed": false,
    "pycharm": {
     "name": "#%%\n"
    }
   }
  },
  {
   "cell_type": "markdown",
   "source": [
    "## Tests"
   ],
   "metadata": {
    "collapsed": false
   }
  },
  {
   "cell_type": "code",
   "execution_count": 117,
   "outputs": [],
   "source": [
    "#circuits_per_type = create_circuits([num_clients_FR, num_clients_PA, num_clients_PR], [roads_FR, roads_PA, roads_PR], k)\n",
    "\n",
    "\n"
   ],
   "metadata": {
    "collapsed": false,
    "pycharm": {
     "name": "#%%\n"
    }
   }
  },
  {
   "cell_type": "code",
   "execution_count": 131,
   "outputs": [
    {
     "name": "stdout",
     "output_type": "stream",
     "text": [
      "[[], [], []]\n",
      "0\n",
      "===================================================================================\n",
      "[163, 1368, 1337, 1163, 1158, 1963, 956, 1636, 1287, 898, 556, 190, 140, 328, 1240, 405, 123, 1262, 341, 157, 258, 315]\n",
      "([0, 163, 1368, 1337, 1163, 1158, 1963, 956, 1636, 1287, 898, 556, 190, 140, 328, 1240, 405, 123, 1262, 341, 157, 315, 258, 0], 994)\n",
      "[1217, 240, 583, 808, 558, 1164, 1649, 1318, 511, 1154, 401, 1604, 1572, 778, 1404, 704, 1208, 74, 495, 1358, 387, 585]\n",
      "([0, 1217, 240, 583, 808, 558, 1164, 1649, 1318, 511, 1154, 401, 1604, 1572, 778, 1404, 704, 1208, 74, 495, 1358, 387, 585, 0], 403)\n",
      "[744, 641, 124, 192, 1516, 828, 738, 587, 549, 732, 203, 1061, 269, 1843, 1120, 572, 31, 168, 1054, 377, 1756, 726]\n",
      "([0, 744, 641, 124, 192, 1516, 828, 738, 587, 549, 732, 203, 1061, 269, 1843, 1120, 572, 31, 168, 1054, 377, 1756, 726, 0], 599)\n",
      "[797, 1205, 1475, 347, 1416, 1687, 1252, 1045, 194, 1365, 708, 252, 1555, 1232, 1196, 77, 926, 789, 1178, 1766, 1750, 976]\n",
      "([0, 1205, 797, 1475, 347, 1416, 1687, 1252, 1045, 194, 1365, 708, 252, 1555, 1232, 1196, 77, 926, 789, 1178, 1766, 976, 1750, 0], 843)\n",
      "[997, 1643, 1396, 1185, 1671, 1614, 730, 590, 445, 875, 1787, 412, 1515, 731, 1445, 234, 662, 1818, 1059, 1775, 411]\n",
      "([0, 997, 1643, 1396, 1185, 1671, 1614, 730, 590, 445, 875, 1787, 412, 1515, 731, 1445, 234, 662, 411, 1775, 1818, 1059, 0], 952)\n",
      "[1810, 534, 1679, 1151, 1835, 703, 1231, 383, 79, 1114, 1623, 748, 1316, 1925, 87, 550, 80, 458, 692, 1879, 526]\n",
      "([0, 1810, 534, 1679, 1151, 1835, 703, 1231, 383, 79, 1114, 1623, 748, 1316, 1925, 87, 550, 80, 458, 692, 1879, 526, 0], 285)\n",
      "[1108, 1050, 353, 24, 1434, 805, 56, 1945, 1627, 1875, 1793, 1760, 747, 972, 414, 272, 1067, 171, 1174, 762, 160]\n",
      "([0, 353, 1050, 1108, 24, 1434, 805, 56, 1945, 1627, 1875, 1793, 1760, 747, 972, 414, 272, 1067, 171, 1174, 762, 160, 0], 674)\n",
      "[845, 557, 658, 861, 290, 514, 1051, 1144, 1721, 571, 787, 238, 1680, 306, 1889, 1578, 94, 924, 259, 1801, 424]\n",
      "([0, 845, 557, 658, 861, 290, 514, 1051, 1144, 1721, 571, 787, 238, 1680, 306, 1889, 1578, 94, 924, 259, 1801, 424, 0], 430)\n",
      "[399, 1153, 1273, 200, 381, 930, 1394, 528, 1187, 1228, 1936, 1836, 1659, 1265, 1453, 1213, 1849, 186, 1467, 561, 524]\n",
      "([0, 399, 1153, 1273, 200, 381, 930, 1394, 528, 1187, 1228, 1936, 1836, 1659, 1265, 1453, 1213, 1849, 186, 1467, 561, 524, 0], 501)\n",
      "[667, 1332, 352, 191, 1115, 819, 1892, 1619, 207, 1360, 250, 229, 1996, 141, 1308, 868, 343, 1935, 1430, 1794, 327]\n",
      "([0, 667, 1332, 352, 191, 1115, 819, 1892, 1619, 207, 1360, 250, 229, 1996, 141, 1308, 868, 343, 1935, 1430, 1794, 327, 0], 1201)\n",
      "[1198, 1823, 1552, 1629, 785, 1734, 1657, 488, 350, 428, 1408, 1502, 1662, 1966, 10, 811, 852, 1491, 95, 475, 1023]\n",
      "([0, 1629, 1552, 1823, 1198, 785, 1734, 1657, 488, 350, 428, 1408, 1502, 1662, 1966, 10, 811, 852, 1491, 95, 1023, 475, 0], 789)\n",
      "[396, 384, 1897, 1309, 208, 1940, 663, 1204, 1053, 1305, 1112, 166, 1726, 840, 822, 1625, 532, 13, 1872, 1805, 1018]\n",
      "([0, 396, 384, 1897, 1309, 208, 1940, 663, 1204, 1053, 1305, 1112, 166, 1726, 840, 822, 1625, 532, 13, 1018, 1805, 1872, 0], 928)\n",
      "[211, 1218, 1746, 173, 1955, 236, 812, 781, 1002, 1827, 1782, 1748, 1106, 221, 838, 1272, 1660, 1652, 1858, 964, 1727]\n",
      "([0, 1746, 173, 1955, 236, 812, 781, 1002, 211, 1218, 1827, 1782, 1748, 1106, 221, 838, 1272, 1660, 1652, 1858, 964, 1727, 0], 812)\n",
      "[33, 491, 1573, 1147, 1029, 1579, 1998, 337, 469, 527, 489, 876, 311, 1574, 183, 643, 388, 212, 1370, 71, 1661]\n",
      "([0, 1147, 1573, 33, 491, 1579, 1029, 1998, 337, 469, 527, 489, 876, 311, 1574, 183, 643, 388, 212, 1370, 1661, 71, 0], 968)\n",
      "[1323, 695, 137, 1375, 50, 1014, 62, 1399, 1376, 1583, 1298, 1076, 100, 1602, 674, 832, 1743, 32, 243, 925, 1861]\n",
      "([0, 1323, 695, 137, 1375, 50, 62, 1014, 1298, 1583, 1376, 1399, 1076, 100, 1602, 674, 832, 1743, 32, 243, 0], 1974)\n",
      "1\n",
      "===================================================================================\n",
      "[1549, 780, 1458, 110, 133, 1249, 1789, 1728, 1518, 1984, 1864, 612, 1338, 1191, 1058, 219, 117, 597, 1248]\n",
      "([0, 1549, 780, 1458, 110, 133, 1249, 1789, 1728, 1518, 1984, 1864, 612, 1338, 1191, 1058, 219, 117, 597, 1248, 0], 759)\n",
      "[1043, 148, 1474, 1356, 1130, 637, 425, 1904, 440, 1646, 893, 1395, 1306, 1435, 106, 1186, 334, 644, 187]\n",
      "([0, 1043, 148, 1474, 1356, 1130, 637, 425, 1904, 440, 1646, 893, 1395, 1306, 1435, 106, 1186, 334, 644, 187, 0], 796)\n",
      "[916, 754, 443, 482, 1878, 1616, 496, 871, 753, 199, 1162, 182, 41, 1975, 1931, 1705, 338, 344, 1414]\n",
      "([0, 754, 916, 443, 482, 1878, 1616, 496, 871, 753, 199, 1162, 182, 41, 1975, 1931, 1705, 338, 344, 1414, 0], 816)\n",
      "[1150, 339, 472, 993, 1914, 816, 1173, 93, 113, 1098, 616, 404, 880, 179, 1021, 1253, 1341, 1008, 1808]\n",
      "([0, 1150, 339, 472, 993, 1914, 816, 1173, 93, 113, 1098, 616, 404, 1021, 179, 880, 1808, 1008, 1341, 1253, 0], 665)\n",
      "[546, 877, 767, 1708, 1877, 618, 1881, 922, 1283, 1804, 873, 36, 1919, 223, 1342, 1091, 771, 331, 429]\n",
      "([0, 546, 877, 767, 1708, 1877, 618, 1881, 922, 1283, 1804, 873, 36, 1919, 223, 1091, 1342, 331, 429, 771, 0], 709)\n",
      "[855, 237, 1155, 939, 246, 1587, 1795, 1514, 1993, 887, 1840, 1752, 1716, 912, 391, 116, 596, 1301, 1246]\n",
      "([0, 855, 237, 1155, 939, 246, 1587, 1795, 1514, 1993, 887, 1840, 1752, 1716, 912, 391, 116, 596, 1301, 1246, 0], 843)\n",
      "[1901, 1413, 906, 1857, 1605, 657, 619, 22, 1820, 1236, 28, 1378, 897, 1797, 931, 614, 736, 1866, 1065]\n",
      "([0, 906, 1413, 1901, 1857, 1605, 657, 619, 22, 1820, 1236, 28, 1378, 897, 1797, 931, 614, 736, 1866, 1065, 0], 809)\n",
      "[1485, 1564, 1713, 1761, 1543, 55, 1508, 1581, 1894, 1168, 386, 1590, 733, 716, 721, 319, 152, 1374, 1729]\n",
      "([0, 1485, 1564, 1713, 1761, 1543, 55, 1508, 1581, 1894, 1168, 386, 1590, 733, 716, 721, 319, 152, 1374, 1729, 0], 520)\n",
      "[1641, 253, 1816, 1869, 1245, 1335, 719, 994, 1899, 1400, 70, 393, 1471, 127, 67, 1992, 772, 715, 1663]\n",
      "([0, 1641, 253, 1816, 1869, 1245, 1335, 719, 994, 1899, 1400, 70, 393, 1471, 127, 67, 1992, 772, 715, 1663, 0], 863)\n",
      "[300, 320, 1270, 465, 1266, 241, 128, 1824, 1759, 913, 1545, 862, 296, 533, 1405, 788, 1243, 783, 872]\n",
      "([0, 300, 320, 1270, 465, 1266, 241, 128, 1824, 1759, 913, 1545, 862, 296, 533, 1405, 788, 1243, 783, 872, 0], 459)\n",
      "[218, 1295, 1855, 359, 1179, 1039, 1969, 1280, 677, 689, 1524, 1159, 1436, 917, 1863, 881, 1830, 1553, 431]\n",
      "([0, 218, 1295, 1855, 359, 1179, 1039, 1969, 1280, 677, 689, 1524, 1159, 1436, 917, 1863, 881, 1830, 431, 1553, 0], 559)\n",
      "[986, 568, 1032, 1870, 1526, 1490, 1383, 592, 180, 1251, 1011, 655, 1536, 1706, 790, 201, 374, 416, 1757]\n",
      "([0, 568, 986, 1032, 1870, 1526, 1490, 1383, 592, 180, 1251, 1011, 655, 1536, 1706, 790, 201, 374, 416, 1757, 0], 956)\n",
      "[1317, 1148, 457, 946, 1986, 1548, 669, 255, 1765, 1423, 64, 624, 18, 293, 267, 1312, 1487, 1510, 1255]\n",
      "([0, 1317, 1148, 457, 946, 1986, 1548, 669, 255, 1765, 1423, 64, 624, 18, 293, 267, 1312, 1487, 1255, 1510, 0], 654)\n",
      "[609, 1852, 162, 1457, 1496, 1314, 298, 749, 380, 1299, 676, 705, 1397, 1492, 1980, 96, 1712, 181, 1523]\n",
      "([0, 162, 1852, 609, 1457, 1496, 1314, 298, 749, 380, 1299, 676, 705, 1397, 1492, 1980, 96, 1712, 181, 1523, 0], 445)\n",
      "[1084, 1071, 305, 1193, 1443, 1609, 1377, 59, 1169, 1279, 264, 90, 1622, 1420, 768, 1297, 530, 1603]\n",
      "([0, 1084, 1071, 305, 1193, 1443, 1609, 1377, 59, 1169, 1279, 264, 90, 1622, 1420, 768, 1603, 530, 1297, 0], 939)\n",
      "[83, 430, 981, 740, 1839, 831, 167, 1972, 1522, 1924, 1802, 1681, 1819, 1446, 1594, 1541, 480, 1991]\n",
      "([0, 83, 430, 981, 740, 1839, 831, 167, 1972, 1522, 1924, 1802, 1681, 1819, 1991, 480, 1446, 1594, 1541, 0], 558)\n",
      "[303, 1893, 1258, 1520, 1781, 357, 1585, 1733, 1930, 1143, 358, 1099, 409, 1429, 678, 43, 288, 1094]\n",
      "([0, 303, 1893, 1258, 1520, 1781, 357, 1585, 1733, 1930, 1143, 358, 1099, 409, 678, 1429, 1094, 43, 288, 0], 758)\n",
      "[651, 1190, 462, 1391, 1133, 1437, 1530, 1040, 1066, 1007, 1276, 244, 1664, 1486, 1138, 1672, 1788, 739]\n",
      "([0, 1190, 462, 1391, 1133, 1437, 651, 1530, 1040, 1066, 1007, 1276, 244, 1664, 1486, 1138, 1672, 1788, 739, 0], 687)\n",
      "[1426, 420, 226, 1203, 210, 1286, 1528, 1479, 1918, 78, 104, 1380, 1128, 1608, 941, 1912, 1834, 1456]\n",
      "([0, 1426, 420, 226, 1203, 210, 1286, 1528, 1479, 1918, 78, 104, 1380, 1128, 1912, 941, 1608, 0], 1863)\n",
      "2\n",
      "===================================================================================\n",
      "[1521, 150, 1551, 896, 135, 278, 21, 369, 1219, 277, 1359, 1113, 326, 494, 547, 864, 455, 957, 1477, 107, 1038]\n",
      "([0, 1551, 150, 1521, 896, 135, 278, 21, 369, 1219, 277, 1359, 1038, 1113, 326, 494, 547, 864, 455, 957, 1477, 107, 0], 877)\n",
      "[1328, 216, 402, 1704, 195, 1651, 702, 746, 174, 1531, 161, 1170, 1703, 508, 1088, 426, 701, 1398, 1345, 1235, 459]\n",
      "([0, 1328, 216, 402, 1704, 195, 1651, 702, 746, 174, 1531, 161, 1170, 1703, 508, 1088, 426, 701, 1398, 1345, 1235, 459, 0], 1219)\n",
      "[874, 1755, 439, 407, 741, 368, 1982, 1678, 1079, 1762, 1176, 1418, 1885, 784, 680, 433, 1853, 27, 1224, 588, 61]\n",
      "([0, 874, 1755, 439, 407, 741, 368, 1982, 1678, 1079, 1762, 1176, 1418, 1885, 784, 680, 433, 1853, 27, 1224, 588, 61, 0], 432)\n",
      "[1558, 1509, 988, 1612, 606, 340, 506, 1046, 154, 696, 1402, 4, 560, 40, 217, 184, 1229, 536, 1009, 19, 1102]\n",
      "([0, 1612, 988, 1509, 1558, 606, 340, 506, 1046, 154, 696, 1402, 4, 560, 40, 217, 184, 1229, 536, 1009, 19, 1102, 0], 557)\n",
      "[1139, 603, 143, 1022, 594, 900, 1056, 1145, 400, 1210, 1105, 1012, 307, 1724, 905, 1983, 197, 35, 1600, 126, 348]\n",
      "([0, 594, 1022, 143, 603, 1139, 900, 1056, 1145, 400, 1210, 1105, 1012, 307, 1724, 905, 1983, 197, 35, 1600, 126, 348, 0], 654)\n",
      "[1107, 1606, 1350, 1979, 650, 899, 602, 826, 1072, 829, 47, 1584, 1654, 636, 1588, 1027, 1494, 1373, 1822, 1320, 1064]\n",
      "([0, 1107, 1606, 1350, 1979, 650, 899, 602, 826, 1072, 829, 47, 1584, 1654, 636, 1588, 1027, 1373, 1494, 1320, 1064, 1822, 0], 830)\n",
      "[45, 951, 262, 938, 1859, 1044, 836, 901, 1444, 149, 1778, 1595, 1135, 1692, 1237, 1300, 382, 1175, 351, 635, 1735]\n",
      "([0, 45, 951, 262, 938, 1859, 1044, 836, 901, 1444, 149, 1778, 1595, 1135, 1692, 1237, 1300, 382, 1175, 351, 635, 1735, 0], 573)\n",
      "[363, 1815, 1589, 952, 323, 1921, 954, 1957, 1363, 1682, 362, 1529, 1710, 1586, 841, 1832, 1307, 177, 139, 121, 759]\n",
      "([0, 1815, 363, 1589, 952, 323, 1921, 954, 1957, 1363, 1682, 362, 1529, 1710, 1586, 841, 1832, 1307, 177, 139, 121, 759, 0], 573)\n",
      "[1234, 884, 751, 1895, 1557, 329, 965, 1407, 342, 1278, 640, 379, 1538, 1898, 282, 551, 723, 686, 442, 60, 1069]\n",
      "([0, 1234, 884, 751, 1895, 1557, 329, 965, 1407, 342, 1278, 640, 379, 1538, 1898, 282, 551, 723, 686, 442, 60, 1069, 0], 601)\n",
      "[1718, 158, 1690, 1650, 691, 559, 517, 1785, 16, 332, 1274, 548, 466, 1222, 734, 1257, 1087, 685, 86, 921, 1057]\n",
      "([0, 1718, 158, 1690, 1650, 691, 559, 517, 1785, 16, 332, 1274, 548, 466, 1222, 734, 1257, 1087, 685, 86, 921, 1057, 0], 1024)\n",
      "[105, 1156, 1959, 1632, 1954, 109, 1109, 1929, 694, 932, 1539, 803, 1313, 666, 1006, 894, 1534, 1997, 766, 68, 245]\n",
      "([0, 105, 1156, 1959, 1632, 1954, 109, 1109, 1929, 694, 932, 1539, 803, 1313, 666, 1006, 894, 1534, 1997, 766, 68, 245, 0], 691)\n",
      "[617, 1947, 1096, 1438, 615, 248, 1890, 1720, 1812, 1118, 562, 1754, 1546, 1876, 1667, 1160, 485, 75, 198, 500, 947]\n",
      "([0, 617, 1947, 1096, 1438, 615, 248, 1890, 1720, 1812, 1118, 562, 1754, 1546, 1876, 1667, 1160, 485, 198, 75, 947, 500, 0], 543)\n",
      "[1181, 1693, 1127, 14, 575, 1406, 1903, 1987, 1971, 1047, 279, 165, 1507, 397, 1928, 1886, 317, 1846, 600, 1080, 554]\n",
      "([0, 1693, 1181, 14, 1127, 575, 1406, 1903, 1987, 1971, 1047, 279, 165, 1507, 397, 1928, 1886, 317, 1846, 600, 1080, 554, 0], 648)\n",
      "[131, 361, 525, 487, 1813, 99, 1576, 247, 950, 1505, 164, 260, 1165, 1157, 1943, 1001, 837, 1525, 1141, 1633]\n",
      "([0, 131, 361, 525, 487, 1813, 99, 1576, 247, 950, 1505, 164, 260, 1165, 1157, 1943, 1633, 1001, 837, 1525, 1141, 0], 829)\n",
      "[1384, 1303, 159, 1189, 1230, 1048, 54, 42, 1922, 827, 1601, 1000, 224, 85, 699, 464, 750, 1990, 1995, 555]\n",
      "([0, 1384, 1303, 159, 1189, 1230, 1048, 54, 42, 1922, 827, 1601, 1000, 224, 85, 699, 464, 750, 1990, 1995, 555, 0], 959)\n",
      "[1694, 1968, 1513, 1913, 1140, 757, 1227, 1361, 492, 228, 1753, 129, 378, 743, 249, 541, 1658, 1171, 254, 1459]\n",
      "([0, 1694, 1968, 1513, 1913, 1140, 757, 1227, 1361, 492, 228, 1753, 129, 378, 743, 249, 541, 1658, 1171, 0], 1180)\n"
     ]
    },
    {
     "data": {
      "text/plain": "<Figure size 1080x360 with 1 Axes>",
      "image/png": "[encoded data removed]"
     },
     "metadata": {
      "needs_background": "light"
     },
     "output_type": "display_data"
    }
   ],
   "source": [
    "final = []\n",
    "n = 6\n",
    "it = 200\n",
    "k = 50\n",
    "\n",
    "roads_all = [roads_FR, roads_PA, roads_PR]\n",
    "circuits_per_type = create_circuits([num_clients_FR, num_clients_PA, num_clients_PR], roads_all, k)\n",
    "\n",
    "colors = ['red', 'green', 'blue']\n",
    "\n",
    "plt.figure(figsize=(15,5))\n",
    "for i, circuits in enumerate(circuits_per_type):\n",
    "    print(i)\n",
    "    print(\"===================================================================================\")\n",
    "    for j, circuit in enumerate(circuits):\n",
    "        print(circuit)\n",
    "        final.append(tabu_multi_start(n, it, circuit.copy(), import_roads(circuit.copy())))\n",
    "        print(final[-1])\n",
    "        plt.xlabel(\"temps\", fontsize=16)\n",
    "        plt.ylabel(\"nb de points\", fontsize=16)\n",
    "        plt.scatter(final[-1][1], len(final[-1][0]), color=colors[i],)\n",
    "\n",
    "#print(final)"
   ],
   "metadata": {
    "collapsed": false,
    "pycharm": {
     "name": "#%%\n"
    }
   }
  }
 ],
 "metadata": {
  "kernelspec": {
   "name": "learningml",
   "language": "python",
   "display_name": "Python (learningML)"
  },
  "language_info": {
   "codemirror_mode": {
    "name": "ipython",
    "version": 2
   },
   "file_extension": ".py",
   "mimetype": "text/x-python",
   "name": "python",
   "nbconvert_exporter": "python",
   "pygments_lexer": "ipython2",
   "version": "2.7.6"
  }
 },
 "nbformat": 4,
 "nbformat_minor": 0
}