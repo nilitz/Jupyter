{
 "cells": [
  {
   "cell_type": "markdown",
   "metadata": {
    "collapsed": true,
    "pycharm": {
     "name": "#%% md\n"
    }
   },
   "source": [
    "## Initialisation"
   ]
  },
  {
   "cell_type": "code",
   "execution_count": 261,
   "outputs": [],
   "source": [
    "import copy\n",
    "import random\n",
    "import time\n",
    "import pprint\n",
    "\n",
    "from matplotlib import pyplot as plt\n",
    "from pymongo import MongoClient\n",
    "import numpy as np\n",
    "\n",
    "\n",
    "# Init\n",
    "mongo = MongoClient('localhost', 27017)\n",
    "db = mongo['citeos']\n",
    "collection_villes = db['villes']\n",
    "collection_routes = db['routes']\n",
    "collection_clients = db['clients']\n",
    "\n",
    "num_clients_FR = list(map(lambda x: x['id_client'], collection_clients.aggregate([{\"$match\" : {'est_client': True, 'type': 'frais'}}])))\n",
    "num_clients_PA = list(map(lambda x: x['id_client'], collection_clients.aggregate([{\"$match\" : {'est_client': True, 'type': 'particulier'}}])))\n",
    "num_clients_PR = list(map(lambda x: x['id_client'], collection_clients.aggregate([{\"$match\" : {'est_client': True, 'type': 'prisonnier'}}])))\n",
    "\n",
    "num_clients_FR.append(0)\n",
    "num_clients_PA.append(0)\n",
    "num_clients_PR.append(0)\n",
    "\n",
    "roads_FR = np.array(list(collection_routes.find({'id_ville_1': {'$in': num_clients_FR}, 'id_ville_2': {'$in': num_clients_FR}})))\n",
    "roads_PA = np.array(list(collection_routes.find({'id_ville_1': {'$in': num_clients_PA}, 'id_ville_2': {'$in': num_clients_PA}})))\n",
    "roads_PR = np.array(list(collection_routes.find({'id_ville_1': {'$in': num_clients_PR}, 'id_ville_2': {'$in': num_clients_PR}})))\n",
    "\n",
    "num_clients_FR.remove(0)\n",
    "num_clients_PA.remove(0)\n",
    "num_clients_PR.remove(0)"
   ],
   "metadata": {
    "collapsed": false,
    "pycharm": {
     "name": "#%%\n"
    }
   }
  },
  {
   "cell_type": "markdown",
   "source": [
    "## Fonction Voisin"
   ],
   "metadata": {
    "collapsed": false
   }
  },
  {
   "cell_type": "code",
   "execution_count": 262,
   "outputs": [],
   "source": [
    "def neighborhood(circuit):\n",
    "    \"\"\"\n",
    "    Cette fonction est un generateur de tous les voisins valides d'une solution\n",
    "    \"\"\"\n",
    "    for i in range (1, len(circuit) - 2):\n",
    "        neighbor_circuit = circuit.copy()\n",
    "        neighbor_circuit[i], neighbor_circuit[i + 1] = neighbor_circuit[i + 1], neighbor_circuit[i]\n",
    "        yield neighbor_circuit"
   ],
   "metadata": {
    "collapsed": false,
    "pycharm": {
     "name": "#%%\n"
    }
   }
  },
  {
   "cell_type": "markdown",
   "source": [
    "## Fonction Recuperation Routes"
   ],
   "metadata": {
    "collapsed": false
   }
  },
  {
   "cell_type": "code",
   "execution_count": 263,
   "outputs": [],
   "source": [
    "def import_roads(cities, roads):\n",
    "    cities.append(0)\n",
    "    return np.array([road for road in roads if road['id_ville_1'] in cities and road['id_ville_2'] in cities])\n"
   ],
   "metadata": {
    "collapsed": false,
    "pycharm": {
     "name": "#%%\n"
    }
   }
  },
  {
   "cell_type": "markdown",
   "source": [
    "## Fonction Score"
   ],
   "metadata": {
    "collapsed": false
   }
  },
  {
   "cell_type": "code",
   "execution_count": 264,
   "outputs": [
    {
     "name": "stdout",
     "output_type": "stream",
     "text": [
      "[2, 3, 5, 9, 13, 32, 35, 39, 40, 45, 46, 57, 58, 63, 68, 71, 80, 84, 96, 98, 126, 127, 133, 134, 141, 152, 153, 158, 160, 162, 172, 173, 179, 189, 190, 200, 206, 220, 223, 227, 244, 265, 281, 302, 303, 309, 324, 325, 326, 328, 332, 342, 379, 384, 386, 388, 391, 399, 413, 416, 418, 421, 424, 430, 431, 432, 433, 446, 452, 466, 467, 481, 484, 491, 492, 505, 511, 517, 519, 521, 528, 539, 546, 563, 568, 592, 598, 606, 626, 633, 634, 642, 643, 648, 656, 667, 673, 675, 677, 682, 683, 686, 694, 696, 698, 704, 705, 706, 710, 713, 722, 726, 731, 736, 781, 782, 783, 789, 805, 810, 818, 820, 825, 829, 838, 847, 848, 852, 859, 866, 873, 875, 887, 890, 891, 892, 895, 899, 909, 911, 913, 915, 922, 928, 930, 932, 933, 938, 945, 965, 973, 975, 976, 990, 997, 1028, 1030, 1032, 1041, 1045, 1055, 1068, 1074, 1078, 1084, 1092, 1095, 1103, 1107, 1116, 1118, 1130, 1140, 1142, 1153, 1159, 1185, 1191, 1214, 1217, 1218, 1229, 1240, 1243, 1244, 1251, 1254, 1265, 1266, 1270, 1275, 1280, 1297, 1300, 1304, 1312, 1316, 1318, 1336, 1339, 1344, 1357, 1361, 1364, 1385, 1386, 1389, 1393, 1397, 1398, 1399, 1420, 1423, 1427, 1429, 1431, 1437, 1439, 1441, 1443, 1455, 1460, 1464, 1465, 1466, 1473, 1478, 1481, 1497, 1509, 1521, 1522, 1532, 1535, 1537, 1539, 1541, 1542, 1543, 1548, 1551, 1562, 1570, 1590, 1593, 1605, 1621, 1628, 1630, 1631, 1643, 1644, 1673, 1675, 1679, 1688, 1693, 1694, 1705, 1709, 1714, 1720, 1721, 1725, 1735, 1737, 1739, 1742, 1743, 1745, 1748, 1752, 1753, 1759, 1775, 1777, 1781, 1782, 1788, 1798, 1803, 1804, 1807, 1808, 1820, 1822, 1825, 1826, 1834, 1838, 1844, 1850, 1857, 1876, 1879, 1880, 1881, 1887, 1891, 1898, 1901, 1923, 1924, 1925, 1927, 1930, 1941, 1943, 1955, 1958, 1960, 1962, 1971, 1979, 1983, 1990, 1994, 1997, 1998]\n",
      "0.01958359999844106\n",
      "0.0012317999971855897\n",
      "7.839247799998702\n",
      "94408\n",
      "94408\n"
     ]
    }
   ],
   "source": [
    "def search(node,roads, circuit):\n",
    "    for item in roads:\n",
    "        if (item[\"id_ville_1\"] == circuit[node] and item[\"id_ville_2\"] == circuit[node + 1]) or (item[\"id_ville_1\"] == circuit[node + 1] and item[\"id_ville_2\"] == circuit[node]):\n",
    "            return item\n",
    "\n",
    "def circuit_score_test(circuit, roads):\n",
    "    \"\"\"\n",
    "    Cette fonction retourne le score d'un circuit eulerien, cela permettra de comparer les differents voisins entre eux\n",
    "    \"\"\"\n",
    "    score = 0\n",
    "    for i in range(0, len(circuit) - 1):\n",
    "        #on recupere la bonne route\n",
    "        #road = [item for item in roads if (item[\"id_ville_1\"] == circuit[i] and item[\"id_ville_2\"] == circuit[i + 1]) or (item[\"id_ville_1\"] == circuit[i + 1] and item[\"id_ville_2\"] == circuit[i])][0]\n",
    "        #road = next(item for item in roads if (item[\"id_ville_1\"] == circuit[i] and item[\"id_ville_2\"] == circuit[i + 1]) or (item[\"id_ville_1\"] == circuit[i + 1] and item[\"id_ville_2\"] == circuit[i]))\n",
    "        #road = list(collection_routes.find({'id_ville_1': {'$in': [i, i + 1]}, 'id_ville_2': {'$in': [i, i + 1]}}))[0]\n",
    "        #road = next(filter(lambda item: (item[\"id_ville_1\"] == circuit[i] and item[\"id_ville_2\"] == circuit[i + 1]) or (item[\"id_ville_1\"] == circuit[i + 1] and item[\"id_ville_2\"] == circuit[i]), roads))#\n",
    "        road = search(i, roads, circuit)\n",
    "        #on verifie si la route est oriente ou non, si oui, on cherche le bon sens\n",
    "        if road['est_oriente']: score += road['poids_1'] if road['id_ville_1'] == circuit[i] else road['poids_2']\n",
    "        else: score += road['poids']\n",
    "    return score\n",
    "\n",
    "def circuit_score(circuit, roads, header):\n",
    "    \"\"\"\n",
    "    Cette fonction retourne le score d'un circuit eulerien, cela permettra de comparer les differents voisins entre eux\n",
    "    \"\"\"\n",
    "    score = 0\n",
    "    for i in range(0, len(circuit) - 1):\n",
    "        #on recupere la bonne route\n",
    "        #road = [item for item in roads if (item[\"id_ville_1\"] == circuit[i] and item[\"id_ville_2\"] == circuit[i + 1]) or (item[\"id_ville_1\"] == circuit[i + 1] and item[\"id_ville_2\"] == circuit[i])][0]\n",
    "        #road = next(filter(lambda item: (item[\"id_ville_1\"] == circuit[i] and item[\"id_ville_2\"] == circuit[i + 1]) or (item[\"id_ville_1\"] == circuit[i + 1] and item[\"id_ville_2\"] == circuit[i]), roads))\n",
    "        name = f\"{circuit[i]}/{circuit[i + 1]}\" if circuit[i] > circuit[i + 1] else f\"{circuit[i + 1]}/{circuit[i]}\"\n",
    "        road = roads[header[name]]\n",
    "        #road = search(i, roads, circuit)\n",
    "        #on verifie si la route est oriente ou non, si oui, on cherche le bon sens\n",
    "        if road['est_oriente']: score += road['poids_1'] if road['id_ville_1'] == circuit[i] else road['poids_2']\n",
    "        else: score += road['poids']\n",
    "    return score\n",
    "\n",
    "\n",
    "\n",
    "\n",
    "test_circuit = [2,12,13,27,31,36,41,56,73,77]\n",
    "print(num_clients_PA)\n",
    "a = copy.deepcopy(num_clients_PA)\n",
    "r = import_roads(a, roads_PA)\n",
    "\n",
    "start = time.perf_counter()\n",
    "\n",
    "\n",
    "dic = {}\n",
    "for idx, b in enumerate(r):\n",
    "    dic[b[\"route\"]] = idx\n",
    "\n",
    "\n",
    "print(time.perf_counter() - start)\n",
    "\n",
    "start = time.perf_counter()\n",
    "for _ in range(0, 5):\n",
    "    f = circuit_score(a, r, dic)\n",
    "\n",
    "print(time.perf_counter() - start)\n",
    "\n",
    "start = time.perf_counter()\n",
    "\n",
    "for _ in range(0, 5):\n",
    "    e = circuit_score_test(a, r)\n",
    "print(time.perf_counter() - start)\n",
    "\n",
    "print(f)\n",
    "print(e)"
   ],
   "metadata": {
    "collapsed": false,
    "pycharm": {
     "name": "#%%\n"
    }
   }
  },
  {
   "cell_type": "markdown",
   "source": [
    "## Recherche Tabou"
   ],
   "metadata": {
    "collapsed": false
   }
  },
  {
   "cell_type": "code",
   "execution_count": 265,
   "outputs": [],
   "source": [
    "def tabu_search(initial_circuit, tabu_size, max_iteration, actual_roads, actual_roads_header):\n",
    "    iteration = 1\n",
    "    tabu_list = list()\n",
    "    actual_circuit = initial_circuit.copy()\n",
    "\n",
    "    best_actual_circuit = initial_circuit.copy()\n",
    "    best_total_circuit = initial_circuit.copy()\n",
    "    best_total_value = circuit_score(best_total_circuit, actual_roads, actual_roads_header)\n",
    "\n",
    "    best_total_list = list()\n",
    "    best_actual_list = list()\n",
    "\n",
    "    while iteration <= max_iteration:\n",
    "        iteration += 1\n",
    "        best_actual_value = -1\n",
    "\n",
    "        # on parcourt les voisins de la solution courante\n",
    "        for neighbor in neighborhood(actual_circuit):\n",
    "            if neighbor not in tabu_list : score = circuit_score(neighbor, actual_roads, actual_roads_header)\n",
    "            else: continue\n",
    "            if score <= best_actual_value or best_actual_value == -1:\n",
    "                best_actual_value = score\n",
    "                best_actual_circuit = neighbor.copy()\n",
    "\n",
    "        # on met a jour la meilleur solution rencontree depuis le debut\n",
    "        if best_actual_value < best_total_value:\n",
    "            best_total_circuit = best_actual_circuit.copy()\n",
    "            best_total_value = best_actual_value\n",
    "\n",
    "        best_total_list.append(best_total_value)\n",
    "        best_actual_list.append(best_actual_value)\n",
    "\n",
    "        actual_circuit = best_actual_circuit.copy()\n",
    "\n",
    "        if len(tabu_list) >= tabu_size: tabu_list.pop(0)\n",
    "        tabu_list.append(actual_circuit.copy())\n",
    "\n",
    "    return best_total_circuit, best_total_list, best_actual_list"
   ],
   "metadata": {
    "collapsed": false,
    "pycharm": {
     "name": "#%%\n"
    }
   }
  },
  {
   "cell_type": "markdown",
   "source": [
    "## Multi-start"
   ],
   "metadata": {
    "collapsed": false
   }
  },
  {
   "cell_type": "code",
   "execution_count": 266,
   "outputs": [],
   "source": [
    "def tabu_multi_start(number, iteration, shuffled, actual_roads, actual_roads_header, tabu_size):\n",
    "    best_local_score = -1\n",
    "    best_local_circuit = []\n",
    "    for i in range(0, number):\n",
    "        shuffled_circuit = shuffled.copy()\n",
    "        shuffled_circuit.append(0)\n",
    "        shuffled_circuit.insert(0, 0)\n",
    "        bc, bt, ba= tabu_search(shuffled_circuit, tabu_size, iteration, actual_roads, actual_roads_header)\n",
    "        actual_score = circuit_score(bc, actual_roads, actual_roads_header)\n",
    "\n",
    "        if best_local_score == -1 or actual_score < best_local_score:\n",
    "            best_local_score = actual_score\n",
    "            best_local_circuit = bc\n",
    "\n",
    "        random.shuffle(shuffled)\n",
    "    return [best_local_circuit, best_local_score]"
   ],
   "metadata": {
    "collapsed": false,
    "pycharm": {
     "name": "#%%\n"
    }
   }
  },
  {
   "cell_type": "markdown",
   "source": [
    "## Graphe vers circuits"
   ],
   "metadata": {
    "collapsed": false
   }
  },
  {
   "cell_type": "code",
   "execution_count": 267,
   "outputs": [
    {
     "name": "stdout",
     "output_type": "stream",
     "text": [
      "[328, 319, 339]\n"
     ]
    },
    {
     "ename": "KeyboardInterrupt",
     "evalue": "",
     "output_type": "error",
     "traceback": [
      "\u001B[1;31m---------------------------------------------------------------------------\u001B[0m",
      "\u001B[1;31mKeyboardInterrupt\u001B[0m                         Traceback (most recent call last)",
      "\u001B[1;32m<ipython-input-267-85fa2922b1fa>\u001B[0m in \u001B[0;36m<module>\u001B[1;34m\u001B[0m\n\u001B[0;32m     47\u001B[0m \u001B[1;33m\u001B[0m\u001B[0m\n\u001B[0;32m     48\u001B[0m \u001B[1;33m\u001B[0m\u001B[0m\n\u001B[1;32m---> 49\u001B[1;33m \u001B[0mc\u001B[0m \u001B[1;33m=\u001B[0m \u001B[0mcreate_circuits\u001B[0m\u001B[1;33m(\u001B[0m\u001B[1;33m[\u001B[0m\u001B[0mnum_clients_FR\u001B[0m\u001B[1;33m,\u001B[0m \u001B[0mnum_clients_PA\u001B[0m\u001B[1;33m,\u001B[0m \u001B[0mnum_clients_PR\u001B[0m\u001B[1;33m]\u001B[0m\u001B[1;33m,\u001B[0m \u001B[1;33m[\u001B[0m\u001B[0mroads_FR\u001B[0m\u001B[1;33m,\u001B[0m \u001B[0mroads_PA\u001B[0m\u001B[1;33m,\u001B[0m \u001B[0mroads_PR\u001B[0m\u001B[1;33m]\u001B[0m\u001B[1;33m,\u001B[0m \u001B[1;36m30\u001B[0m\u001B[1;33m)\u001B[0m\u001B[1;33m\u001B[0m\u001B[1;33m\u001B[0m\u001B[0m\n\u001B[0m\u001B[0;32m     50\u001B[0m \u001B[0mtot\u001B[0m \u001B[1;33m=\u001B[0m \u001B[1;36m0\u001B[0m\u001B[1;33m\u001B[0m\u001B[1;33m\u001B[0m\u001B[0m\n\u001B[0;32m     51\u001B[0m \u001B[0mtotb\u001B[0m \u001B[1;33m=\u001B[0m \u001B[1;36m0\u001B[0m\u001B[1;33m\u001B[0m\u001B[1;33m\u001B[0m\u001B[0m\n",
      "\u001B[1;32m<ipython-input-267-85fa2922b1fa>\u001B[0m in \u001B[0;36mcreate_circuits\u001B[1;34m(clients_list, roads_list, k)\u001B[0m\n\u001B[0;32m     25\u001B[0m \u001B[1;33m\u001B[0m\u001B[0m\n\u001B[0;32m     26\u001B[0m             \u001B[1;32mwhile\u001B[0m \u001B[0mlen\u001B[0m\u001B[1;33m(\u001B[0m\u001B[0mtruck_circuit\u001B[0m\u001B[1;33m)\u001B[0m \u001B[1;33m!=\u001B[0m \u001B[0mclients_per_k\u001B[0m\u001B[1;33m[\u001B[0m\u001B[0midx\u001B[0m\u001B[1;33m]\u001B[0m\u001B[1;33m:\u001B[0m\u001B[1;33m\u001B[0m\u001B[1;33m\u001B[0m\u001B[0m\n\u001B[1;32m---> 27\u001B[1;33m                 \u001B[0mtruck_circuit\u001B[0m\u001B[1;33m.\u001B[0m\u001B[0mappend\u001B[0m\u001B[1;33m(\u001B[0m\u001B[0mget_closer_node\u001B[0m\u001B[1;33m(\u001B[0m\u001B[0mtruck_circuit\u001B[0m\u001B[1;33m[\u001B[0m\u001B[1;33m-\u001B[0m\u001B[1;36m1\u001B[0m\u001B[1;33m]\u001B[0m\u001B[1;33m,\u001B[0m \u001B[0mroads_list\u001B[0m\u001B[1;33m[\u001B[0m\u001B[0midx\u001B[0m\u001B[1;33m]\u001B[0m\u001B[1;33m,\u001B[0m \u001B[0mpassed\u001B[0m\u001B[1;33m)\u001B[0m\u001B[1;33m)\u001B[0m\u001B[1;33m\u001B[0m\u001B[1;33m\u001B[0m\u001B[0m\n\u001B[0m\u001B[0;32m     28\u001B[0m                 \u001B[0mpassed\u001B[0m\u001B[1;33m.\u001B[0m\u001B[0mappend\u001B[0m\u001B[1;33m(\u001B[0m\u001B[0mtruck_circuit\u001B[0m\u001B[1;33m[\u001B[0m\u001B[1;33m-\u001B[0m\u001B[1;36m1\u001B[0m\u001B[1;33m]\u001B[0m\u001B[1;33m)\u001B[0m\u001B[1;33m\u001B[0m\u001B[1;33m\u001B[0m\u001B[0m\n\u001B[0;32m     29\u001B[0m \u001B[1;33m\u001B[0m\u001B[0m\n",
      "\u001B[1;32m<ipython-input-184-4646768cf813>\u001B[0m in \u001B[0;36mget_closer_node\u001B[1;34m(node, roads, ignored)\u001B[0m\n\u001B[0;32m      2\u001B[0m     \u001B[0mmin_weight\u001B[0m \u001B[1;33m=\u001B[0m \u001B[1;33m-\u001B[0m\u001B[1;36m1\u001B[0m\u001B[1;33m\u001B[0m\u001B[1;33m\u001B[0m\u001B[0m\n\u001B[0;32m      3\u001B[0m     \u001B[0mnext_node\u001B[0m \u001B[1;33m=\u001B[0m \u001B[1;36m0\u001B[0m\u001B[1;33m\u001B[0m\u001B[1;33m\u001B[0m\u001B[0m\n\u001B[1;32m----> 4\u001B[1;33m     \u001B[0mroads\u001B[0m \u001B[1;33m=\u001B[0m \u001B[1;33m[\u001B[0m\u001B[0mr\u001B[0m \u001B[1;32mfor\u001B[0m \u001B[0mr\u001B[0m \u001B[1;32min\u001B[0m \u001B[0mroads\u001B[0m \u001B[1;32mif\u001B[0m \u001B[0mr\u001B[0m\u001B[1;33m[\u001B[0m\u001B[1;34m\"id_ville_1\"\u001B[0m\u001B[1;33m]\u001B[0m \u001B[1;32mnot\u001B[0m \u001B[1;32min\u001B[0m \u001B[0mignored\u001B[0m \u001B[1;32mor\u001B[0m \u001B[0mr\u001B[0m\u001B[1;33m[\u001B[0m\u001B[1;34m\"id_ville_2\"\u001B[0m\u001B[1;33m]\u001B[0m \u001B[1;32mnot\u001B[0m \u001B[1;32min\u001B[0m \u001B[0mignored\u001B[0m\u001B[1;33m]\u001B[0m\u001B[1;33m\u001B[0m\u001B[1;33m\u001B[0m\u001B[0m\n\u001B[0m\u001B[0;32m      5\u001B[0m     \u001B[1;32mfor\u001B[0m \u001B[0mroad\u001B[0m \u001B[1;32min\u001B[0m \u001B[0mroads\u001B[0m\u001B[1;33m:\u001B[0m\u001B[1;33m\u001B[0m\u001B[1;33m\u001B[0m\u001B[0m\n\u001B[0;32m      6\u001B[0m         \u001B[1;32mif\u001B[0m \u001B[0mroad\u001B[0m\u001B[1;33m[\u001B[0m\u001B[1;34m'est_oriente'\u001B[0m\u001B[1;33m]\u001B[0m\u001B[1;33m:\u001B[0m\u001B[1;33m\u001B[0m\u001B[1;33m\u001B[0m\u001B[0m\n",
      "\u001B[1;32m<ipython-input-184-4646768cf813>\u001B[0m in \u001B[0;36m<listcomp>\u001B[1;34m(.0)\u001B[0m\n\u001B[0;32m      2\u001B[0m     \u001B[0mmin_weight\u001B[0m \u001B[1;33m=\u001B[0m \u001B[1;33m-\u001B[0m\u001B[1;36m1\u001B[0m\u001B[1;33m\u001B[0m\u001B[1;33m\u001B[0m\u001B[0m\n\u001B[0;32m      3\u001B[0m     \u001B[0mnext_node\u001B[0m \u001B[1;33m=\u001B[0m \u001B[1;36m0\u001B[0m\u001B[1;33m\u001B[0m\u001B[1;33m\u001B[0m\u001B[0m\n\u001B[1;32m----> 4\u001B[1;33m     \u001B[0mroads\u001B[0m \u001B[1;33m=\u001B[0m \u001B[1;33m[\u001B[0m\u001B[0mr\u001B[0m \u001B[1;32mfor\u001B[0m \u001B[0mr\u001B[0m \u001B[1;32min\u001B[0m \u001B[0mroads\u001B[0m \u001B[1;32mif\u001B[0m \u001B[0mr\u001B[0m\u001B[1;33m[\u001B[0m\u001B[1;34m\"id_ville_1\"\u001B[0m\u001B[1;33m]\u001B[0m \u001B[1;32mnot\u001B[0m \u001B[1;32min\u001B[0m \u001B[0mignored\u001B[0m \u001B[1;32mor\u001B[0m \u001B[0mr\u001B[0m\u001B[1;33m[\u001B[0m\u001B[1;34m\"id_ville_2\"\u001B[0m\u001B[1;33m]\u001B[0m \u001B[1;32mnot\u001B[0m \u001B[1;32min\u001B[0m \u001B[0mignored\u001B[0m\u001B[1;33m]\u001B[0m\u001B[1;33m\u001B[0m\u001B[1;33m\u001B[0m\u001B[0m\n\u001B[0m\u001B[0;32m      5\u001B[0m     \u001B[1;32mfor\u001B[0m \u001B[0mroad\u001B[0m \u001B[1;32min\u001B[0m \u001B[0mroads\u001B[0m\u001B[1;33m:\u001B[0m\u001B[1;33m\u001B[0m\u001B[1;33m\u001B[0m\u001B[0m\n\u001B[0;32m      6\u001B[0m         \u001B[1;32mif\u001B[0m \u001B[0mroad\u001B[0m\u001B[1;33m[\u001B[0m\u001B[1;34m'est_oriente'\u001B[0m\u001B[1;33m]\u001B[0m\u001B[1;33m:\u001B[0m\u001B[1;33m\u001B[0m\u001B[1;33m\u001B[0m\u001B[0m\n",
      "\u001B[1;31mKeyboardInterrupt\u001B[0m: "
     ]
    }
   ],
   "source": [
    "def create_circuits(clients_list, roads_list, k):\n",
    "\n",
    "    k = k - len(clients_list)\n",
    "\n",
    "    total_of_clients = sum(len(client_list) for client_list in clients_list)\n",
    "    number_of_clients = [len(client_list) for client_list in clients_list]\n",
    "    trucks_for_lists = [int(k * percentage) for percentage in [len(client_list) / total_of_clients for client_list in clients_list]]\n",
    "\n",
    "    while sum(trucks_for_lists) != k: trucks_for_lists[random.randint(0, len(trucks_for_lists) - 1)] += 1\n",
    "\n",
    "    print(number_of_clients)\n",
    "\n",
    "    origins = [0] * len(clients_list)\n",
    "    clients_per_k = [noc // tfl for noc, tfl in zip(number_of_clients, trucks_for_lists)]\n",
    "    difference = [noc % (cpk * tfl) for noc, cpk, tfl in zip(number_of_clients, clients_per_k, trucks_for_lists)]\n",
    "    best_circuits = [[] for _ in range (len(clients_list))]\n",
    "\n",
    "    for idx, client_list in enumerate(clients_list):\n",
    "        passed = [origins[idx],]\n",
    "        actual_node = random.choice(client_list)\n",
    "        for truck in range(0, trucks_for_lists[idx]):\n",
    "\n",
    "            truck_circuit = [actual_node,]\n",
    "            passed.append(actual_node)\n",
    "\n",
    "            while len(truck_circuit) != clients_per_k[idx]:\n",
    "                truck_circuit.append(get_closer_node(truck_circuit[-1], roads_list[idx], passed))\n",
    "                passed.append(truck_circuit[-1])\n",
    "\n",
    "            if difference[idx] > 0:\n",
    "                difference[idx] -= 1\n",
    "                truck_circuit.append(get_closer_node(truck_circuit[-1], roads_list[idx], passed))\n",
    "                passed.append(truck_circuit[-1])\n",
    "\n",
    "            if len(truck_circuit) % 6 == 0:\n",
    "                actual_node = get_closer_node(truck_circuit[0], roads_list[idx], passed)\n",
    "            else:\n",
    "                actual_node = get_closer_node(truck_circuit[-1], roads_list[idx], passed)\n",
    "\n",
    "            if truck == trucks_for_lists[idx] - 1:\n",
    "                best_circuits[idx].append(truck_circuit[:int(len(truck_circuit) // 1.5)])\n",
    "                best_circuits[idx].append(truck_circuit[int(len(truck_circuit) // 1.5):])\n",
    "            else:\n",
    "                best_circuits[idx].append(truck_circuit)\n",
    "    return best_circuits\n",
    "\n",
    "\n",
    "\n",
    "c = create_circuits([num_clients_FR, num_clients_PA, num_clients_PR], [roads_FR, roads_PA, roads_PR], 30)\n",
    "tot = 0\n",
    "totb = 0\n",
    "print(c)\n",
    "for i in c:\n",
    "    totb += len(i)\n",
    "    for j in i:\n",
    "        tot += len(j)\n",
    "print(tot)\n",
    "print(len(num_clients_FR))\n",
    "print(totb)"
   ],
   "metadata": {
    "collapsed": false,
    "pycharm": {
     "name": "#%%\n"
    }
   }
  },
  {
   "cell_type": "code",
   "execution_count": null,
   "outputs": [],
   "source": [
    "test  = [222, 786, 74, 627, 351, 758,6,7, 445, 700, 707, 478, 839, 53, 836, 127, 993, 437, 420, 666, 436, 252]\n",
    "print(test[: int(len(test) // 1.5)])\n",
    "print(test[int(len(test) // 1.5):])\n"
   ],
   "metadata": {
    "collapsed": false,
    "pycharm": {
     "name": "#%%\n"
    }
   }
  },
  {
   "cell_type": "markdown",
   "source": [
    "## Glouton"
   ],
   "metadata": {
    "collapsed": false
   }
  },
  {
   "cell_type": "code",
   "execution_count": null,
   "outputs": [],
   "source": [
    "def get_closer_node(node, roads, ignored):\n",
    "    min_weight = -1\n",
    "    next_node = 0\n",
    "    roads = [r for r in roads if r[\"id_ville_1\"] not in ignored or r[\"id_ville_2\"] not in ignored]\n",
    "    for road in roads:\n",
    "        if road['est_oriente']:\n",
    "            if (road['id_ville_1'] == node) and (min_weight == -1 or min_weight > road['poids_1']):\n",
    "                min_weight = road['poids_1']\n",
    "                next_node = road['id_ville_2']\n",
    "            elif (road['id_ville_2'] == node) and (min_weight == -1 or min_weight > road['poids_2']):\n",
    "                min_weight = road['poids_2']\n",
    "                next_node = road['id_ville_1']\n",
    "        elif (min_weight > road['poids'] or  min_weight == -1) and (road[\"id_ville_1\"] == node or road[\"id_ville_2\"] == node):\n",
    "            min_weight = road['poids']\n",
    "            next_node = road['id_ville_1'] if road[\"id_ville_2\"] == node else road['id_ville_2']\n",
    "\n",
    "    return next_node"
   ],
   "metadata": {
    "collapsed": false,
    "pycharm": {
     "name": "#%%\n"
    }
   }
  },
  {
   "cell_type": "markdown",
   "source": [
    "## Tests"
   ],
   "metadata": {
    "collapsed": false
   }
  },
  {
   "cell_type": "code",
   "execution_count": null,
   "outputs": [],
   "source": [
    "#circuits_per_type = create_circuits([num_clients_FR, num_clients_PA, num_clients_PR], [roads_FR, roads_PA, roads_PR], k)\n",
    "\n",
    "\n"
   ],
   "metadata": {
    "collapsed": false,
    "pycharm": {
     "name": "#%%\n"
    }
   }
  },
  {
   "cell_type": "code",
   "execution_count": 268,
   "outputs": [
    {
     "name": "stdout",
     "output_type": "stream",
     "text": [
      "[328, 319, 339]\n",
      "Type de livraison n.0\n",
      "[[0, 833, 790, 1286, 685, 488, 1666, 112, 699, 982, 785, 851, 1703, 1198, 1877, 77, 110, 1024, 628, 599, 146, 460, 1572, 0], 820]\n",
      "[[0, 97, 652, 22, 1900, 1913, 872, 62, 213, 1696, 1552, 1091, 1257, 1600, 518, 36, 856, 7, 29, 1022, 455, 23, 792, 0], 984]\n",
      "[[0, 591, 1417, 775, 787, 12, 469, 151, 1131, 1910, 1215, 985, 1858, 1566, 1186, 148, 94, 1474, 427, 867, 1986, 1292, 1147, 0], 651]\n",
      "[[0, 1046, 456, 319, 1333, 1616, 506, 188, 1704, 1878, 377, 1770, 576, 122, 554, 315, 107, 381, 1424, 510, 1070, 1040, 1513, 0], 337]\n",
      "[[0, 1701, 1329, 1, 548, 1480, 1750, 168, 1952, 1412, 479, 1809, 92, 1947, 1225, 1094, 886, 1006, 1864, 585, 1402, 1096, 534, 0], 587]\n",
      "[[0, 1435, 75, 1076, 1314, 1011, 1044, 1207, 844, 226, 1760, 1832, 819, 1097, 1407, 1594, 1730, 1586, 69, 1146, 1367, 924, 198, 0], 809]\n",
      "[[0, 1379, 1311, 1985, 711, 459, 496, 355, 169, 412, 1874, 1642, 1849, 1556, 1049, 494, 1062, 1061, 64, 1821, 66, 1712, 1613, 0], 637]\n",
      "[[0, 1163, 10, 209, 660, 503, 1790, 1173, 230, 106, 860, 1667, 948, 395, 422, 1401, 417, 1843, 751, 956, 450, 1676, 1967, 0], 1313]\n",
      "[[0, 205, 1305, 954, 946, 1144, 958, 1438, 756, 371, 690, 310, 1949, 596, 458, 56, 1295, 372, 1358, 1083, 542, 457, 1649, 0], 885]\n",
      "[[0, 1564, 1691, 485, 1331, 1135, 903, 1453, 1674, 1523, 1341, 1577, 1388, 1391, 1390, 166, 1410, 428, 623, 490, 764, 489, 390, 0], 781]\n",
      "[[0, 1978, 1731, 1302, 1188, 998, 668, 287, 774, 1064, 1664, 797, 207, 545, 404, 1757, 290, 543, 284, 1658, 482, 370, 1298, 0], 694]\n",
      "[[0, 1447, 1196, 1432, 649, 1869, 1267, 1859, 1026, 138, 544, 278, 338, 692, 1180, 962, 286, 1786, 663, 784, 1260, 1695, 1087, 0], 1303]\n",
      "[[0, 316, 471, 1463, 1178, 1141, 1238, 832, 1193, 1059, 1827, 1918, 1713, 42, 1520, 1077, 1515, 525, 1307, 1698, 662, 1332, 1933, 0], 875]\n",
      "[[0, 1351, 1284, 1056, 1208, 1315, 1717, 1906, 1035, 964, 612, 1833, 1951, 1209, 1416, 876, 761, 560, 1485, 329, 261, 565, 0], 1222]\n",
      "[[0, 44, 1063, 1019, 619, 746, 926, 1110, 1585, 661, 1763, 1754, 440, 1831, 470, 0], 946]\n",
      "[[0, 1835, 1285, 1690, 1353, 2000, 119, 1411, 0], 934]\n",
      "Type de livraison n.1\n",
      "[[0, 682, 1153, 134, 1694, 153, 643, 686, 1159, 45, 1745, 399, 820, 1971, 1930, 1028, 32, 303, 1142, 1398, 421, 0], 1182]\n",
      "[[0, 379, 965, 1336, 1497, 1743, 1777, 511, 1251, 1673, 1297, 326, 928, 1214, 1737, 39, 887, 324, 1045, 1068, 675, 0], 459]\n",
      "[[0, 68, 1876, 1140, 626, 1300, 852, 1994, 1804, 302, 922, 467, 1798, 1844, 1078, 98, 1364, 388, 1739, 1644, 592, 0], 404]\n",
      "[[0, 731, 418, 492, 172, 1788, 1431, 782, 781, 990, 932, 244, 1898, 1721, 424, 875, 432, 1803, 847, 892, 220, 0], 988]\n",
      "[[0, 491, 1923, 1030, 710, 58, 1901, 1605, 1399, 1441, 1074, 1244, 696, 1304, 915, 677, 1541, 1427, 206, 133, 838, 0], 1001]\n",
      "[[0, 705, 431, 1509, 848, 1439, 1535, 342, 519, 446, 789, 1825, 634, 1240, 1781, 1562, 1318, 1266, 152, 1386, 1537, 0], 858]\n",
      "[[0, 5, 1782, 1420, 1720, 281, 1979, 413, 704, 1924, 1532, 1243, 1191, 3, 1265, 1927, 126, 1521, 913, 890, 328, 0], 511]\n",
      "[[0, 1443, 1478, 1742, 162, 141, 1393, 1643, 698, 325, 945, 1481, 1628, 46, 1551, 179, 1522, 930, 891, 1714, 1759, 0], 741]\n",
      "[[0, 667, 598, 673, 539, 71, 35, 873, 1834, 1693, 1621, 521, 1357, 648, 1822, 1229, 1361, 642, 1130, 160, 1887, 0], 690]\n",
      "[[0, 430, 1460, 1807, 265, 40, 1748, 1385, 1808, 1548, 189, 633, 13, 481, 1280, 1084, 911, 1542, 96, 1675, 1593, 0], 762]\n",
      "[[0, 1107, 1539, 227, 1941, 158, 1997, 332, 866, 895, 1705, 1688, 1960, 568, 1983, 1943, 1466, 805, 1879, 1465, 1850, 0], 889]\n",
      "[[0, 1185, 433, 1725, 1339, 1753, 1709, 546, 736, 909, 416, 1437, 1055, 1217, 1032, 1881, 1630, 223, 1590, 63, 505, 0], 858]\n",
      "[[0, 975, 818, 1389, 656, 190, 1103, 84, 1752, 57, 386, 1857, 1344, 1631, 528, 1397, 899, 783, 1891, 391, 1958, 0], 702]\n",
      "[[0, 859, 1826, 384, 1735, 173, 1218, 829, 2, 1095, 466, 997, 722, 1838, 1041, 1880, 825, 1473, 1998, 1543, 452, 0], 785]\n",
      "[[0, 1990, 1316, 1254, 1955, 706, 563, 933, 1275, 976, 484, 1925, 726, 1464, 1312, 517, 80, 200, 694, 938, 1092, 0], 1020]\n",
      "[[0, 1679, 1820, 1962, 683, 606, 1270, 127, 1775, 1455, 810, 1570, 1429, 0], 1419]\n",
      "[[0, 1423, 1118, 9, 309, 713, 1116, 973, 0], 1029]\n",
      "Type de livraison n.2\n",
      "[[0, 1261, 680, 1172, 1555, 1150, 1487, 1132, 1374, 271, 181, 111, 276, 409, 744, 224, 118, 869, 195, 1086, 1598, 813, 1106, 0], 856]\n",
      "[[0, 1430, 593, 1023, 252, 1797, 861, 793, 1772, 1293, 1830, 950, 1604, 1326, 614, 1516, 1862, 1974, 1486, 135, 105, 1740, 55, 0], 802]\n",
      "[[0, 513, 1001, 54, 1139, 462, 520, 538, 285, 1058, 353, 674, 849, 497, 358, 1681, 150, 942, 264, 1627, 476, 349, 1623, 0], 531]\n",
      "[[0, 647, 865, 995, 243, 1249, 671, 1942, 735, 1177, 978, 210, 1273, 233, 282, 1581, 279, 307, 137, 590, 6, 1134, 0], 904]\n",
      "[[0, 20, 983, 1334, 1719, 1176, 917, 625, 1425, 1201, 1805, 555, 836, 1633, 389, 1559, 1262, 184, 1799, 749, 260, 703, 0], 872]\n",
      "[[0, 100, 834, 1263, 650, 1893, 1475, 1538, 1846, 812, 1372, 253, 1758, 277, 815, 897, 888, 659, 1346, 1137, 1683, 758, 0], 709]\n",
      "[[0, 653, 1641, 931, 120, 1303, 268, 853, 443, 1089, 882, 627, 535, 1467, 556, 715, 1016, 1629, 1252, 1403, 175, 1815, 0], 764]\n",
      "[[0, 1964, 1670, 1982, 360, 300, 641, 501, 811, 714, 236, 336, 1206, 621, 901, 750, 712, 1277, 880, 1113, 354, 527, 0], 698]\n",
      "[[0, 817, 536, 259, 845, 1210, 1057, 1471, 1202, 1337, 1563, 765, 1383, 1436, 91, 1617, 1223, 123, 1145, 1583, 1603, 1245, 0], 710]\n",
      "[[0, 170, 514, 1589, 18, 406, 414, 1569, 1903, 1299, 841, 1156, 1783, 208, 211, 1126, 893, 1545, 1973, 881, 1999, 1517, 0], 727]\n",
      "[[0, 910, 1504, 90, 1988, 304, 1810, 1789, 666, 1079, 499, 103, 1404, 43, 1957, 665, 1668, 1632, 1579, 1732, 609, 1409, 0], 685]\n",
      "[[0, 1576, 1161, 837, 448, 322, 1216, 245, 1702, 1780, 222, 1036, 993, 1377, 1872, 1907, 778, 831, 748, 654, 453, 1602, 0], 843]\n",
      "[[0, 1241, 367, 394, 1101, 610, 635, 1227, 143, 1531, 454, 927, 444, 620, 435, 1308, 1802, 31, 1317, 1512, 1861, 1066, 0], 707]\n",
      "[[0, 439, 72, 804, 365, 658, 429, 724, 128, 1405, 1320, 1370, 187, 1204, 52, 142, 1527, 1889, 248, 581, 1224, 1373, 0], 1009]\n",
      "[[0, 1381, 1939, 1944, 221, 1992, 70, 1966, 219, 701, 587, 1031, 551, 760, 1599, 1291, 115, 1953, 199, 1395, 1489, 1458, 0], 1114]\n",
      "[[0, 1779, 1027, 1981, 339, 132, 1323, 216, 1088, 1829, 1459, 1321, 814, 1811, 410, 0], 912]\n",
      "[[0, 1419, 1322, 464, 1544, 1987, 275, 757, 0], 707]\n",
      "18.48850759999914\n",
      "[0, 833, 790, 1286, 685, 488, 1666, 112, 699, 982, 785, 851, 1703, 1198, 1877, 77, 110, 1024, 628, 599, 146, 460, 1572, 0]\n",
      "[0, 97, 652, 22, 1900, 1913, 872, 62, 213, 1696, 1552, 1091, 1257, 1600, 518, 36, 856, 7, 29, 1022, 455, 23, 792, 0]\n",
      "[0, 591, 1417, 775, 787, 12, 469, 151, 1131, 1910, 1215, 985, 1858, 1566, 1186, 148, 94, 1474, 427, 867, 1986, 1292, 1147, 0]\n",
      "[0, 1046, 456, 319, 1333, 1616, 506, 188, 1704, 1878, 377, 1770, 576, 122, 554, 315, 107, 381, 1424, 510, 1070, 1040, 1513, 0]\n",
      "[0, 1701, 1329, 1, 548, 1480, 1750, 168, 1952, 1412, 479, 1809, 92, 1947, 1225, 1094, 886, 1006, 1864, 585, 1402, 1096, 534, 0]\n",
      "[0, 1435, 75, 1076, 1314, 1011, 1044, 1207, 844, 226, 1760, 1832, 819, 1097, 1407, 1594, 1730, 1586, 69, 1146, 1367, 924, 198, 0]\n",
      "[0, 1379, 1311, 1985, 711, 459, 496, 355, 169, 412, 1874, 1642, 1849, 1556, 1049, 494, 1062, 1061, 64, 1821, 66, 1712, 1613, 0]\n",
      "[0, 1163, 10, 209, 660, 503, 1790, 1173, 230, 106, 860, 1667, 948, 395, 422, 1401, 417, 1843, 751, 956, 450, 1676, 1967, 0]\n",
      "[0, 205, 1305, 954, 946, 1144, 958, 1438, 756, 371, 690, 310, 1949, 596, 458, 56, 1295, 372, 1358, 1083, 542, 457, 1649, 0]\n",
      "[0, 1564, 1691, 485, 1331, 1135, 903, 1453, 1674, 1523, 1341, 1577, 1388, 1391, 1390, 166, 1410, 428, 623, 490, 764, 489, 390, 0]\n",
      "[0, 1978, 1731, 1302, 1188, 998, 668, 287, 774, 1064, 1664, 797, 207, 545, 404, 1757, 290, 543, 284, 1658, 482, 370, 1298, 0]\n",
      "[0, 1447, 1196, 1432, 649, 1869, 1267, 1859, 1026, 138, 544, 278, 338, 692, 1180, 962, 286, 1786, 663, 784, 1260, 1695, 1087, 0]\n",
      "[0, 316, 471, 1463, 1178, 1141, 1238, 832, 1193, 1059, 1827, 1918, 1713, 42, 1520, 1077, 1515, 525, 1307, 1698, 662, 1332, 1933, 0]\n",
      "[0, 1351, 1284, 1056, 1208, 1315, 1717, 1906, 1035, 964, 612, 1833, 1951, 1209, 1416, 876, 761, 560, 1485, 329, 261, 565, 0]\n",
      "[0, 44, 1063, 1019, 619, 746, 926, 1110, 1585, 661, 1763, 1754, 440, 1831, 470, 0]\n",
      "[0, 1835, 1285, 1690, 1353, 2000, 119, 1411, 0]\n",
      "[0, 682, 1153, 134, 1694, 153, 643, 686, 1159, 45, 1745, 399, 820, 1971, 1930, 1028, 32, 303, 1142, 1398, 421, 0]\n",
      "[0, 379, 965, 1336, 1497, 1743, 1777, 511, 1251, 1673, 1297, 326, 928, 1214, 1737, 39, 887, 324, 1045, 1068, 675, 0]\n",
      "[0, 68, 1876, 1140, 626, 1300, 852, 1994, 1804, 302, 922, 467, 1798, 1844, 1078, 98, 1364, 388, 1739, 1644, 592, 0]\n",
      "[0, 731, 418, 492, 172, 1788, 1431, 782, 781, 990, 932, 244, 1898, 1721, 424, 875, 432, 1803, 847, 892, 220, 0]\n",
      "[0, 491, 1923, 1030, 710, 58, 1901, 1605, 1399, 1441, 1074, 1244, 696, 1304, 915, 677, 1541, 1427, 206, 133, 838, 0]\n",
      "[0, 705, 431, 1509, 848, 1439, 1535, 342, 519, 446, 789, 1825, 634, 1240, 1781, 1562, 1318, 1266, 152, 1386, 1537, 0]\n",
      "[0, 5, 1782, 1420, 1720, 281, 1979, 413, 704, 1924, 1532, 1243, 1191, 3, 1265, 1927, 126, 1521, 913, 890, 328, 0]\n",
      "[0, 1443, 1478, 1742, 162, 141, 1393, 1643, 698, 325, 945, 1481, 1628, 46, 1551, 179, 1522, 930, 891, 1714, 1759, 0]\n",
      "[0, 667, 598, 673, 539, 71, 35, 873, 1834, 1693, 1621, 521, 1357, 648, 1822, 1229, 1361, 642, 1130, 160, 1887, 0]\n",
      "[0, 430, 1460, 1807, 265, 40, 1748, 1385, 1808, 1548, 189, 633, 13, 481, 1280, 1084, 911, 1542, 96, 1675, 1593, 0]\n",
      "[0, 1107, 1539, 227, 1941, 158, 1997, 332, 866, 895, 1705, 1688, 1960, 568, 1983, 1943, 1466, 805, 1879, 1465, 1850, 0]\n",
      "[0, 1185, 433, 1725, 1339, 1753, 1709, 546, 736, 909, 416, 1437, 1055, 1217, 1032, 1881, 1630, 223, 1590, 63, 505, 0]\n",
      "[0, 975, 818, 1389, 656, 190, 1103, 84, 1752, 57, 386, 1857, 1344, 1631, 528, 1397, 899, 783, 1891, 391, 1958, 0]\n",
      "[0, 859, 1826, 384, 1735, 173, 1218, 829, 2, 1095, 466, 997, 722, 1838, 1041, 1880, 825, 1473, 1998, 1543, 452, 0]\n",
      "[0, 1990, 1316, 1254, 1955, 706, 563, 933, 1275, 976, 484, 1925, 726, 1464, 1312, 517, 80, 200, 694, 938, 1092, 0]\n",
      "[0, 1679, 1820, 1962, 683, 606, 1270, 127, 1775, 1455, 810, 1570, 1429, 0]\n",
      "[0, 1423, 1118, 9, 309, 713, 1116, 973, 0]\n",
      "[0, 1261, 680, 1172, 1555, 1150, 1487, 1132, 1374, 271, 181, 111, 276, 409, 744, 224, 118, 869, 195, 1086, 1598, 813, 1106, 0]\n",
      "[0, 1430, 593, 1023, 252, 1797, 861, 793, 1772, 1293, 1830, 950, 1604, 1326, 614, 1516, 1862, 1974, 1486, 135, 105, 1740, 55, 0]\n",
      "[0, 513, 1001, 54, 1139, 462, 520, 538, 285, 1058, 353, 674, 849, 497, 358, 1681, 150, 942, 264, 1627, 476, 349, 1623, 0]\n",
      "[0, 647, 865, 995, 243, 1249, 671, 1942, 735, 1177, 978, 210, 1273, 233, 282, 1581, 279, 307, 137, 590, 6, 1134, 0]\n",
      "[0, 20, 983, 1334, 1719, 1176, 917, 625, 1425, 1201, 1805, 555, 836, 1633, 389, 1559, 1262, 184, 1799, 749, 260, 703, 0]\n",
      "[0, 100, 834, 1263, 650, 1893, 1475, 1538, 1846, 812, 1372, 253, 1758, 277, 815, 897, 888, 659, 1346, 1137, 1683, 758, 0]\n",
      "[0, 653, 1641, 931, 120, 1303, 268, 853, 443, 1089, 882, 627, 535, 1467, 556, 715, 1016, 1629, 1252, 1403, 175, 1815, 0]\n",
      "[0, 1964, 1670, 1982, 360, 300, 641, 501, 811, 714, 236, 336, 1206, 621, 901, 750, 712, 1277, 880, 1113, 354, 527, 0]\n",
      "[0, 817, 536, 259, 845, 1210, 1057, 1471, 1202, 1337, 1563, 765, 1383, 1436, 91, 1617, 1223, 123, 1145, 1583, 1603, 1245, 0]\n",
      "[0, 170, 514, 1589, 18, 406, 414, 1569, 1903, 1299, 841, 1156, 1783, 208, 211, 1126, 893, 1545, 1973, 881, 1999, 1517, 0]\n",
      "[0, 910, 1504, 90, 1988, 304, 1810, 1789, 666, 1079, 499, 103, 1404, 43, 1957, 665, 1668, 1632, 1579, 1732, 609, 1409, 0]\n",
      "[0, 1576, 1161, 837, 448, 322, 1216, 245, 1702, 1780, 222, 1036, 993, 1377, 1872, 1907, 778, 831, 748, 654, 453, 1602, 0]\n",
      "[0, 1241, 367, 394, 1101, 610, 635, 1227, 143, 1531, 454, 927, 444, 620, 435, 1308, 1802, 31, 1317, 1512, 1861, 1066, 0]\n",
      "[0, 439, 72, 804, 365, 658, 429, 724, 128, 1405, 1320, 1370, 187, 1204, 52, 142, 1527, 1889, 248, 581, 1224, 1373, 0]\n",
      "[0, 1381, 1939, 1944, 221, 1992, 70, 1966, 219, 701, 587, 1031, 551, 760, 1599, 1291, 115, 1953, 199, 1395, 1489, 1458, 0]\n",
      "[0, 1779, 1027, 1981, 339, 132, 1323, 216, 1088, 1829, 1459, 1321, 814, 1811, 410, 0]\n",
      "[0, 1419, 1322, 464, 1544, 1987, 275, 757, 0]\n",
      "986\n"
     ]
    },
    {
     "data": {
      "text/plain": "<Figure size 1080x360 with 1 Axes>",
      "image/png": "[encoded data removed]"
     },
     "metadata": {
      "needs_background": "light"
     },
     "output_type": "display_data"
    }
   ],
   "source": [
    "final = []\n",
    "n = 5\n",
    "it = 250\n",
    "k = 50\n",
    "ts = 80\n",
    "\n",
    "nodes_all = [num_clients_FR, num_clients_PA, num_clients_PR]\n",
    "roads_all = [roads_FR, roads_PA, roads_PR]\n",
    "circuits_per_type = create_circuits(nodes_all, roads_all, k)\n",
    "\n",
    "colors = ['red', 'green', 'blue']\n",
    "\n",
    "start = time.perf_counter()\n",
    "plt.figure(figsize=(15,5))\n",
    "\n",
    "\n",
    "for i, circuits in enumerate(circuits_per_type):\n",
    "    print(f\"Type de livraison n.{i}\")\n",
    "\n",
    "    for j, circuit in enumerate(circuits):\n",
    "\n",
    "        roads_content = import_roads(circuit.copy(), roads_all[i])\n",
    "        roads_header = { road_content[\"route\"]: idx for idx, road_content in enumerate(roads_content)}\n",
    "        final.append(tabu_multi_start(n, it, circuit.copy(), roads_content, roads_header, ts))\n",
    "\n",
    "        print(final[-1])\n",
    "\n",
    "        plt.xlabel(\"temps\", fontsize=16)\n",
    "        plt.ylabel(\"nb de points\", fontsize=16)\n",
    "        plt.scatter(final[-1][1], len(final[-1][0]), color=colors[i],)\n",
    "\n",
    "print(time.perf_counter() - start)\n",
    "#print(final)\n",
    "\n",
    "tot = 0\n",
    "\n",
    "for i in final:\n",
    "    print(i[0])\n",
    "    tot += len(i[0]) - 2\n",
    "\n",
    "print(tot)"
   ],
   "metadata": {
    "collapsed": false,
    "pycharm": {
     "name": "#%%\n"
    }
   }
  }
 ],
 "metadata": {
  "kernelspec": {
   "name": "learningml",
   "language": "python",
   "display_name": "Python (learningML)"
  },
  "language_info": {
   "codemirror_mode": {
    "name": "ipython",
    "version": 2
   },
   "file_extension": ".py",
   "mimetype": "text/x-python",
   "name": "python",
   "nbconvert_exporter": "python",
   "pygments_lexer": "ipython2",
   "version": "2.7.6"
  }
 },
 "nbformat": 4,
 "nbformat_minor": 0
}