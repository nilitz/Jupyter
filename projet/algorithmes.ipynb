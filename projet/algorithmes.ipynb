{
 "cells": [
  {
   "cell_type": "markdown",
   "metadata": {
    "collapsed": true,
    "pycharm": {
     "name": "#%% md\n"
    }
   },
   "source": [
    "## Initialisation"
   ]
  },
  {
   "cell_type": "code",
   "execution_count": 224,
   "outputs": [],
   "source": [
    "import copy\n",
    "import random\n",
    "import time\n",
    "import pprint\n",
    "\n",
    "from matplotlib import pyplot as plt\n",
    "from pymongo import MongoClient\n",
    "import numpy as np\n",
    "\n",
    "\n",
    "# Init\n",
    "mongo = MongoClient('localhost', 27017)\n",
    "db = mongo['citeos']\n",
    "collection_villes = db['villes']\n",
    "collection_routes = db['routes']\n",
    "collection_clients = db['clients']\n",
    "\n",
    "num_clients_FR = list(map(lambda x: x['id_client'], collection_clients.aggregate([{\"$match\" : {'est_client': True, 'type': 'frais'}}])))\n",
    "num_clients_PA = list(map(lambda x: x['id_client'], collection_clients.aggregate([{\"$match\" : {'est_client': True, 'type': 'particulier'}}])))\n",
    "num_clients_PR = list(map(lambda x: x['id_client'], collection_clients.aggregate([{\"$match\" : {'est_client': True, 'type': 'prisonnier'}}])))\n",
    "\n",
    "num_clients_FR.append(0)\n",
    "num_clients_PA.append(0)\n",
    "num_clients_PR.append(0)\n",
    "\n",
    "roads_FR = np.array(list(collection_routes.find({'id_ville_1': {'$in': num_clients_FR}, 'id_ville_2': {'$in': num_clients_FR}})))\n",
    "roads_PA = np.array(list(collection_routes.find({'id_ville_1': {'$in': num_clients_PA}, 'id_ville_2': {'$in': num_clients_PA}})))\n",
    "roads_PR = np.array(list(collection_routes.find({'id_ville_1': {'$in': num_clients_PR}, 'id_ville_2': {'$in': num_clients_PR}})))\n",
    "\n",
    "num_clients_FR.remove(0)\n",
    "num_clients_PA.remove(0)\n",
    "num_clients_PR.remove(0)"
   ],
   "metadata": {
    "collapsed": false,
    "pycharm": {
     "name": "#%%\n"
    }
   }
  },
  {
   "cell_type": "markdown",
   "source": [
    "## Fonction Voisin"
   ],
   "metadata": {
    "collapsed": false
   }
  },
  {
   "cell_type": "code",
   "execution_count": 2,
   "outputs": [],
   "source": [
    "def neighborhood(circuit):\n",
    "    \"\"\"\n",
    "    Cette fonction est un generateur de tous les voisins valides d'une solution\n",
    "    \"\"\"\n",
    "    for i in range (1, len(circuit) - 2):\n",
    "        neighbor_circuit = circuit.copy()\n",
    "        neighbor_circuit[i], neighbor_circuit[i + 1] = neighbor_circuit[i + 1], neighbor_circuit[i]\n",
    "        yield neighbor_circuit"
   ],
   "metadata": {
    "collapsed": false,
    "pycharm": {
     "name": "#%%\n"
    }
   }
  },
  {
   "cell_type": "markdown",
   "source": [
    "## Fonction Recuperation Routes"
   ],
   "metadata": {
    "collapsed": false
   }
  },
  {
   "cell_type": "code",
   "execution_count": 3,
   "outputs": [],
   "source": [
    "def import_roads(cities, roads):\n",
    "    cities.append(0)\n",
    "    return np.array([road for road in roads if road['id_ville_1'] in cities and road['id_ville_2'] in cities])\n"
   ],
   "metadata": {
    "collapsed": false,
    "pycharm": {
     "name": "#%%\n"
    }
   }
  },
  {
   "cell_type": "markdown",
   "source": [
    "## Fonction Score"
   ],
   "metadata": {
    "collapsed": false
   }
  },
  {
   "cell_type": "code",
   "execution_count": 180,
   "outputs": [
    {
     "name": "stdout",
     "output_type": "stream",
     "text": [
      "[2, 12, 13, 27, 31, 36, 41, 56, 73, 77, 81, 83, 85, 89, 92, 110, 111, 122, 126, 133, 136, 138, 141, 145, 151, 153, 154, 163, 168, 175, 180, 183, 198, 199, 217, 218, 219, 225, 228, 232, 237, 238, 240, 246, 260, 274, 282, 283, 288, 291, 293, 296, 299, 300, 302, 304, 318, 321, 323, 328, 329, 330, 335, 338, 339, 341, 350, 353, 354, 361, 362, 375, 386, 389, 390, 392, 401, 403, 405, 407, 418, 422, 429, 432, 433, 434, 444, 448, 450, 451, 455, 467, 470, 482, 496, 517, 519, 531, 534, 539, 545, 546, 548, 552, 566, 576, 578, 579, 582, 589, 594, 595, 601, 602, 604, 610, 615, 618, 622, 624, 626, 641, 646, 648, 649, 660, 661, 662, 663, 687, 689, 694, 716, 717, 719, 724, 727, 742, 744, 757, 765, 766, 768, 779, 783, 785, 789, 793, 797, 811, 816, 819, 820, 823, 831, 844, 849, 850, 853, 860, 861, 864, 868, 869, 874, 883, 891, 892, 902, 912, 913, 927, 937, 940, 941, 944, 954, 959, 960, 964, 967, 969, 973, 978, 979, 989, 991]\n",
      "0.007042299999739043\n",
      "0.0007089999999152496\n",
      "1.9260204000001977\n",
      "58208\n",
      "58208\n"
     ]
    }
   ],
   "source": [
    "def search(node,roads, circuit):\n",
    "    for item in roads:\n",
    "        if (item[\"id_ville_1\"] == circuit[node] and item[\"id_ville_2\"] == circuit[node + 1]) or (item[\"id_ville_1\"] == circuit[node + 1] and item[\"id_ville_2\"] == circuit[node]):\n",
    "            return item\n",
    "\n",
    "def circuit_score_test(circuit, roads):\n",
    "    \"\"\"\n",
    "    Cette fonction retourne le score d'un circuit eulerien, cela permettra de comparer les differents voisins entre eux\n",
    "    \"\"\"\n",
    "    score = 0\n",
    "    for i in range(0, len(circuit) - 1):\n",
    "        #on recupere la bonne route\n",
    "        #road = [item for item in roads if (item[\"id_ville_1\"] == circuit[i] and item[\"id_ville_2\"] == circuit[i + 1]) or (item[\"id_ville_1\"] == circuit[i + 1] and item[\"id_ville_2\"] == circuit[i])][0]\n",
    "        #road = next(item for item in roads if (item[\"id_ville_1\"] == circuit[i] and item[\"id_ville_2\"] == circuit[i + 1]) or (item[\"id_ville_1\"] == circuit[i + 1] and item[\"id_ville_2\"] == circuit[i]))\n",
    "        #road = list(collection_routes.find({'id_ville_1': {'$in': [i, i + 1]}, 'id_ville_2': {'$in': [i, i + 1]}}))[0]\n",
    "        #road = next(filter(lambda item: (item[\"id_ville_1\"] == circuit[i] and item[\"id_ville_2\"] == circuit[i + 1]) or (item[\"id_ville_1\"] == circuit[i + 1] and item[\"id_ville_2\"] == circuit[i]), roads))#\n",
    "        road = search(i, roads, circuit)\n",
    "        #on verifie si la route est oriente ou non, si oui, on cherche le bon sens\n",
    "        if road['est_oriente']: score += road['poids_1'] if road['id_ville_1'] == circuit[i] else road['poids_2']\n",
    "        else: score += road['poids']\n",
    "    return score\n",
    "\n",
    "def circuit_score(circuit, roads, header):\n",
    "    \"\"\"\n",
    "    Cette fonction retourne le score d'un circuit eulerien, cela permettra de comparer les differents voisins entre eux\n",
    "    \"\"\"\n",
    "    score = 0\n",
    "    for i in range(0, len(circuit) - 1):\n",
    "        #on recupere la bonne route\n",
    "        #road = [item for item in roads if (item[\"id_ville_1\"] == circuit[i] and item[\"id_ville_2\"] == circuit[i + 1]) or (item[\"id_ville_1\"] == circuit[i + 1] and item[\"id_ville_2\"] == circuit[i])][0]\n",
    "        #road = next(filter(lambda item: (item[\"id_ville_1\"] == circuit[i] and item[\"id_ville_2\"] == circuit[i + 1]) or (item[\"id_ville_1\"] == circuit[i + 1] and item[\"id_ville_2\"] == circuit[i]), roads))\n",
    "        name = f\"route {circuit[i]}/{circuit[i + 1]}\" if circuit[i] > circuit[i + 1] else f\"route {circuit[i + 1]}/{circuit[i]}\"\n",
    "        road = roads[header[name]]\n",
    "        #road = search(i, roads, circuit)\n",
    "        #on verifie si la route est oriente ou non, si oui, on cherche le bon sens\n",
    "        if road['est_oriente']: score += road['poids_1'] if road['id_ville_1'] == circuit[i] else road['poids_2']\n",
    "        else: score += road['poids']\n",
    "    return score\n",
    "\n",
    "\n",
    "\n",
    "\n",
    "test_circuit = [2,12,13,27,31,36,41,56,73,77]\n",
    "print(num_clients_PA)\n",
    "a = copy.deepcopy(num_clients_PA)\n",
    "r = import_roads(a, roads_PA)\n",
    "\n",
    "start = time.perf_counter()\n",
    "\n",
    "\n",
    "dic = {}\n",
    "for idx, b in enumerate(r):\n",
    "    dic[b[\"route\"]] = idx\n",
    "\n",
    "\n",
    "print(time.perf_counter() - start)\n",
    "\n",
    "start = time.perf_counter()\n",
    "for _ in range(0, 5):\n",
    "    f = circuit_score(a, r, dic)\n",
    "\n",
    "print(time.perf_counter() - start)\n",
    "\n",
    "start = time.perf_counter()\n",
    "\n",
    "for _ in range(0, 5):\n",
    "    e = circuit_score_test(a, r)\n",
    "print(time.perf_counter() - start)\n",
    "\n",
    "print(f)\n",
    "print(e)"
   ],
   "metadata": {
    "collapsed": false,
    "pycharm": {
     "name": "#%%\n"
    }
   }
  },
  {
   "cell_type": "markdown",
   "source": [
    "## Recherche Tabou"
   ],
   "metadata": {
    "collapsed": false
   }
  },
  {
   "cell_type": "code",
   "execution_count": 186,
   "outputs": [],
   "source": [
    "def tabu_search(initial_circuit, tabu_size, max_iteration, actual_roads, actual_roads_header):\n",
    "    iteration = 1\n",
    "    tabu_list = list()\n",
    "    actual_circuit = initial_circuit.copy()\n",
    "\n",
    "    best_actual_circuit = initial_circuit.copy()\n",
    "    best_total_circuit = initial_circuit.copy()\n",
    "    best_total_value = circuit_score(best_total_circuit, actual_roads, actual_roads_header)\n",
    "\n",
    "    best_total_list = list()\n",
    "    best_actual_list = list()\n",
    "\n",
    "    while iteration <= max_iteration:\n",
    "        iteration += 1\n",
    "        best_actual_value = -1\n",
    "\n",
    "        # on parcourt les voisins de la solution courante\n",
    "        for neighbor in neighborhood(actual_circuit):\n",
    "            if neighbor not in tabu_list : score = circuit_score(neighbor, actual_roads, actual_roads_header)\n",
    "            else: continue\n",
    "            if score <= best_actual_value or best_actual_value == -1:\n",
    "                best_actual_value = score\n",
    "                best_actual_circuit = neighbor.copy()\n",
    "\n",
    "        # on met a jour la meilleur solution rencontree depuis le debut\n",
    "        if best_actual_value < best_total_value:\n",
    "            best_total_circuit = best_actual_circuit.copy()\n",
    "            best_total_value = best_actual_value\n",
    "\n",
    "        best_total_list.append(best_total_value)\n",
    "        best_actual_list.append(best_actual_value)\n",
    "\n",
    "        actual_circuit = best_actual_circuit.copy()\n",
    "\n",
    "        if len(tabu_list) >= tabu_size: tabu_list.pop(0)\n",
    "        tabu_list.append(actual_circuit.copy())\n",
    "\n",
    "    return best_total_circuit, best_total_list, best_actual_list"
   ],
   "metadata": {
    "collapsed": false,
    "pycharm": {
     "name": "#%%\n"
    }
   }
  },
  {
   "cell_type": "markdown",
   "source": [
    "## Multi-start"
   ],
   "metadata": {
    "collapsed": false
   }
  },
  {
   "cell_type": "code",
   "execution_count": 252,
   "outputs": [],
   "source": [
    "def tabu_multi_start(number, iteration, shuffled, actual_roads, actual_roads_header, tabu_size):\n",
    "    best_local_score = -1\n",
    "    best_local_circuit = []\n",
    "    for i in range(0, number):\n",
    "        shuffled_circuit = shuffled.copy()\n",
    "        shuffled_circuit.append(0)\n",
    "        shuffled_circuit.insert(0, 0)\n",
    "        bc, bt, ba= tabu_search(shuffled_circuit, tabu_size, iteration, actual_roads, actual_roads_header)\n",
    "        actual_score = circuit_score(bc, actual_roads, actual_roads_header)\n",
    "\n",
    "        if best_local_score == -1 or actual_score < best_local_score:\n",
    "            best_local_score = actual_score\n",
    "            best_local_circuit = bc\n",
    "\n",
    "        random.shuffle(shuffled)\n",
    "    return [best_local_circuit, best_local_score]"
   ],
   "metadata": {
    "collapsed": false,
    "pycharm": {
     "name": "#%%\n"
    }
   }
  },
  {
   "cell_type": "markdown",
   "source": [
    "## Graphe vers circuits"
   ],
   "metadata": {
    "collapsed": false
   }
  },
  {
   "cell_type": "code",
   "execution_count": 258,
   "outputs": [
    {
     "name": "stdout",
     "output_type": "stream",
     "text": [
      "[156, 187, 176]\n",
      "[[[836, 53, 8, 700, 445, 758, 351, 958, 424, 935, 86, 393, 507, 561, 21, 951, 847, 395, 463, 702], [447, 873, 159, 87, 493, 829, 544, 838, 130, 591, 324, 88, 356, 290, 192, 569, 345, 943, 485, 112], [18, 104, 563, 900, 68, 132, 707, 478, 839, 897, 305, 127, 993, 437, 420, 666, 436, 252, 94, 886], [833, 79, 10, 308, 171, 875, 580, 483, 681, 903, 71, 623, 1, 721, 787, 258, 786, 74, 627, 516], [319, 848, 974, 655, 381, 259, 651, 84, 810, 376, 452, 137, 842, 97, 799, 524, 476, 169, 99], [16, 131, 230, 762, 647, 532, 14, 880, 734, 968, 211, 384, 473, 188, 747, 427, 513, 678, 679], [203, 522, 520, 540, 255, 609, 262, 468, 222, 939, 285, 884, 806, 156, 287, 207, 69, 229, 214], [556, 790, 543, 43, 726, 598, 621, 521, 506, 553, 788, 275], [530, 15, 363, 919, 415, 400, 176]], [[232, 2, 534, 375, 341, 742, 978, 641, 960, 860, 422, 595, 646, 183, 433, 819, 783, 779, 660, 891, 151], [940, 912, 429, 110, 615, 392, 789, 240, 180, 944, 153, 77, 432, 111, 237, 902, 727, 434, 785, 199, 844], [338, 601, 386, 811, 874, 831, 579, 663, 496, 133, 291, 482, 717, 274, 282, 969, 694, 56, 12, 448, 218], [979, 31, 724, 168, 329, 576, 820, 719, 757, 217, 610, 765, 145, 545, 618, 73, 892, 937, 361, 390, 868], [403, 126, 339, 744, 467, 689, 816, 566, 793, 539, 350, 89, 304, 455, 959, 864, 293, 362, 405, 335, 913], [622, 198, 328, 323, 27, 853, 401, 141, 136, 661, 973, 407, 283, 662, 81, 954, 175, 989, 517, 418, 883], [546, 92, 41, 861, 964, 869, 450, 768, 260, 246, 330, 451, 299, 626, 604, 967, 823, 531, 36, 687, 552], [13, 288, 225, 163, 716, 470, 354, 602, 649, 122, 85, 927, 548, 941, 594, 389, 219, 444, 766, 519], [302, 154, 578, 238, 353, 83, 648, 321, 850, 228, 582, 797, 138], [589, 300, 624, 849, 991, 318, 296]], [[355, 603, 276, 438, 147, 600, 983, 822, 358, 956, 309, 460, 281, 461, 581, 988, 472, 25], [865, 701, 492, 284, 431, 619, 52, 995, 809, 720, 413, 607, 497, 825, 348, 178, 446, 170], [380, 760, 770, 732, 612, 273, 490, 567, 78, 538, 644, 325, 182, 70, 123, 852, 398, 693], [236, 792, 1000, 315, 800, 784, 326, 755, 294, 982, 596, 872, 827, 397, 256, 885, 571, 47], [435, 878, 186, 776, 410, 565, 396, 879, 469, 226, 173, 945, 144, 613, 871, 155, 837, 938], [638, 388, 767, 750, 802, 368, 442, 957, 905, 55, 656, 360, 58, 685, 349, 502, 965, 19], [657, 896, 761, 745, 272, 377, 606, 412, 930, 499, 526, 72, 204, 379, 668, 498, 172], [915, 179, 160, 477, 7, 239, 677, 759, 40, 931, 990, 577, 738, 113, 124, 140, 378], [575, 54, 189, 888, 737, 682, 454, 30, 684, 17, 264, 572, 805, 286, 486, 769, 962], [297, 714, 815, 9, 658, 559, 881, 216, 713, 870, 261], [414, 402, 408, 536, 369, 730]]]\n",
      "519\n",
      "156\n",
      "30\n"
     ]
    }
   ],
   "source": [
    "def create_circuits(clients_list, roads_list, k):\n",
    "\n",
    "    k = k - len(clients_list)\n",
    "\n",
    "    total_of_clients = sum(len(client_list) for client_list in clients_list)\n",
    "    number_of_clients = [len(client_list) for client_list in clients_list]\n",
    "    trucks_for_lists = [int(k * percentage) for percentage in [len(client_list) / total_of_clients for client_list in clients_list]]\n",
    "\n",
    "    while sum(trucks_for_lists) != k: trucks_for_lists[random.randint(0, len(trucks_for_lists) - 1)] += 1\n",
    "\n",
    "    print(number_of_clients)\n",
    "\n",
    "    origins = [0] * len(clients_list)\n",
    "    clients_per_k = [noc // tfl for noc, tfl in zip(number_of_clients, trucks_for_lists)]\n",
    "    difference = [noc % (cpk * tfl) for noc, cpk, tfl in zip(number_of_clients, clients_per_k, trucks_for_lists)]\n",
    "    best_circuits = [[] for _ in range (len(clients_list))]\n",
    "\n",
    "    for idx, client_list in enumerate(clients_list):\n",
    "        passed = [origins[idx],]\n",
    "        actual_node = random.choice(client_list)\n",
    "        for truck in range(0, trucks_for_lists[idx]):\n",
    "\n",
    "            truck_circuit = [actual_node,]\n",
    "            passed.append(actual_node)\n",
    "\n",
    "            while len(truck_circuit) != clients_per_k[idx]:\n",
    "                truck_circuit.append(get_closer_node(truck_circuit[-1], roads_list[idx], passed))\n",
    "                passed.append(truck_circuit[-1])\n",
    "\n",
    "            if difference[idx] > 0:\n",
    "                difference[idx] -= 1\n",
    "                truck_circuit.append(get_closer_node(truck_circuit[-1], roads_list[idx], passed))\n",
    "                passed.append(truck_circuit[-1])\n",
    "\n",
    "            if len(truck_circuit) % 6 == 0:\n",
    "                actual_node = get_closer_node(truck_circuit[0], roads_list[idx], passed)\n",
    "            else:\n",
    "                actual_node = get_closer_node(truck_circuit[-1], roads_list[idx], passed)\n",
    "\n",
    "            if truck == trucks_for_lists[idx] - 1:\n",
    "                best_circuits[idx].append(truck_circuit[:int(len(truck_circuit) // 1.5)])\n",
    "                best_circuits[idx].append(truck_circuit[int(len(truck_circuit) // 1.5):])\n",
    "            else:\n",
    "                best_circuits[idx].append(truck_circuit)\n",
    "    return best_circuits\n",
    "\n",
    "\n",
    "\n",
    "c = create_circuits([num_clients_FR, num_clients_PA, num_clients_PR], [roads_FR, roads_PA, roads_PR], 30)\n",
    "tot = 0\n",
    "totb = 0\n",
    "print(c)\n",
    "for i in c:\n",
    "    totb += len(i)\n",
    "    for j in i:\n",
    "        tot += len(j)\n",
    "print(tot)\n",
    "print(len(num_clients_FR))\n",
    "print(totb)"
   ],
   "metadata": {
    "collapsed": false,
    "pycharm": {
     "name": "#%%\n"
    }
   }
  },
  {
   "cell_type": "code",
   "execution_count": 243,
   "outputs": [
    {
     "name": "stdout",
     "output_type": "stream",
     "text": [
      "[222, 786, 74, 627, 351, 758, 6, 7, 445, 700, 707, 478, 839, 53]\n",
      "[836, 127, 993, 437, 420, 666, 436, 252]\n"
     ]
    }
   ],
   "source": [
    "test  = [222, 786, 74, 627, 351, 758,6,7, 445, 700, 707, 478, 839, 53, 836, 127, 993, 437, 420, 666, 436, 252]\n",
    "print(test[: int(len(test) // 1.5)])\n",
    "print(test[int(len(test) // 1.5):])\n"
   ],
   "metadata": {
    "collapsed": false,
    "pycharm": {
     "name": "#%%\n"
    }
   }
  },
  {
   "cell_type": "markdown",
   "source": [
    "## Glouton"
   ],
   "metadata": {
    "collapsed": false
   }
  },
  {
   "cell_type": "code",
   "execution_count": 184,
   "outputs": [],
   "source": [
    "def get_closer_node(node, roads, ignored):\n",
    "    min_weight = -1\n",
    "    next_node = 0\n",
    "    roads = [r for r in roads if r[\"id_ville_1\"] not in ignored or r[\"id_ville_2\"] not in ignored]\n",
    "    for road in roads:\n",
    "        if road['est_oriente']:\n",
    "            if (road['id_ville_1'] == node) and (min_weight == -1 or min_weight > road['poids_1']):\n",
    "                min_weight = road['poids_1']\n",
    "                next_node = road['id_ville_2']\n",
    "            elif (road['id_ville_2'] == node) and (min_weight == -1 or min_weight > road['poids_2']):\n",
    "                min_weight = road['poids_2']\n",
    "                next_node = road['id_ville_1']\n",
    "        elif (min_weight > road['poids'] or  min_weight == -1) and (road[\"id_ville_1\"] == node or road[\"id_ville_2\"] == node):\n",
    "            min_weight = road['poids']\n",
    "            next_node = road['id_ville_1'] if road[\"id_ville_2\"] == node else road['id_ville_2']\n",
    "\n",
    "    return next_node"
   ],
   "metadata": {
    "collapsed": false,
    "pycharm": {
     "name": "#%%\n"
    }
   }
  },
  {
   "cell_type": "markdown",
   "source": [
    "## Tests"
   ],
   "metadata": {
    "collapsed": false
   }
  },
  {
   "cell_type": "code",
   "execution_count": 9,
   "outputs": [],
   "source": [
    "#circuits_per_type = create_circuits([num_clients_FR, num_clients_PA, num_clients_PR], [roads_FR, roads_PA, roads_PR], k)\n",
    "\n",
    "\n"
   ],
   "metadata": {
    "collapsed": false,
    "pycharm": {
     "name": "#%%\n"
    }
   }
  },
  {
   "cell_type": "code",
   "execution_count": 259,
   "outputs": [
    {
     "name": "stdout",
     "output_type": "stream",
     "text": [
      "[156, 187, 176]\n",
      "0\n",
      "===================================================================================\n",
      "[[0, 842, 137, 943, 485, 112, 18, 104, 563, 543, 900, 68, 132, 0], 671]\n",
      "[[0, 702, 463, 171, 875, 580, 483, 681, 903, 71, 623, 707, 478, 0], 502]\n",
      "[[0, 393, 935, 86, 447, 873, 159, 87, 493, 424, 958, 97, 0], 354]\n",
      "[[0, 507, 561, 21, 951, 847, 395, 324, 445, 700, 8, 53, 0], 670]\n",
      "[[0, 836, 127, 993, 437, 420, 666, 436, 252, 94, 833, 886, 0], 606]\n",
      "[[0, 255, 540, 520, 522, 203, 308, 211, 968, 319, 10, 79, 0], 618]\n",
      "[[0, 848, 974, 655, 381, 721, 787, 345, 591, 130, 544, 838, 0], 666]\n",
      "[[0, 156, 74, 627, 207, 516, 530, 569, 192, 290, 15, 287, 0], 779]\n",
      "[[0, 762, 758, 351, 69, 229, 521, 305, 532, 647, 556, 214, 0], 519]\n",
      "[[0, 513, 427, 747, 188, 473, 384, 468, 230, 678, 131, 679, 0], 447]\n",
      "[[0, 275, 788, 609, 262, 786, 222, 16, 99, 169, 598, 356, 0], 864]\n",
      "[[0, 810, 259, 799, 829, 553, 452, 376, 524, 476, 84, 651, 0], 823]\n",
      "[[0, 734, 880, 14, 363, 790, 621, 43, 88, 839, 897, 258, 0], 908]\n",
      "[[0, 919, 1, 939, 285, 884, 806, 506, 0], 605]\n",
      "[[0, 415, 400, 726, 176, 0], 1239]\n",
      "1\n",
      "===================================================================================\n",
      "[[0, 392, 615, 138, 12, 448, 218, 979, 237, 902, 727, 434, 785, 0], 601]\n",
      "[[0, 646, 433, 183, 860, 960, 595, 422, 779, 783, 819, 891, 660, 0], 721]\n",
      "[[0, 323, 328, 198, 849, 724, 168, 329, 232, 2, 534, 341, 375, 0], 720]\n",
      "[[0, 432, 27, 111, 662, 283, 407, 973, 661, 531, 36, 405, 362, 0], 506]\n",
      "[[0, 853, 401, 141, 429, 110, 811, 874, 831, 579, 153, 944, 954, 0], 310]\n",
      "[[0, 482, 291, 869, 717, 274, 282, 969, 694, 56, 959, 864, 293, 0], 405]\n",
      "[[0, 964, 470, 716, 163, 353, 83, 789, 240, 180, 288, 601, 225, 0], 900]\n",
      "[[0, 978, 742, 41, 861, 641, 546, 92, 622, 913, 335, 594, 145, 0], 443]\n",
      "[[0, 13, 912, 940, 151, 217, 610, 455, 765, 519, 302, 719, 757, 0], 555]\n",
      "[[0, 338, 238, 576, 820, 31, 260, 768, 339, 744, 467, 689, 816, 0], 739]\n",
      "[[0, 126, 844, 154, 403, 246, 330, 566, 793, 618, 73, 937, 892, 0], 500]\n",
      "[[0, 77, 548, 941, 967, 823, 175, 989, 517, 418, 883, 545, 0], 726]\n",
      "[[0, 89, 582, 300, 797, 133, 663, 578, 539, 350, 927, 496, 0], 797]\n",
      "[[0, 648, 321, 450, 361, 390, 868, 304, 649, 602, 850, 228, 0], 612]\n",
      "[[0, 85, 122, 687, 552, 299, 451, 766, 444, 219, 354, 389, 0], 661]\n",
      "[[0, 604, 626, 991, 136, 624, 296, 386, 0], 536]\n",
      "[[0, 318, 589, 81, 199, 0], 1299]\n",
      "2\n",
      "===================================================================================\n",
      "[[0, 995, 52, 619, 492, 701, 657, 413, 720, 809, 431, 284, 0], 453]\n",
      "[[0, 497, 607, 825, 348, 178, 613, 871, 155, 581, 988, 446, 0], 407]\n",
      "[[0, 144, 538, 644, 325, 182, 70, 123, 852, 398, 693, 603, 0], 622]\n",
      "[[0, 983, 600, 309, 460, 281, 358, 956, 147, 438, 276, 822, 0], 678]\n",
      "[[0, 837, 461, 938, 54, 189, 677, 759, 565, 760, 879, 396, 0], 539]\n",
      "[[0, 784, 326, 755, 800, 315, 792, 1000, 982, 294, 380, 236, 0], 399]\n",
      "[[0, 596, 872, 827, 397, 256, 965, 502, 47, 571, 885, 0], 569]\n",
      "[[0, 19, 349, 685, 58, 40, 931, 990, 239, 536, 761, 0], 799]\n",
      "[[0, 606, 896, 490, 273, 612, 732, 737, 272, 377, 216, 0], 370]\n",
      "[[0, 472, 368, 442, 25, 945, 173, 226, 469, 355, 865, 0], 659]\n",
      "[[0, 379, 204, 668, 412, 930, 567, 78, 369, 72, 498, 0], 565]\n",
      "[[0, 160, 477, 7, 770, 962, 499, 297, 179, 915, 172, 0], 600]\n",
      "[[0, 750, 802, 526, 408, 638, 767, 388, 402, 414, 261, 0], 506]\n",
      "[[0, 575, 378, 140, 957, 905, 124, 113, 572, 805, 286, 0], 504]\n",
      "[[0, 435, 577, 738, 769, 486, 656, 55, 264, 17, 684, 0], 676]\n",
      "[[0, 815, 9, 870, 878, 186, 776, 714, 559, 658, 410, 0], 529]\n",
      "[[0, 881, 30, 454, 682, 713, 730, 0], 702]\n",
      "[[0, 170, 888, 360, 745, 0], 1008]\n",
      "5.620804900001531\n",
      "[[[0, 842, 137, 943, 485, 112, 18, 104, 563, 543, 900, 68, 132, 0], 671], [[0, 702, 463, 171, 875, 580, 483, 681, 903, 71, 623, 707, 478, 0], 502], [[0, 393, 935, 86, 447, 873, 159, 87, 493, 424, 958, 97, 0], 354], [[0, 507, 561, 21, 951, 847, 395, 324, 445, 700, 8, 53, 0], 670], [[0, 836, 127, 993, 437, 420, 666, 436, 252, 94, 833, 886, 0], 606], [[0, 255, 540, 520, 522, 203, 308, 211, 968, 319, 10, 79, 0], 618], [[0, 848, 974, 655, 381, 721, 787, 345, 591, 130, 544, 838, 0], 666], [[0, 156, 74, 627, 207, 516, 530, 569, 192, 290, 15, 287, 0], 779], [[0, 762, 758, 351, 69, 229, 521, 305, 532, 647, 556, 214, 0], 519], [[0, 513, 427, 747, 188, 473, 384, 468, 230, 678, 131, 679, 0], 447], [[0, 275, 788, 609, 262, 786, 222, 16, 99, 169, 598, 356, 0], 864], [[0, 810, 259, 799, 829, 553, 452, 376, 524, 476, 84, 651, 0], 823], [[0, 734, 880, 14, 363, 790, 621, 43, 88, 839, 897, 258, 0], 908], [[0, 919, 1, 939, 285, 884, 806, 506, 0], 605], [[0, 415, 400, 726, 176, 0], 1239], [[0, 392, 615, 138, 12, 448, 218, 979, 237, 902, 727, 434, 785, 0], 601], [[0, 646, 433, 183, 860, 960, 595, 422, 779, 783, 819, 891, 660, 0], 721], [[0, 323, 328, 198, 849, 724, 168, 329, 232, 2, 534, 341, 375, 0], 720], [[0, 432, 27, 111, 662, 283, 407, 973, 661, 531, 36, 405, 362, 0], 506], [[0, 853, 401, 141, 429, 110, 811, 874, 831, 579, 153, 944, 954, 0], 310], [[0, 482, 291, 869, 717, 274, 282, 969, 694, 56, 959, 864, 293, 0], 405], [[0, 964, 470, 716, 163, 353, 83, 789, 240, 180, 288, 601, 225, 0], 900], [[0, 978, 742, 41, 861, 641, 546, 92, 622, 913, 335, 594, 145, 0], 443], [[0, 13, 912, 940, 151, 217, 610, 455, 765, 519, 302, 719, 757, 0], 555], [[0, 338, 238, 576, 820, 31, 260, 768, 339, 744, 467, 689, 816, 0], 739], [[0, 126, 844, 154, 403, 246, 330, 566, 793, 618, 73, 937, 892, 0], 500], [[0, 77, 548, 941, 967, 823, 175, 989, 517, 418, 883, 545, 0], 726], [[0, 89, 582, 300, 797, 133, 663, 578, 539, 350, 927, 496, 0], 797], [[0, 648, 321, 450, 361, 390, 868, 304, 649, 602, 850, 228, 0], 612], [[0, 85, 122, 687, 552, 299, 451, 766, 444, 219, 354, 389, 0], 661], [[0, 604, 626, 991, 136, 624, 296, 386, 0], 536], [[0, 318, 589, 81, 199, 0], 1299], [[0, 995, 52, 619, 492, 701, 657, 413, 720, 809, 431, 284, 0], 453], [[0, 497, 607, 825, 348, 178, 613, 871, 155, 581, 988, 446, 0], 407], [[0, 144, 538, 644, 325, 182, 70, 123, 852, 398, 693, 603, 0], 622], [[0, 983, 600, 309, 460, 281, 358, 956, 147, 438, 276, 822, 0], 678], [[0, 837, 461, 938, 54, 189, 677, 759, 565, 760, 879, 396, 0], 539], [[0, 784, 326, 755, 800, 315, 792, 1000, 982, 294, 380, 236, 0], 399], [[0, 596, 872, 827, 397, 256, 965, 502, 47, 571, 885, 0], 569], [[0, 19, 349, 685, 58, 40, 931, 990, 239, 536, 761, 0], 799], [[0, 606, 896, 490, 273, 612, 732, 737, 272, 377, 216, 0], 370], [[0, 472, 368, 442, 25, 945, 173, 226, 469, 355, 865, 0], 659], [[0, 379, 204, 668, 412, 930, 567, 78, 369, 72, 498, 0], 565], [[0, 160, 477, 7, 770, 962, 499, 297, 179, 915, 172, 0], 600], [[0, 750, 802, 526, 408, 638, 767, 388, 402, 414, 261, 0], 506], [[0, 575, 378, 140, 957, 905, 124, 113, 572, 805, 286, 0], 504], [[0, 435, 577, 738, 769, 486, 656, 55, 264, 17, 684, 0], 676], [[0, 815, 9, 870, 878, 186, 776, 714, 559, 658, 410, 0], 529], [[0, 881, 30, 454, 682, 713, 730, 0], 702], [[0, 170, 888, 360, 745, 0], 1008]]\n",
      "[0, 842, 137, 943, 485, 112, 18, 104, 563, 543, 900, 68, 132, 0]\n",
      "[0, 702, 463, 171, 875, 580, 483, 681, 903, 71, 623, 707, 478, 0]\n",
      "[0, 393, 935, 86, 447, 873, 159, 87, 493, 424, 958, 97, 0]\n",
      "[0, 507, 561, 21, 951, 847, 395, 324, 445, 700, 8, 53, 0]\n",
      "[0, 836, 127, 993, 437, 420, 666, 436, 252, 94, 833, 886, 0]\n",
      "[0, 255, 540, 520, 522, 203, 308, 211, 968, 319, 10, 79, 0]\n",
      "[0, 848, 974, 655, 381, 721, 787, 345, 591, 130, 544, 838, 0]\n",
      "[0, 156, 74, 627, 207, 516, 530, 569, 192, 290, 15, 287, 0]\n",
      "[0, 762, 758, 351, 69, 229, 521, 305, 532, 647, 556, 214, 0]\n",
      "[0, 513, 427, 747, 188, 473, 384, 468, 230, 678, 131, 679, 0]\n",
      "[0, 275, 788, 609, 262, 786, 222, 16, 99, 169, 598, 356, 0]\n",
      "[0, 810, 259, 799, 829, 553, 452, 376, 524, 476, 84, 651, 0]\n",
      "[0, 734, 880, 14, 363, 790, 621, 43, 88, 839, 897, 258, 0]\n",
      "[0, 919, 1, 939, 285, 884, 806, 506, 0]\n",
      "[0, 415, 400, 726, 176, 0]\n",
      "[0, 392, 615, 138, 12, 448, 218, 979, 237, 902, 727, 434, 785, 0]\n",
      "[0, 646, 433, 183, 860, 960, 595, 422, 779, 783, 819, 891, 660, 0]\n",
      "[0, 323, 328, 198, 849, 724, 168, 329, 232, 2, 534, 341, 375, 0]\n",
      "[0, 432, 27, 111, 662, 283, 407, 973, 661, 531, 36, 405, 362, 0]\n",
      "[0, 853, 401, 141, 429, 110, 811, 874, 831, 579, 153, 944, 954, 0]\n",
      "[0, 482, 291, 869, 717, 274, 282, 969, 694, 56, 959, 864, 293, 0]\n",
      "[0, 964, 470, 716, 163, 353, 83, 789, 240, 180, 288, 601, 225, 0]\n",
      "[0, 978, 742, 41, 861, 641, 546, 92, 622, 913, 335, 594, 145, 0]\n",
      "[0, 13, 912, 940, 151, 217, 610, 455, 765, 519, 302, 719, 757, 0]\n",
      "[0, 338, 238, 576, 820, 31, 260, 768, 339, 744, 467, 689, 816, 0]\n",
      "[0, 126, 844, 154, 403, 246, 330, 566, 793, 618, 73, 937, 892, 0]\n",
      "[0, 77, 548, 941, 967, 823, 175, 989, 517, 418, 883, 545, 0]\n",
      "[0, 89, 582, 300, 797, 133, 663, 578, 539, 350, 927, 496, 0]\n",
      "[0, 648, 321, 450, 361, 390, 868, 304, 649, 602, 850, 228, 0]\n",
      "[0, 85, 122, 687, 552, 299, 451, 766, 444, 219, 354, 389, 0]\n",
      "[0, 604, 626, 991, 136, 624, 296, 386, 0]\n",
      "[0, 318, 589, 81, 199, 0]\n",
      "[0, 995, 52, 619, 492, 701, 657, 413, 720, 809, 431, 284, 0]\n",
      "[0, 497, 607, 825, 348, 178, 613, 871, 155, 581, 988, 446, 0]\n",
      "[0, 144, 538, 644, 325, 182, 70, 123, 852, 398, 693, 603, 0]\n",
      "[0, 983, 600, 309, 460, 281, 358, 956, 147, 438, 276, 822, 0]\n",
      "[0, 837, 461, 938, 54, 189, 677, 759, 565, 760, 879, 396, 0]\n",
      "[0, 784, 326, 755, 800, 315, 792, 1000, 982, 294, 380, 236, 0]\n",
      "[0, 596, 872, 827, 397, 256, 965, 502, 47, 571, 885, 0]\n",
      "[0, 19, 349, 685, 58, 40, 931, 990, 239, 536, 761, 0]\n",
      "[0, 606, 896, 490, 273, 612, 732, 737, 272, 377, 216, 0]\n",
      "[0, 472, 368, 442, 25, 945, 173, 226, 469, 355, 865, 0]\n",
      "[0, 379, 204, 668, 412, 930, 567, 78, 369, 72, 498, 0]\n",
      "[0, 160, 477, 7, 770, 962, 499, 297, 179, 915, 172, 0]\n",
      "[0, 750, 802, 526, 408, 638, 767, 388, 402, 414, 261, 0]\n",
      "[0, 575, 378, 140, 957, 905, 124, 113, 572, 805, 286, 0]\n",
      "[0, 435, 577, 738, 769, 486, 656, 55, 264, 17, 684, 0]\n",
      "[0, 815, 9, 870, 878, 186, 776, 714, 559, 658, 410, 0]\n",
      "[0, 881, 30, 454, 682, 713, 730, 0]\n",
      "[0, 170, 888, 360, 745, 0]\n",
      "519\n"
     ]
    },
    {
     "data": {
      "text/plain": "<Figure size 1080x360 with 1 Axes>",
      "image/png": "[encoded data removed]"
     },
     "metadata": {
      "needs_background": "light"
     },
     "output_type": "display_data"
    }
   ],
   "source": [
    "final = []\n",
    "n = 5\n",
    "it = 250\n",
    "k = 50\n",
    "ts = 80\n",
    "\n",
    "roads_all = [roads_FR, roads_PA, roads_PR]\n",
    "circuits_per_type = create_circuits([num_clients_FR, num_clients_PA, num_clients_PR], roads_all, k)\n",
    "\n",
    "colors = ['red', 'green', 'blue']\n",
    "\n",
    "start = time.perf_counter()\n",
    "plt.figure(figsize=(15,5))\n",
    "for i, circuits in enumerate(circuits_per_type):\n",
    "    print(i)\n",
    "    print(\"===================================================================================\")\n",
    "\n",
    "    for j, circuit in enumerate(circuits):\n",
    "        roads_content = import_roads(circuit.copy(), roads_all[i])\n",
    "        roads_header = {}\n",
    "        for idx, r in enumerate(roads_content):\n",
    "            roads_header[r[\"route\"]] = idx\n",
    "\n",
    "        final.append(tabu_multi_start(n, it, circuit.copy(), roads_content, roads_header, ts))\n",
    "        print(final[-1])\n",
    "        plt.xlabel(\"temps\", fontsize=16)\n",
    "        plt.ylabel(\"nb de points\", fontsize=16)\n",
    "        plt.scatter(final[-1][1], len(final[-1][0]), color=colors[i],)\n",
    "\n",
    "print(time.perf_counter() - start)\n",
    "print(final)\n",
    "\n",
    "tot = 0\n",
    "\n",
    "for i in final:\n",
    "    print(i[0])\n",
    "    tot += len(i[0]) - 2\n",
    "\n",
    "print(tot)"
   ],
   "metadata": {
    "collapsed": false,
    "pycharm": {
     "name": "#%%\n"
    }
   }
  }
 ],
 "metadata": {
  "kernelspec": {
   "name": "learningml",
   "language": "python",
   "display_name": "Python (learningML)"
  },
  "language_info": {
   "codemirror_mode": {
    "name": "ipython",
    "version": 2
   },
   "file_extension": ".py",
   "mimetype": "text/x-python",
   "name": "python",
   "nbconvert_exporter": "python",
   "pygments_lexer": "ipython2",
   "version": "2.7.6"
  }
 },
 "nbformat": 4,
 "nbformat_minor": 0
}