{
 "cells": [
  {
   "cell_type": "markdown",
   "metadata": {
    "collapsed": true,
    "pycharm": {
     "name": "#%% md\n"
    }
   },
   "source": [
    "## Initialisation"
   ]
  },
  {
   "cell_type": "code",
   "execution_count": 141,
   "outputs": [],
   "source": [
    "import random\n",
    "import time\n",
    "import pprint\n",
    "import copy\n",
    "\n",
    "from matplotlib import pyplot as plt\n",
    "from pymongo import MongoClient\n",
    "import numpy as np\n",
    "\n",
    "\n",
    "# Init\n",
    "mongo = MongoClient('localhost', 27017)\n",
    "db = mongo['citeos']\n",
    "collection_villes = db['villes']\n",
    "collection_routes = db['routes']\n",
    "collection_clients = db['clients']\n",
    "\n",
    "num_clients_FR = list(map(lambda x: x['id_client'], collection_clients.aggregate([{\"$match\" : {'est_client': True, 'type': 'frais'}}])))\n",
    "num_clients_PA = list(map(lambda x: x['id_client'], collection_clients.aggregate([{\"$match\" : {'est_client': True, 'type': 'particulier'}}])))\n",
    "num_clients_PR = list(map(lambda x: x['id_client'], collection_clients.aggregate([{\"$match\" : {'est_client': True, 'type': 'prisonnier'}}])))\n",
    "\n",
    "num_clients_FR.append(0)\n",
    "num_clients_PA.append(0)\n",
    "num_clients_PR.append(0)\n",
    "\n",
    "roads_FR = np.array(list(collection_routes.find({'id_ville_1': {'$in': num_clients_FR}, 'id_ville_2': {'$in': num_clients_FR}})))\n",
    "roads_PA = np.array(list(collection_routes.find({'id_ville_1': {'$in': num_clients_PA}, 'id_ville_2': {'$in': num_clients_PA}})))\n",
    "roads_PR = np.array(list(collection_routes.find({'id_ville_1': {'$in': num_clients_PR}, 'id_ville_2': {'$in': num_clients_PR}})))\n",
    "\n",
    "num_clients_FR.remove(0)\n",
    "num_clients_PA.remove(0)\n",
    "num_clients_PR.remove(0)"
   ],
   "metadata": {
    "collapsed": false,
    "pycharm": {
     "name": "#%%\n"
    }
   }
  },
  {
   "cell_type": "markdown",
   "source": [
    "## Fonction Voisin"
   ],
   "metadata": {
    "collapsed": false
   }
  },
  {
   "cell_type": "code",
   "execution_count": 142,
   "outputs": [
    {
     "name": "stdout",
     "output_type": "stream",
     "text": [
      "origine : [ 0  2 18 20 32 37  0]\n",
      "voisin  : [ 0 18  2 20 32 37  0]\n",
      "voisin  : [ 0  2 20 18 32 37  0]\n",
      "voisin  : [ 0  2 18 32 20 37  0]\n",
      "voisin  : [ 0  2 18 20 37 32  0]\n"
     ]
    }
   ],
   "source": [
    "def neighborhood(circuit):\n",
    "    \"\"\"\n",
    "    Cette fonction est un generateur de tous les voisins valides d'une solution\n",
    "    \"\"\"\n",
    "    for i in range (1, len(circuit) - 2):\n",
    "        neighbor_circuit = copy.deepcopy(circuit)\n",
    "        neighbor_circuit[i], neighbor_circuit[i + 1] = neighbor_circuit[i + 1], neighbor_circuit[i]\n",
    "        yield neighbor_circuit\n",
    "\n",
    "test_circuit = np.array([0,2,18,20,32,37,0], dtype=int)\n",
    "print(f'origine : {test_circuit}')\n",
    "for n in neighborhood(test_circuit):\n",
    "    print(f'voisin  : {n}')"
   ],
   "metadata": {
    "collapsed": false,
    "pycharm": {
     "name": "#%%\n"
    }
   }
  },
  {
   "cell_type": "markdown",
   "source": [
    "## Fonction Recuperation Routes"
   ],
   "metadata": {
    "collapsed": false
   }
  },
  {
   "cell_type": "code",
   "execution_count": 143,
   "outputs": [],
   "source": [
    "def import_roads(cities):\n",
    "    cities = np.insert(cities, 0, 0)\n",
    "    return np.array(list(collection_routes.find({'id_ville_1': {'$in': cities.tolist()}, 'id_ville_2': {'$in': cities.tolist()}})))"
   ],
   "metadata": {
    "collapsed": false,
    "pycharm": {
     "name": "#%%\n"
    }
   }
  },
  {
   "cell_type": "markdown",
   "source": [
    "## Fonction Score"
   ],
   "metadata": {
    "collapsed": false
   }
  },
  {
   "cell_type": "code",
   "execution_count": 144,
   "outputs": [
    {
     "name": "stdout",
     "output_type": "stream",
     "text": [
      "1028\n",
      "835\n"
     ]
    }
   ],
   "source": [
    "def circuit_score(circuit, roads):\n",
    "    \"\"\"\n",
    "    Cette fonction retourne le score d'un circuit eulerien, cela permettra de comparer les differents voisins entre eux\n",
    "    \"\"\"\n",
    "    score = 0\n",
    "    for i in range(0, len(circuit) - 1):\n",
    "        #on recupere la bonne route\n",
    "        road = next(item for item in roads if (item[\"id_ville_1\"] == circuit[i] and item[\"id_ville_2\"] == circuit[i + 1]) or (item[\"id_ville_1\"] == circuit[i + 1] and item[\"id_ville_2\"] == circuit[i]))\n",
    "        #on verifie si la route est oriente ou non, si oui, on cherche le bon sens\n",
    "        if road['est_oriente']: score += road['poids_1'] if road['id_ville_1'] == circuit[i] else road['poids_2']\n",
    "        else: score += road['poids']\n",
    "    return score\n",
    "\n",
    "test_circuit = np.array([2,18,20,32,37], dtype=int)\n",
    "test_roads = import_roads(test_circuit)\n",
    "\n",
    "for neighbor in neighborhood(test_circuit):\n",
    "    print(circuit_score(neighbor, test_roads))"
   ],
   "metadata": {
    "collapsed": false,
    "pycharm": {
     "name": "#%%\n"
    }
   }
  },
  {
   "cell_type": "markdown",
   "source": [
    "## Recherche Tabou"
   ],
   "metadata": {
    "collapsed": false
   }
  },
  {
   "cell_type": "code",
   "execution_count": 145,
   "outputs": [
    {
     "name": "stdout",
     "output_type": "stream",
     "text": [
      "[20  2 44 32 48 18 37 52 70]\n"
     ]
    },
    {
     "data": {
      "text/plain": "<Figure size 432x288 with 1 Axes>",
      "image/png": "[encoded data removed]"
     },
     "metadata": {
      "needs_background": "light"
     },
     "output_type": "display_data"
    }
   ],
   "source": [
    "def tabu_search(initial_circuit, tabu_size, max_iteration, actual_roads):\n",
    "    iteration = 1\n",
    "    tabu_list = list()\n",
    "    actual_circuit = copy.deepcopy(initial_circuit)\n",
    "\n",
    "    best_actual_circuit = copy.deepcopy(initial_circuit)\n",
    "    best_total_circuit = copy.deepcopy(initial_circuit)\n",
    "    best_total_value = circuit_score(best_total_circuit, actual_roads)\n",
    "\n",
    "    best_total_list = list()\n",
    "    best_actual_list = list()\n",
    "\n",
    "    while iteration <= max_iteration:\n",
    "        iteration += 1\n",
    "        best_actual_value = -1\n",
    "\n",
    "        # on parcourt les voisins de la solution courante\n",
    "        for neighbor in neighborhood(actual_circuit):\n",
    "            if (len(tabu_list) == 0 or not np.any(np.all(neighbor == tabu_list, axis=1))) and (circuit_score(neighbor, actual_roads) <= best_actual_value or best_actual_value == -1):\n",
    "                best_actual_value = circuit_score(neighbor, actual_roads)\n",
    "                best_actual_circuit = copy.deepcopy(neighbor)\n",
    "\n",
    "        # on met a jour la meilleur solution rencontree depuis le debut\n",
    "        if best_actual_value < best_total_value:\n",
    "            best_total_circuit = copy.deepcopy(best_actual_circuit)\n",
    "            best_total_value = best_actual_value\n",
    "\n",
    "        best_total_list.append(best_total_value)\n",
    "        best_actual_list.append(best_actual_value)\n",
    "\n",
    "        actual_circuit = copy.deepcopy(best_actual_circuit)\n",
    "\n",
    "        if len(tabu_list) >= tabu_size: tabu_list.pop(0)\n",
    "        tabu_list.append(copy.deepcopy(actual_circuit))\n",
    "\n",
    "    return best_total_circuit, best_total_list, best_actual_list\n",
    "\n",
    "\n",
    "test_circuit = np.array([20,18,2,32,37,44,48,52,70])\n",
    "\n",
    "\n",
    "best_circuit, bt, ba= tabu_search(test_circuit, 9, 50, import_roads(copy.deepcopy(test_circuit)))\n",
    "plt.xlabel(\"nb itérations\", fontsize=16)\n",
    "plt.ylabel(\"valeur\", fontsize=16)\n",
    "print(best_circuit)\n",
    "res = plt.plot(range(50), bt)\n",
    "res = plt.plot(range(50), ba)"
   ],
   "metadata": {
    "collapsed": false,
    "pycharm": {
     "name": "#%%\n"
    }
   }
  },
  {
   "cell_type": "markdown",
   "source": [
    "## Multi-start"
   ],
   "metadata": {
    "collapsed": false
   }
  },
  {
   "cell_type": "code",
   "execution_count": 146,
   "outputs": [],
   "source": [
    "def tabu_multi_start(number, iteration, shuffled, actual_roads):\n",
    "    best_local_score = -1\n",
    "    best_local_circuit = []\n",
    "    for i in range(0, number):\n",
    "        shuffled_circuit = np.r_[0, shuffled, 0]\n",
    "\n",
    "        bc, bt, ba= tabu_search(shuffled_circuit, 100, iteration, actual_roads)\n",
    "        actual_score = circuit_score(bc, actual_roads)\n",
    "\n",
    "        if best_local_score == -1 or actual_score < best_local_score:\n",
    "            best_local_score = actual_score\n",
    "            best_local_circuit = bc\n",
    "\n",
    "\n",
    "        np.random.shuffle(shuffled)\n",
    "    return best_local_circuit, best_local_score"
   ],
   "metadata": {
    "collapsed": false,
    "pycharm": {
     "name": "#%%\n"
    }
   }
  },
  {
   "cell_type": "markdown",
   "source": [
    "## Graphe vers circuits"
   ],
   "metadata": {
    "collapsed": false
   }
  },
  {
   "cell_type": "code",
   "execution_count": 147,
   "outputs": [],
   "source": [
    "def create_circuits(clients_list, roads_list, k):\n",
    "    total_of_clients = sum(len(client_list) for client_list in [num_clients_FR, num_clients_PA, num_clients_PR])\n",
    "    number_of_clients = [len(client_list) for client_list in [num_clients_FR, num_clients_PA, num_clients_PR]]\n",
    "    trucks_for_lists = [int(k * percentage) for percentage in [len(client_list) / total_of_clients for client_list in [num_clients_FR, num_clients_PA, num_clients_PR]]]\n",
    "    while sum(trucks_for_lists) != k: trucks_for_lists[random.randint(0, len(trucks_for_lists) - 1)] += 1\n",
    "\n",
    "    origins = [0,0,0]\n",
    "    clients_per_k = [noc // tfl for noc, tfl in zip(number_of_clients, trucks_for_lists)]\n",
    "    difference = [noc % cpk for noc, cpk in zip(number_of_clients, clients_per_k)]\n",
    "\n",
    "\n",
    "    best_circuits = [[] for _ in range (len(clients_list))]\n",
    "\n",
    "    for idx, client_list in enumerate(clients_list):\n",
    "        passed = [origins[idx],]\n",
    "        actual_node = random.choice(client_list)\n",
    "        for truck in range(0, trucks_for_lists[idx]):\n",
    "\n",
    "            truck_circuit = np.array([actual_node,])\n",
    "            passed.append(actual_node)\n",
    "\n",
    "            while len(truck_circuit) != clients_per_k[idx]:\n",
    "                truck_circuit = np.r_[truck_circuit, get_closer_node(truck_circuit[-1], roads_list[idx], passed)]\n",
    "                passed.append(truck_circuit[-1])\n",
    "\n",
    "            if difference[idx] > 0:\n",
    "                difference[idx] -= 1\n",
    "                truck_circuit = np.r_[truck_circuit, get_closer_node(truck_circuit[-1], roads_list[idx], passed)]\n",
    "                passed.append(truck_circuit[-1])\n",
    "\n",
    "            if len(truck_circuit) % 6 == 0:\n",
    "                actual_node = get_closer_node(truck_circuit[0], roads_list[idx], passed)\n",
    "            else:\n",
    "                actual_node = get_closer_node(truck_circuit[-1], roads_list[idx], passed)\n",
    "            best_circuits[idx].append(truck_circuit)\n",
    "    return best_circuits"
   ],
   "metadata": {
    "collapsed": false,
    "pycharm": {
     "name": "#%%\n"
    }
   }
  },
  {
   "cell_type": "markdown",
   "source": [
    "## Glouton"
   ],
   "metadata": {
    "collapsed": false
   }
  },
  {
   "cell_type": "code",
   "execution_count": 148,
   "outputs": [],
   "source": [
    "def get_closer_node(node, roads, ignored):\n",
    "    min_weight = -1\n",
    "    next_node = 0\n",
    "    roads = [r for r in roads if r[\"id_ville_1\"] not in ignored or r[\"id_ville_2\"] not in ignored]\n",
    "    for road in roads:\n",
    "        if road['est_oriente']:\n",
    "            if (road['id_ville_1'] == node) and (min_weight == -1 or min_weight > road['poids_1']):\n",
    "                min_weight = road['poids_1']\n",
    "                next_node = road['id_ville_2']\n",
    "            elif (road['id_ville_2'] == node) and (min_weight == -1 or min_weight > road['poids_2']):\n",
    "                min_weight = road['poids_2']\n",
    "                next_node = road['id_ville_1']\n",
    "        elif (min_weight > road['poids'] or  min_weight == -1) and (road[\"id_ville_1\"] == node or road[\"id_ville_2\"] == node):\n",
    "            min_weight = road['poids']\n",
    "            next_node = road['id_ville_1'] if road[\"id_ville_2\"] == node else road['id_ville_2']\n",
    "\n",
    "    return next_node"
   ],
   "metadata": {
    "collapsed": false,
    "pycharm": {
     "name": "#%%\n"
    }
   }
  },
  {
   "cell_type": "markdown",
   "source": [
    "## Tests"
   ],
   "metadata": {
    "collapsed": false
   }
  },
  {
   "cell_type": "code",
   "execution_count": 149,
   "outputs": [
    {
     "name": "stdout",
     "output_type": "stream",
     "text": [
      "[0 5 4 6 0]\n"
     ]
    }
   ],
   "source": [
    "shuffled_circuit = np.array([5,4,6])\n",
    "print(np.r_[0, shuffled_circuit, 0])\n",
    "#circuits_per_type = create_circuits([num_clients_FR, num_clients_PA, num_clients_PR], [roads_FR, roads_PA, roads_PR], k)\n",
    "\n",
    "\n"
   ],
   "metadata": {
    "collapsed": false,
    "pycharm": {
     "name": "#%%\n"
    }
   }
  },
  {
   "cell_type": "code",
   "execution_count": 150,
   "outputs": [
    {
     "name": "stdout",
     "output_type": "stream",
     "text": [
      "0\n",
      "===================================================================================\n",
      "[958 258  18 493 886 214 415 799 478 810]\n",
      "(array([  0, 258, 958,  18, 493, 886, 214, 415, 799, 478, 810,   0]), 574)\n",
      "[506 156 112 873 192 627 544 848 790 520]\n",
      "(array([  0, 520, 156, 506, 790, 848, 544, 627, 192, 873, 112,   0]), 383)\n",
      "[  1  79 262 308 176 127  87 702 290  84]\n",
      "(array([  0,   1,  79, 262, 308, 176, 127,  87, 702, 290,  84,   0]), 344)\n",
      "[463 188  53 287 829 522 842 839 252]\n",
      "(array([  0, 463, 188, 252, 839, 842, 522, 829,  53, 287,   0]), 941)\n",
      "[351 445 285  16  94 884   8 229 726]\n",
      "(array([  0, 351, 445, 285, 884,   8, 229, 726,  16,  94,   0]), 519)\n",
      "[452 806 787 563  69  68 384 561 734]\n",
      "(array([  0, 563, 787, 806, 452,  69,  68, 384, 561, 734,   0]), 293)\n",
      "[993 609 968 678 356 207  86 395  74]\n",
      "(array([  0, 609, 968, 678, 356, 207,  86, 395,  74, 993,   0]), 280)\n",
      "[132 598 436 569 556 363  99  14 305]\n",
      "(array([  0, 363,  99,  14, 305, 556, 569, 436, 598, 132,   0]), 408)\n",
      "[473 255 447 707 524 513 516 903 424]\n",
      "(array([  0, 424, 903, 516, 513, 524, 707, 473, 255, 447,   0]), 582)\n",
      "[ 71 836 468 580 951 875 747 786 655]\n",
      "(array([  0, 580, 468, 836,  71, 951, 875, 747, 786, 655,   0]), 280)\n",
      "[171 507 621 131 211 530 275 623 651]\n",
      "(array([  0, 651, 623, 171, 507, 621, 131, 211, 530, 275,   0]), 781)\n",
      "[483 681 762 521  43 540 345 900 476]\n",
      "(array([  0, 483, 681, 762, 521,  43, 540, 345, 900, 476,   0]), 584)\n",
      "[919  15 437 104  88 420 137 666 381]\n",
      "(array([  0, 420, 137, 666, 381, 437, 104,  88, 919,  15,   0]), 601)\n",
      "[721 376 393 943 319 897 880 130 532]\n",
      "(array([  0, 393, 943, 319, 897, 880, 532, 130, 721, 376,   0]), 636)\n",
      "[159  21 543 169 400 230  10 222 833]\n",
      "(array([  0, 169, 543,  21, 159, 400, 230,  10, 222, 833,   0]), 379)\n",
      "[788 935 679 485 203 427 259 847 700]\n",
      "(array([  0, 203, 700, 847, 788, 935, 679, 485, 427, 259,   0]), 1084)\n",
      "1\n",
      "===================================================================================\n",
      "[744 937 687 853 545 361  92 517 797  73 850]\n",
      "(array([  0, 744, 937, 687, 853, 545, 361,  92, 517, 797,  73, 850,   0]), 327)\n",
      "[ 27 991 304 338 448 694 868  56 422 434  31]\n",
      "(array([  0,  27, 991, 304, 338, 448, 694, 868,  56, 422, 434,  31,   0]), 496)\n",
      "[967 941 330 589 240 362 335 110 138 432 175]\n",
      "(array([  0, 967, 941, 330, 589, 240, 362, 335, 175, 110, 138, 432,   0]), 541)\n",
      "[579 595 944 860 819 566 823 418 689   2 237]\n",
      "(array([  0, 579, 595, 823, 418, 689,   2, 237, 944, 860, 819, 566,   0]), 641)\n",
      "[874 470 228 602 844 375 892 183 624 940 318]\n",
      "(array([  0, 874, 470, 228, 602, 844, 375, 892, 183, 624, 940, 318,   0]), 317)\n",
      "[219 217 912 757 133 765 225 392 451 467  77]\n",
      "(array([  0, 467,  77, 219, 217, 912, 757, 225, 392, 451, 133, 765,   0]), 427)\n",
      "[793 238 626 820 546 742 405 232 328 429 548]\n",
      "(array([  0, 820, 626, 238, 793, 546, 742, 405, 232, 328, 548, 429,   0]), 816)\n",
      "[959 816 716 989 883 768 779 341 727  13]\n",
      "(array([  0, 883,  13, 727, 716, 989, 768, 779, 341, 959, 816,   0]), 549)\n",
      "[350 648 283 969 534 291 153 927 126 891]\n",
      "(array([  0, 350, 648, 283, 969, 534, 291, 153, 927, 126, 891,   0]), 744)\n",
      "[604 531 661 323 913 849 719 354 450 594]\n",
      "(array([  0, 604, 531, 661, 323, 913, 849, 719, 354, 450, 594,   0]), 801)\n",
      "[576 663 407 154 111 199 168 601 145 274]\n",
      "(array([  0, 407, 154, 576, 663, 274, 145, 601, 111, 199, 168,   0]), 559)\n",
      "[861 789 646 660 444 954 300  12 141 831]\n",
      "(array([  0, 660, 646, 789, 861, 444, 831, 141,  12, 300, 954,   0]), 556)\n",
      "[ 83 578 582 902 433 353 180 979 163 622]\n",
      "(array([  0, 902, 582, 578,  83, 433, 163, 622, 353, 180, 979,   0]), 552)\n",
      "[455 811 260 390 296 403 321 783 288 869]\n",
      "(array([  0, 811, 455, 783, 260, 390, 296, 403, 321, 869, 288,   0]), 573)\n",
      "[339 864 329 641 389 964 785 218 482 299]\n",
      "(array([  0, 641, 339, 864, 329, 299, 389, 964, 785, 218, 482,   0]), 781)\n",
      "[973 151 198 386 302 717 282 519 978 246]\n",
      "(array([  0, 973, 151, 519, 282, 717, 302, 386, 198, 246, 978,   0]), 363)\n",
      "[122  36  89  85 552 615 496 662 618 960]\n",
      "(array([  0, 618, 960,  36, 122, 662,  89,  85, 552, 615, 496,   0]), 710)\n",
      "[766 401 136 539 724  81  41 293 649 610]\n",
      "(array([  0,  81, 724, 539, 136, 401,  41, 293, 649, 766, 610,   0]), 1394)\n",
      "2\n",
      "===================================================================================\n",
      "[581 809   7 677 684 571 837 567 885 124  47]\n",
      "(array([  0, 581, 809,   7, 677, 684, 571, 837, 567, 885, 124,  47,   0]), 577)\n",
      "[369 497 256 502 477 410 888 995 931 956 226]\n",
      "(array([  0, 888, 995, 502, 477, 410, 226, 956, 931, 369, 497, 256,   0]), 590)\n",
      "[186 435 349 682 204 461 988 360 236 896 179]\n",
      "(array([  0, 435, 186, 349, 682, 204, 461, 988, 360, 236, 896, 179,   0]), 548)\n",
      "[720 759 284 264 559 577 538 325  25 745 870]\n",
      "(array([  0, 264, 559, 284, 870, 720, 745,  25, 325, 538, 577, 759,   0]), 556)\n",
      "[905 380 822 827 182 281 155 776 737 377 613]\n",
      "(array([  0, 827, 822, 905, 380, 155, 776, 182, 281, 613, 377, 737,   0]), 848)\n",
      "[  9 656 619 273 644 315 431 755 612 945 750]\n",
      "(array([  0, 619, 273, 644, 315, 431, 612, 945, 750,   9, 656, 755,   0]), 578)\n",
      "[397  70  54 498 915 309 784  52 938  72 454]\n",
      "(array([  0, 397,  70,  54, 498, 915, 309, 784,  52, 938,  72, 454,   0]), 725)\n",
      "[172 490 358 472  40 638 113 379 983 565 413]\n",
      "(array([  0, 172, 490, 358, 472,  40, 113, 379, 983, 565, 413, 638,   0]), 685)\n",
      "[492 600 965 526 261 326 486 123  30 871 499]\n",
      "(array([  0,  30, 871, 499, 965, 600, 492, 261, 526, 123, 486, 326,   0]), 697)\n",
      "[815 881  19 761  17 760 657 802 606  78 603]\n",
      "(array([  0, 881, 815,  19, 761,  17, 760, 657, 802,  78, 603, 606,   0]), 468)\n",
      "[396 355 607 575 442 769 160 348 714 878 469]\n",
      "(array([  0, 396, 355, 607, 575, 160, 769, 442, 469, 878, 714, 348,   0]), 520)\n",
      "[865 408 962 770 990 286 792 297 144 189 388]\n",
      "(array([  0, 990, 286, 388, 189, 297, 792, 770, 865, 408, 962, 144,   0]), 750)\n",
      "[ 55 767 658 693 701 276 239 294 173 732 872]\n",
      "(array([  0,  55, 767, 658, 693, 701, 276, 239, 294, 872, 732, 173,   0]), 449)\n",
      "[852 730 713 800 668 930 178 460 879 957 446]\n",
      "(array([  0, 852, 730, 713, 446, 957, 879, 460, 178, 930, 668, 800,   0]), 672)\n",
      "[272 140 378 398 805 414 412 685 982  58 738]\n",
      "(array([  0, 738, 272, 140, 378, 398, 805, 414, 412, 685, 982,  58,   0]), 795)\n",
      "[1000  170  596  147  402  536  368  825  438  216  572]\n",
      "(array([   0,  170, 1000,  596,  147,  402,  536,  368,  825,  438,  216,\n",
      "        572,    0]), 1154)\n",
      "219.86904050000066\n"
     ]
    },
    {
     "data": {
      "text/plain": "<Figure size 1080x360 with 1 Axes>",
      "image/png": "[encoded data removed]"
     },
     "metadata": {
      "needs_background": "light"
     },
     "output_type": "display_data"
    }
   ],
   "source": [
    "final = []\n",
    "n = 6\n",
    "it = 200\n",
    "k = 50\n",
    "\n",
    "\n",
    "start = time.perf_counter()\n",
    "\n",
    "roads_all = [roads_FR, roads_PA, roads_PR]\n",
    "circuits_per_type = create_circuits([num_clients_FR, num_clients_PA, num_clients_PR], roads_all, k)\n",
    "\n",
    "colors = ['red', 'green', 'blue']\n",
    "\n",
    "plt.figure(figsize=(15,5))\n",
    "for i, circuits in enumerate(circuits_per_type):\n",
    "    print(i)\n",
    "    print(\"===================================================================================\")\n",
    "    for j, circuit in enumerate(circuits):\n",
    "        print(circuit)\n",
    "        final.append(tabu_multi_start(n, it, copy.deepcopy(circuit), import_roads(copy.deepcopy(circuit))))\n",
    "        print(final[-1])\n",
    "        plt.xlabel(\"temps\", fontsize=16)\n",
    "        plt.ylabel(\"nb de points\", fontsize=16)\n",
    "        plt.scatter(final[-1][1], len(final[-1][0]), color=colors[i],)\n",
    "\n",
    "print(time.perf_counter() - start)\n",
    "#print(final)"
   ],
   "metadata": {
    "collapsed": false,
    "pycharm": {
     "name": "#%%\n"
    }
   }
  }
 ],
 "metadata": {
  "kernelspec": {
   "name": "learningml",
   "language": "python",
   "display_name": "Python (learningML)"
  },
  "language_info": {
   "codemirror_mode": {
    "name": "ipython",
    "version": 2
   },
   "file_extension": ".py",
   "mimetype": "text/x-python",
   "name": "python",
   "nbconvert_exporter": "python",
   "pygments_lexer": "ipython2",
   "version": "2.7.6"
  }
 },
 "nbformat": 4,
 "nbformat_minor": 0
}